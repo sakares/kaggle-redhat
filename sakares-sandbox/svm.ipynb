{
 "cells": [
  {
   "cell_type": "markdown",
   "metadata": {},
   "source": [
    "# Implementing a Support Vector Machine Classifier\n",
    "Simple SVM implementation for redhat dataset"
   ]
  },
  {
   "cell_type": "code",
   "execution_count": 1,
   "metadata": {
    "collapsed": false
   },
   "outputs": [],
   "source": [
    "# A bit of setup\n",
    "\n",
    "import numpy as np\n",
    "import pandas as pd\n",
    "from sklearn import cross_validation\n",
    "from sklearn.svm import SVC\n",
    "from sklearn.naive_bayes import GaussianNB\n",
    "from sklearn.svm import SVC\n",
    "from sklearn.learning_curve import learning_curve\n",
    "import matplotlib.pyplot as plt\n",
    "\n",
    "from cs231n.classifiers.neural_net import TwoLayerNet\n",
    "\n",
    "%matplotlib inline\n",
    "plt.rcParams['figure.figsize'] = (10.0, 8.0) # set default size of plots\n",
    "plt.rcParams['image.interpolation'] = 'nearest'\n",
    "plt.rcParams['image.cmap'] = 'gray'\n",
    "\n",
    "# for auto-reloading external modules\n",
    "# see http://stackoverflow.com/questions/1907993/autoreload-of-modules-in-ipython\n",
    "%load_ext autoreload\n",
    "%autoreload 2\n",
    "\n",
    "def rel_error(x, y):\n",
    "  \"\"\" returns relative error \"\"\"\n",
    "  return np.max(np.abs(x - y) / (np.maximum(1e-8, np.abs(x) + np.abs(y))))"
   ]
  },
  {
   "cell_type": "markdown",
   "metadata": {},
   "source": [
    "# Prepare Data\n"
   ]
  },
  {
   "cell_type": "code",
   "execution_count": 2,
   "metadata": {
    "collapsed": false
   },
   "outputs": [
    {
     "name": "stdout",
     "output_type": "stream",
     "text": [
      "load complete\n"
     ]
    }
   ],
   "source": [
    "train_df = pd.read_csv('act_train.csv')\n",
    "people_df = pd.read_csv('people.csv')\n",
    "merged_df = pd.merge(train_df, people_df, on='people_id')\n",
    "test_df = pd.read_csv('act_test.csv')\n",
    "\n",
    "merged_col = merged_df.columns\n",
    "summary_merged_df = [len(merged_df[col].unique()) for col in merged_col]\n",
    "print \"load complete\""
   ]
  },
  {
   "cell_type": "code",
   "execution_count": 3,
   "metadata": {
    "collapsed": false
   },
   "outputs": [
    {
     "data": {
      "text/plain": [
       "set()"
      ]
     },
     "execution_count": 3,
     "metadata": {},
     "output_type": "execute_result"
    }
   ],
   "source": [
    "test_col = test_df.columns\n",
    "summary_test_df = [len(test_df[col].unique()) for col in test_col]\n",
    "\n",
    "setA = set(train_df['char_8'])\n",
    "setB = set(test_df['char_8'])\n",
    "setA.union(setB) - setA.intersection(setB)"
   ]
  },
  {
   "cell_type": "markdown",
   "metadata": {},
   "source": [
    "## Convert attributes\n",
    "- Categorical : type ## / NaN\n",
    "- Boolean (True False)"
   ]
  },
  {
   "cell_type": "code",
   "execution_count": 4,
   "metadata": {
    "collapsed": false
   },
   "outputs": [
    {
     "name": "stdout",
     "output_type": "stream",
     "text": [
      "group_1\n",
      "- is type/category\n",
      "char_12\n",
      "- is boolean\n",
      "char_33\n",
      "- is boolean\n",
      "char_2_y\n",
      "- is type/category\n",
      "activity_category\n",
      "- is type/category\n",
      "char_38\n",
      "- is integer\n",
      "char_1_y\n",
      "- is type/category\n",
      "char_8_y\n",
      "- is type/category\n",
      "char_19\n",
      "- is boolean\n",
      "char_18\n",
      "- is boolean\n",
      "char_17\n",
      "- is boolean\n",
      "char_8_x\n",
      "- is type/category\n",
      "char_15\n",
      "- is boolean\n",
      "char_32\n",
      "- is boolean\n",
      "char_9_y\n",
      "- is type/category\n",
      "char_9_x\n",
      "- is type/category\n",
      "char_11\n",
      "- is boolean\n",
      "char_1_x\n",
      "- is type/category\n",
      "char_3_y\n",
      "- is type/category\n",
      "char_3_x\n",
      "- is type/category\n",
      "char_6_y\n",
      "- is type/category\n",
      "char_5_y\n",
      "- is type/category\n",
      "char_31\n",
      "- is boolean\n",
      "outcome\n",
      "- is integer\n",
      "char_25\n",
      "- is boolean\n",
      "char_10_x\n",
      "- is type/category\n",
      "char_10_y\n",
      "- is boolean\n",
      "char_30\n",
      "- is boolean\n",
      "char_2_x\n",
      "- is type/category\n",
      "char_35\n",
      "- is boolean\n",
      "char_16\n",
      "- is boolean\n",
      "char_26\n",
      "- is boolean\n",
      "char_27\n",
      "- is boolean\n",
      "char_24\n",
      "- is boolean\n",
      "char_14\n",
      "- is boolean\n",
      "char_22\n",
      "- is boolean\n",
      "char_23\n",
      "- is boolean\n",
      "char_20\n",
      "- is boolean\n",
      "char_5_x\n",
      "- is type/category\n",
      "char_4_x\n",
      "- is type/category\n",
      "char_13\n",
      "- is boolean\n",
      "char_21\n",
      "- is boolean\n",
      "char_28\n",
      "- is boolean\n",
      "char_29\n",
      "- is boolean\n",
      "char_37\n",
      "- is boolean\n",
      "char_6_x\n",
      "- is type/category\n",
      "char_4_y\n",
      "- is type/category\n",
      "char_34\n",
      "- is boolean\n",
      "char_36\n",
      "- is boolean\n",
      "char_7_y\n",
      "- is type/category\n",
      "char_7_x\n",
      "- is type/category\n"
     ]
    }
   ],
   "source": [
    "#merged_df['char_1_x'].replace({'type':'', ' ':'', np.nan : '0'}, regex = True).astype('int')\n",
    "#Columns to be converted\n",
    "merged_df = pd.merge(train_df, people_df, on='people_id')\n",
    "parsed_col = set(merged_col) - set(['people_id','activity_id','date_x','date_y'])\n",
    "for col in parsed_col:\n",
    "    print (col)\n",
    "    if(type(merged_df[col][0]) is np.bool_):\n",
    "        print('- is boolean')\n",
    "        merged_df[col] = merged_df[col].astype('int64')\n",
    "    elif (type(merged_df[col][0]) is np.int64 or type(merged_df[col][0]) is np.long):\n",
    "        print('- is integer')\n",
    "        merged_df[col] = merged_df[col].astype('int64')\n",
    "    else:\n",
    "        print('- is type/category')\n",
    "        merged_df[col] = merged_df[col].replace({'group': '', 'type':'', ' ':'', np.nan : '0'}, regex = True).astype('int64')\n"
   ]
  },
  {
   "cell_type": "code",
   "execution_count": 5,
   "metadata": {
    "collapsed": false
   },
   "outputs": [
    {
     "name": "stdout",
     "output_type": "stream",
     "text": [
      "group_1\n",
      "- is type/category\n",
      "char_12\n",
      "- is boolean\n",
      "char_33\n",
      "- is boolean\n",
      "char_2_y\n",
      "- is type/category\n",
      "activity_category\n",
      "- is type/category\n",
      "char_38\n",
      "- is integer\n",
      "char_1_y\n",
      "- is type/category\n",
      "char_8_y\n",
      "- is type/category\n",
      "char_19\n",
      "- is boolean\n",
      "char_18\n",
      "- is boolean\n",
      "char_17\n",
      "- is boolean\n",
      "char_8_x\n",
      "- is type/category\n",
      "char_15\n",
      "- is boolean\n",
      "char_32\n",
      "- is boolean\n",
      "char_9_y\n",
      "- is type/category\n",
      "char_9_x\n",
      "- is type/category\n",
      "char_11\n",
      "- is boolean\n",
      "char_1_x\n",
      "- is type/category\n",
      "char_3_y\n",
      "- is type/category\n",
      "char_3_x\n",
      "- is type/category\n",
      "char_6_y\n",
      "- is type/category\n",
      "char_5_y\n",
      "- is type/category\n",
      "char_31\n",
      "- is boolean\n",
      "char_25\n",
      "- is boolean\n",
      "char_10_x\n",
      "- is type/category\n",
      "char_10_y\n",
      "- is boolean\n",
      "char_30\n",
      "- is boolean\n",
      "char_2_x\n",
      "- is type/category\n",
      "char_35\n",
      "- is boolean\n",
      "char_16\n",
      "- is boolean\n",
      "char_26\n",
      "- is boolean\n",
      "char_27\n",
      "- is boolean\n",
      "char_24\n",
      "- is boolean\n",
      "char_14\n",
      "- is boolean\n",
      "char_22\n",
      "- is boolean\n",
      "char_23\n",
      "- is boolean\n",
      "char_20\n",
      "- is boolean\n",
      "char_5_x\n",
      "- is type/category\n",
      "char_4_x\n",
      "- is type/category\n",
      "char_13\n",
      "- is boolean\n",
      "char_21\n",
      "- is boolean\n",
      "char_28\n",
      "- is boolean\n",
      "char_29\n",
      "- is boolean\n",
      "char_37\n",
      "- is boolean\n",
      "char_6_x\n",
      "- is type/category\n",
      "char_4_y\n",
      "- is type/category\n",
      "char_34\n",
      "- is boolean\n",
      "char_36\n",
      "- is boolean\n",
      "char_7_y\n",
      "- is type/category\n",
      "char_7_x\n",
      "- is type/category\n"
     ]
    }
   ],
   "source": [
    "merged_test_df = pd.merge(test_df, people_df, on='people_id')\n",
    "merged_test_col = merged_test_df.columns\n",
    "parsed_test_col = set(merged_test_col) - set(['people_id','activity_id','date_x','date_y'])\n",
    "for col in parsed_test_col:\n",
    "    print (col)\n",
    "    if(type(merged_test_df[col][0]) is np.bool_):\n",
    "        print('- is boolean')\n",
    "        merged_test_df[col] = merged_test_df[col].astype('int64')\n",
    "    elif (type(merged_test_df[col][0]) is np.int64 or type(merged_test_df[col][0]) is np.long):\n",
    "        print('- is integer')\n",
    "        merged_test_df[col] = merged_test_df[col].astype('int64')\n",
    "    else:\n",
    "        print('- is type/category')\n",
    "        merged_test_df[col] = merged_test_df[col].replace({'group': '', 'type':'', ' ':'', np.nan : '0'}, regex = True).astype('int64')"
   ]
  },
  {
   "cell_type": "markdown",
   "metadata": {},
   "source": [
    "# Load Train and Validation Data\n",
    "load all data from pre-processed data"
   ]
  },
  {
   "cell_type": "code",
   "execution_count": 6,
   "metadata": {
    "collapsed": true
   },
   "outputs": [],
   "source": [
    "def plot_learning_curve(estimator, title, X, y, ylim=None, cv=None,\n",
    "                        n_jobs=1, train_sizes=np.linspace(.1, 1.0, 5)):\n",
    "    \"\"\"\n",
    "    Generate a simple plot of the test and traning learning curve.\n",
    "\n",
    "    Parameters\n",
    "    ----------\n",
    "    estimator : object type that implements the \"fit\" and \"predict\" methods\n",
    "        An object of that type which is cloned for each validation.\n",
    "\n",
    "    title : string\n",
    "        Title for the chart.\n",
    "\n",
    "    X : array-like, shape (n_samples, n_features)\n",
    "        Training vector, where n_samples is the number of samples and\n",
    "        n_features is the number of features.\n",
    "\n",
    "    y : array-like, shape (n_samples) or (n_samples, n_features), optional\n",
    "        Target relative to X for classification or regression;\n",
    "        None for unsupervised learning.\n",
    "\n",
    "    ylim : tuple, shape (ymin, ymax), optional\n",
    "        Defines minimum and maximum yvalues plotted.\n",
    "\n",
    "    cv : integer, cross-validation generator, optional\n",
    "        If an integer is passed, it is the number of folds (defaults to 3).\n",
    "        Specific cross-validation objects can be passed, see\n",
    "        sklearn.cross_validation module for the list of possible objects\n",
    "\n",
    "    n_jobs : integer, optional\n",
    "        Number of jobs to run in parallel (default 1).\n",
    "    \"\"\"\n",
    "    plt.figure()\n",
    "    plt.title(title)\n",
    "    if ylim is not None:\n",
    "        plt.ylim(*ylim)\n",
    "    plt.xlabel(\"Training examples\")\n",
    "    plt.ylabel(\"Score\")\n",
    "    train_sizes, train_scores, test_scores = learning_curve(\n",
    "        estimator, X, y, cv=cv, n_jobs=n_jobs, train_sizes=train_sizes)\n",
    "    train_scores_mean = np.mean(train_scores, axis=1)\n",
    "    train_scores_std = np.std(train_scores, axis=1)\n",
    "    test_scores_mean = np.mean(test_scores, axis=1)\n",
    "    test_scores_std = np.std(test_scores, axis=1)\n",
    "    plt.grid()\n",
    "\n",
    "    plt.fill_between(train_sizes, train_scores_mean - train_scores_std,\n",
    "                     train_scores_mean + train_scores_std, alpha=0.1,\n",
    "                     color=\"r\")\n",
    "    plt.fill_between(train_sizes, test_scores_mean - test_scores_std,\n",
    "                     test_scores_mean + test_scores_std, alpha=0.1, color=\"g\")\n",
    "    plt.plot(train_sizes, train_scores_mean, 'o-', color=\"r\",\n",
    "             label=\"Training score\")\n",
    "    plt.plot(train_sizes, test_scores_mean, 'o-', color=\"g\",\n",
    "             label=\"Cross-validation score\")\n",
    "\n",
    "    plt.legend(loc=\"best\")\n",
    "    return plt"
   ]
  },
  {
   "cell_type": "code",
   "execution_count": 14,
   "metadata": {
    "collapsed": false
   },
   "outputs": [
    {
     "name": "stdout",
     "output_type": "stream",
     "text": [
      "(90000, 50)\n",
      "(90000,)\n",
      "90000\n"
     ]
    }
   ],
   "source": [
    "tmp = merged_df.drop(['people_id','activity_id','date_x','date_y','outcome'], 1)\n",
    "x = tmp.values\n",
    "y = merged_df['outcome'].values\n",
    "# n = len(x)\n",
    "offset = 100000\n",
    "n = 90000\n",
    "X = x[0+offset:n+offset,:]\n",
    "Y = y[0+offset:n+offset]\n",
    "print X.shape\n",
    "print Y.shape\n",
    "print len(X)"
   ]
  },
  {
   "cell_type": "markdown",
   "metadata": {},
   "source": [
    "# Apply SVM\n",
    "To train our classifier with sklearn.svm"
   ]
  },
  {
   "cell_type": "code",
   "execution_count": null,
   "metadata": {
    "collapsed": false
   },
   "outputs": [],
   "source": [
    "num_folds = 3\n",
    "num_instances = n\n",
    "seed = 7\n",
    "iterations = 1000\n",
    "\n",
    "\"\"\" K-Fold \"\"\"\n",
    "cv = cross_validation.KFold(n=num_instances, n_folds=num_folds, random_state=seed)\n",
    "model = SVC(gamma=0.001)\n",
    "model.fit(X,Y)\n",
    "\n",
    "\"\"\" Shuffle-Split \"\"\"\n",
    "# cv = cross_validation.ShuffleSplit(n=num_instances, n_iter=iterations, test_size=0.3, random_state=0)\n",
    "# model = SVC(gamma=0.001)\n",
    "# model.fit(X,Y)\n",
    "\n",
    "results = cross_validation.cross_val_score(model, X, Y, cv=cv)\n",
    "print(results.mean())"
   ]
  },
  {
   "cell_type": "markdown",
   "metadata": {},
   "source": [
    "# Learning Curve\n",
    "To estimate how doing well on the classifer by checking the training score and the cross-validation score."
   ]
  },
  {
   "cell_type": "code",
   "execution_count": 11,
   "metadata": {
    "collapsed": false
   },
   "outputs": [
    {
     "data": {
      "text/plain": [
       "<module 'matplotlib.pyplot' from '/usr/local/lib/python2.7/site-packages/matplotlib/pyplot.pyc'>"
      ]
     },
     "execution_count": 11,
     "metadata": {},
     "output_type": "execute_result"
    },
    {
     "data": {
      "image/png": "[encoded data removed]",
      "text/plain": [
       "<matplotlib.figure.Figure at 0x11614b350>"
      ]
     },
     "metadata": {},
     "output_type": "display_data"
    }
   ],
   "source": [
    "title = \"Learning Curves (SVM, RBF kernel, $\\gamma=0.01$)\"\n",
    "plot_learning_curve(model, title, X, Y, (0.7, 1.02), cv=cv, n_jobs=4)"
   ]
  },
  {
   "cell_type": "markdown",
   "metadata": {},
   "source": [
    "# Predict Test Case\n",
    "To predict the submission"
   ]
  },
  {
   "cell_type": "code",
   "execution_count": 48,
   "metadata": {
    "collapsed": false
   },
   "outputs": [
    {
     "name": "stdout",
     "output_type": "stream",
     "text": [
      "(498687, 50)\n",
      "(498687,)\n"
     ]
    }
   ],
   "source": [
    "activity_id = list(merged_test_df.activity_id)\n",
    "test_dataset = merged_test_df.drop(['people_id','activity_id','date_x','date_y'], 1)\n",
    "test_mat = np.array(test_dataset, dtype='int')\n",
    "print test_mat.shape\n",
    "\n",
    "ans = model.predict(test_mat)\n",
    "print ans.shape"
   ]
  },
  {
   "cell_type": "code",
   "execution_count": 49,
   "metadata": {
    "collapsed": false
   },
   "outputs": [
    {
     "data": {
      "text/html": [
       "<div>\n",
       "<table border=\"1\" class=\"dataframe\">\n",
       "  <thead>\n",
       "    <tr style=\"text-align: right;\">\n",
       "      <th></th>\n",
       "      <th>activity_id</th>\n",
       "      <th>outcome</th>\n",
       "    </tr>\n",
       "  </thead>\n",
       "  <tbody>\n",
       "    <tr>\n",
       "      <th>0</th>\n",
       "      <td>act1_249281</td>\n",
       "      <td>1</td>\n",
       "    </tr>\n",
       "    <tr>\n",
       "      <th>1</th>\n",
       "      <td>act2_230855</td>\n",
       "      <td>1</td>\n",
       "    </tr>\n",
       "    <tr>\n",
       "      <th>2</th>\n",
       "      <td>act1_240724</td>\n",
       "      <td>1</td>\n",
       "    </tr>\n",
       "    <tr>\n",
       "      <th>3</th>\n",
       "      <td>act1_83552</td>\n",
       "      <td>1</td>\n",
       "    </tr>\n",
       "    <tr>\n",
       "      <th>4</th>\n",
       "      <td>act2_1043301</td>\n",
       "      <td>1</td>\n",
       "    </tr>\n",
       "  </tbody>\n",
       "</table>\n",
       "</div>"
      ],
      "text/plain": [
       "    activity_id  outcome\n",
       "0   act1_249281        1\n",
       "1   act2_230855        1\n",
       "2   act1_240724        1\n",
       "3    act1_83552        1\n",
       "4  act2_1043301        1"
      ]
     },
     "execution_count": 49,
     "metadata": {},
     "output_type": "execute_result"
    }
   ],
   "source": [
    "output_df = pd.DataFrame({'activity_id' : activity_id, 'outcome': ans})\n",
    "output_df.head(5)"
   ]
  },
  {
   "cell_type": "code",
   "execution_count": 51,
   "metadata": {
    "collapsed": false
   },
   "outputs": [],
   "source": [
    "output_df.sort_values(['activity_id','outcome']).to_csv('output_svm.out', index=False)"
   ]
  },
  {
   "cell_type": "code",
   "execution_count": null,
   "metadata": {
    "collapsed": true
   },
   "outputs": [],
   "source": []
  }
 ],
 "metadata": {
  "kernelspec": {
   "display_name": "Python [Root]",
   "language": "python",
   "name": "Python [Root]"
  },
  "language_info": {
   "codemirror_mode": {
    "name": "ipython",
    "version": 2
   },
   "file_extension": ".py",
   "mimetype": "text/x-python",
   "name": "python",
   "nbconvert_exporter": "python",
   "pygments_lexer": "ipython2",
   "version": "2.7.11"
  }
 },
 "nbformat": 4,
 "nbformat_minor": 0
}
