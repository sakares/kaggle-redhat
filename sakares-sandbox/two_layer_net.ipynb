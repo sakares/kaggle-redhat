{
 "cells": [
  {
   "cell_type": "markdown",
   "metadata": {},
   "source": [
    "# Implementing a Neural Network\n",
    "Simple NN implementation for redhat dataset"
   ]
  },
  {
   "cell_type": "code",
   "execution_count": 1,
   "metadata": {
    "collapsed": false
   },
   "outputs": [],
   "source": [
    "# A bit of setup\n",
    "\n",
    "import numpy as np\n",
    "import pandas as pd\n",
    "import matplotlib.pyplot as plt\n",
    "\n",
    "from cs231n.classifiers.neural_net import TwoLayerNet\n",
    "\n",
    "%matplotlib inline\n",
    "plt.rcParams['figure.figsize'] = (10.0, 8.0) # set default size of plots\n",
    "plt.rcParams['image.interpolation'] = 'nearest'\n",
    "plt.rcParams['image.cmap'] = 'gray'\n",
    "\n",
    "# for auto-reloading external modules\n",
    "# see http://stackoverflow.com/questions/1907993/autoreload-of-modules-in-ipython\n",
    "%load_ext autoreload\n",
    "%autoreload 2\n",
    "\n",
    "def rel_error(x, y):\n",
    "  \"\"\" returns relative error \"\"\"\n",
    "  return np.max(np.abs(x - y) / (np.maximum(1e-8, np.abs(x) + np.abs(y))))"
   ]
  },
  {
   "cell_type": "markdown",
   "metadata": {},
   "source": [
    "We will use the class `TwoLayerNet` in the file `cs231n/classifiers/neural_net.py` to represent instances of our network. The network parameters are stored in the instance variable `self.params` where keys are string parameter names and values are numpy arrays. Below, we initialize toy data and a toy model that we will use to develop your implementation."
   ]
  },
  {
   "cell_type": "markdown",
   "metadata": {},
   "source": [
    "# Prepare Data\n"
   ]
  },
  {
   "cell_type": "code",
   "execution_count": 2,
   "metadata": {
    "collapsed": false
   },
   "outputs": [
    {
     "name": "stdout",
     "output_type": "stream",
     "text": [
      "load complete\n"
     ]
    }
   ],
   "source": [
    "train_df = pd.read_csv('act_train.csv')\n",
    "people_df = pd.read_csv('people.csv')\n",
    "merged_df = pd.merge(train_df, people_df, on='people_id')\n",
    "test_df = pd.read_csv('act_test.csv')\n",
    "\n",
    "merged_col = merged_df.columns\n",
    "summary_merged_df = [len(merged_df[col].unique()) for col in merged_col]\n",
    "print \"load complete\""
   ]
  },
  {
   "cell_type": "code",
   "execution_count": 3,
   "metadata": {
    "collapsed": false
   },
   "outputs": [
    {
     "data": {
      "text/plain": [
       "set()"
      ]
     },
     "execution_count": 3,
     "metadata": {},
     "output_type": "execute_result"
    }
   ],
   "source": [
    "test_col = test_df.columns\n",
    "summary_test_df = [len(test_df[col].unique()) for col in test_col]\n",
    "\n",
    "setA = set(train_df['char_8'])\n",
    "setB = set(test_df['char_8'])\n",
    "setA.union(setB) - setA.intersection(setB)"
   ]
  },
  {
   "cell_type": "markdown",
   "metadata": {},
   "source": [
    "## Convert attributes\n",
    "- Categorical : type ## / NaN\n",
    "- Boolean (True False)"
   ]
  },
  {
   "cell_type": "code",
   "execution_count": 4,
   "metadata": {
    "collapsed": false
   },
   "outputs": [
    {
     "name": "stdout",
     "output_type": "stream",
     "text": [
      "group_1\n",
      "- is type/category\n",
      "char_12\n",
      "- is boolean\n",
      "char_33\n",
      "- is boolean\n",
      "char_2_y\n",
      "- is type/category\n",
      "activity_category\n",
      "- is type/category\n",
      "char_38\n",
      "- is integer\n",
      "char_1_y\n",
      "- is type/category\n",
      "char_8_y\n",
      "- is type/category\n",
      "char_19\n",
      "- is boolean\n",
      "char_18\n",
      "- is boolean\n",
      "char_17\n",
      "- is boolean\n",
      "char_8_x\n",
      "- is type/category\n",
      "char_15\n",
      "- is boolean\n",
      "char_32\n",
      "- is boolean\n",
      "char_9_y\n",
      "- is type/category\n",
      "char_9_x\n",
      "- is type/category\n",
      "char_11\n",
      "- is boolean\n",
      "char_1_x\n",
      "- is type/category\n",
      "char_3_y\n",
      "- is type/category\n",
      "char_3_x\n",
      "- is type/category\n",
      "char_6_y\n",
      "- is type/category\n",
      "char_5_y\n",
      "- is type/category\n",
      "char_31\n",
      "- is boolean\n",
      "outcome\n",
      "- is integer\n",
      "char_25\n",
      "- is boolean\n",
      "char_10_x\n",
      "- is type/category\n",
      "char_10_y\n",
      "- is boolean\n",
      "char_30\n",
      "- is boolean\n",
      "char_2_x\n",
      "- is type/category\n",
      "char_35\n",
      "- is boolean\n",
      "char_16\n",
      "- is boolean\n",
      "char_26\n",
      "- is boolean\n",
      "char_27\n",
      "- is boolean\n",
      "char_24\n",
      "- is boolean\n",
      "char_14\n",
      "- is boolean\n",
      "char_22\n",
      "- is boolean\n",
      "char_23\n",
      "- is boolean\n",
      "char_20\n",
      "- is boolean\n",
      "char_5_x\n",
      "- is type/category\n",
      "char_4_x\n",
      "- is type/category\n",
      "char_13\n",
      "- is boolean\n",
      "char_21\n",
      "- is boolean\n",
      "char_28\n",
      "- is boolean\n",
      "char_29\n",
      "- is boolean\n",
      "char_37\n",
      "- is boolean\n",
      "char_6_x\n",
      "- is type/category\n",
      "char_4_y\n",
      "- is type/category\n",
      "char_34\n",
      "- is boolean\n",
      "char_36\n",
      "- is boolean\n",
      "char_7_y\n",
      "- is type/category\n",
      "char_7_x\n",
      "- is type/category\n"
     ]
    }
   ],
   "source": [
    "#merged_df['char_1_x'].replace({'type':'', ' ':'', np.nan : '0'}, regex = True).astype('int')\n",
    "#Columns to be converted\n",
    "merged_df = pd.merge(train_df, people_df, on='people_id')\n",
    "parsed_col = set(merged_col) - set(['people_id','activity_id','date_x','date_y'])\n",
    "for col in parsed_col:\n",
    "    print (col)\n",
    "    if(type(merged_df[col][0]) is np.bool_):\n",
    "        print('- is boolean')\n",
    "        merged_df[col] = merged_df[col].astype('int64')\n",
    "    elif (type(merged_df[col][0]) is np.int64 or type(merged_df[col][0]) is np.long):\n",
    "        print('- is integer')\n",
    "        merged_df[col] = merged_df[col].astype('int64')\n",
    "    else:\n",
    "        print('- is type/category')\n",
    "        merged_df[col] = merged_df[col].replace({'group': '', 'type':'', ' ':'', np.nan : '0'}, regex = True).astype('int64')\n"
   ]
  },
  {
   "cell_type": "code",
   "execution_count": 16,
   "metadata": {
    "collapsed": false
   },
   "outputs": [
    {
     "name": "stdout",
     "output_type": "stream",
     "text": [
      "group_1\n",
      "- is type/category\n",
      "char_12\n",
      "- is boolean\n",
      "char_33\n",
      "- is boolean\n",
      "char_2_y\n",
      "- is type/category\n",
      "activity_category\n",
      "- is type/category\n",
      "char_38\n",
      "- is integer\n",
      "char_1_y\n",
      "- is type/category\n",
      "char_8_y\n",
      "- is type/category\n",
      "char_19\n",
      "- is boolean\n",
      "char_18\n",
      "- is boolean\n",
      "char_17\n",
      "- is boolean\n",
      "char_8_x\n",
      "- is type/category\n",
      "char_15\n",
      "- is boolean\n",
      "char_32\n",
      "- is boolean\n",
      "char_9_y\n",
      "- is type/category\n",
      "char_9_x\n",
      "- is type/category\n",
      "char_11\n",
      "- is boolean\n",
      "char_1_x\n",
      "- is type/category\n",
      "char_3_y\n",
      "- is type/category\n",
      "char_3_x\n",
      "- is type/category\n",
      "char_6_y\n",
      "- is type/category\n",
      "char_5_y\n",
      "- is type/category\n",
      "char_31\n",
      "- is boolean\n",
      "char_25\n",
      "- is boolean\n",
      "char_10_x\n",
      "- is type/category\n",
      "char_10_y\n",
      "- is boolean\n",
      "char_30\n",
      "- is boolean\n",
      "char_2_x\n",
      "- is type/category\n",
      "char_35\n",
      "- is boolean\n",
      "char_16\n",
      "- is boolean\n",
      "char_26\n",
      "- is boolean\n",
      "char_27\n",
      "- is boolean\n",
      "char_24\n",
      "- is boolean\n",
      "char_14\n",
      "- is boolean\n",
      "char_22\n",
      "- is boolean\n",
      "char_23\n",
      "- is boolean\n",
      "char_20\n",
      "- is boolean\n",
      "char_5_x\n",
      "- is type/category\n",
      "char_4_x\n",
      "- is type/category\n",
      "char_13\n",
      "- is boolean\n",
      "char_21\n",
      "- is boolean\n",
      "char_28\n",
      "- is boolean\n",
      "char_29\n",
      "- is boolean\n",
      "char_37\n",
      "- is boolean\n",
      "char_6_x\n",
      "- is type/category\n",
      "char_4_y\n",
      "- is type/category\n",
      "char_34\n",
      "- is boolean\n",
      "char_36\n",
      "- is boolean\n",
      "char_7_y\n",
      "- is type/category\n",
      "char_7_x\n",
      "- is type/category\n"
     ]
    }
   ],
   "source": [
    "merged_test_df = pd.merge(test_df, people_df, on='people_id')\n",
    "merged_test_col = merged_test_df.columns\n",
    "parsed_test_col = set(merged_test_col) - set(['people_id','activity_id','date_x','date_y'])\n",
    "for col in parsed_test_col:\n",
    "    print (col)\n",
    "    if(type(merged_test_df[col][0]) is np.bool_):\n",
    "        print('- is boolean')\n",
    "        merged_test_df[col] = merged_test_df[col].astype('int64')\n",
    "    elif (type(merged_test_df[col][0]) is np.int64 or type(merged_test_df[col][0]) is np.long):\n",
    "        print('- is integer')\n",
    "        merged_test_df[col] = merged_test_df[col].astype('int64')\n",
    "    else:\n",
    "        print('- is type/category')\n",
    "        merged_test_df[col] = merged_test_df[col].replace({'group': '', 'type':'', ' ':'', np.nan : '0'}, regex = True).astype('int64')"
   ]
  },
  {
   "cell_type": "code",
   "execution_count": 92,
   "metadata": {
    "collapsed": false
   },
   "outputs": [
    {
     "name": "stdout",
     "output_type": "stream",
     "text": [
      "   char_33  char_34  char_35  char_36  char_37\n",
      "0        0        1        1        1        0\n",
      "1        0        1        1        1        0\n",
      "2        0        1        1        1        0\n",
      "3        0        1        1        1        0\n",
      "4        0        1        1        1        0\n",
      "5        0        1        1        1        0\n",
      "6        1        1        1        1        0\n",
      "7        1        1        1        1        0\n",
      "8        1        1        0        1        1\n",
      "9        1        1        0        1        1\n",
      "[[0 1 1 1 0]\n",
      " [0 1 1 1 0]\n",
      " [0 1 1 1 0]\n",
      " [0 1 1 1 0]\n",
      " [0 1 1 1 0]\n",
      " [0 1 1 1 0]\n",
      " [1 1 1 1 0]\n",
      " [1 1 1 1 0]\n",
      " [1 1 0 1 1]\n",
      " [1 1 0 1 1]]\n",
      "[0 0 0 ..., 1 1 1]\n"
     ]
    }
   ],
   "source": [
    "# y = merged_df['outcome'].values\n",
    "# tmp = merged_df.drop(['people_id','activity_id','date_x','date_y','outcome'], 1)\n",
    "# tmp = tmp[['char_33','char_34','char_35','char_36','char_37']]\n",
    "# print tmp.head(10)\n",
    "# X = tmp.values[0:10,:]\n",
    "# print X\n",
    "# print y\n",
    "# tmp.head(10)\n",
    "# y.head(10)\n",
    "\n",
    "# print 'length of ppl_100 = %d ' % len(check_df)\n",
    "# print check_df['outcome']\n",
    "# print check_df.describe()"
   ]
  },
  {
   "cell_type": "code",
   "execution_count": 18,
   "metadata": {
    "collapsed": true
   },
   "outputs": [],
   "source": [
    "# train_dataset = merged_df.drop(['people_id','activity_id','date_x','date_y','outcome'], 1)\n",
    "# train_outcome = np.array(merged_df.outcome)\n",
    "# train_mat = np.array(train_dataset, dtype='int')"
   ]
  },
  {
   "cell_type": "code",
   "execution_count": 19,
   "metadata": {
    "collapsed": false
   },
   "outputs": [
    {
     "data": {
      "text/plain": [
       "(2197291,)"
      ]
     },
     "execution_count": 19,
     "metadata": {},
     "output_type": "execute_result"
    }
   ],
   "source": [
    "# train_outcome.shape"
   ]
  },
  {
   "cell_type": "code",
   "execution_count": 20,
   "metadata": {
    "collapsed": false
   },
   "outputs": [
    {
     "data": {
      "text/plain": [
       "(2197291, 50)"
      ]
     },
     "execution_count": 20,
     "metadata": {},
     "output_type": "execute_result"
    }
   ],
   "source": [
    "# train_mat.shape"
   ]
  },
  {
   "cell_type": "code",
   "execution_count": 6,
   "metadata": {
    "collapsed": false
   },
   "outputs": [
    {
     "name": "stdout",
     "output_type": "stream",
     "text": [
      "[[ 16.24345364  -6.11756414  -5.28171752 -10.72968622   8.65407629]\n",
      " [-23.01538697  17.44811764  -7.61206901   3.19039096  -2.49370375]\n",
      " [ 14.62107937 -20.60140709  -3.22417204  -3.84054355  11.33769442]\n",
      " [-10.99891267  -1.72428208  -8.77858418   0.42213747   5.82815214]\n",
      " [-11.00619177  11.4472371    9.01590721   5.02494339   9.00855949]\n",
      " [ -6.83727859  -1.22890226  -9.35769434  -2.6788808    5.30355467]\n",
      " [ -6.91660752  -3.96753527  -6.871727    -8.45205641  -6.71246131]\n",
      " [ -0.12664599 -11.17310349   2.34415698  16.59802177   7.42044161]\n",
      " [ -1.91835552  -8.87628964  -7.47158294  16.92454601   0.50807755]\n",
      " [ -6.36995647   1.90915485  21.00255136   1.20158952   6.1720311 ]]\n",
      "[0 1 0 1 0 1 0 1 0 1]\n"
     ]
    }
   ],
   "source": [
    "# Create a small net and some toy data to check your implementations.\n",
    "# Note that we set the random seed for repeatable experiments.\n",
    "\n",
    "# input_size = 4\n",
    "# hidden_size = 10\n",
    "# num_classes = 3\n",
    "# num_inputs = 5\n",
    "\n",
    "input_size = 5\n",
    "hidden_size = 10\n",
    "num_classes = 2\n",
    "num_inputs = 10\n",
    "\n",
    "def init_toy_model():\n",
    "  np.random.seed(0)\n",
    "  return TwoLayerNet(input_size, hidden_size, num_classes, std=1e-1)\n",
    "\n",
    "def init_toy_data():\n",
    "  np.random.seed(1)\n",
    "  X = 10 * np.random.randn(num_inputs, input_size)\n",
    "  y = np.array([0, 1, 0, 1, 0, 1, 0, 1, 0, 1])\n",
    "  return X, y\n",
    "\n",
    "net = init_toy_model()\n",
    "X, y = init_toy_data()\n",
    "print X\n",
    "print y"
   ]
  },
  {
   "cell_type": "markdown",
   "metadata": {},
   "source": [
    "# Forward pass: compute scores\n",
    "Open the file `cs231n/classifiers/neural_net.py` and look at the method `TwoLayerNet.loss`. This function is very similar to the loss functions you have written for the SVM and Softmax exercises: It takes the data and weights and computes the class scores, the loss, and the gradients on the parameters. \n",
    "\n",
    "Implement the first part of the forward pass which uses the weights and biases to compute the scores for all inputs."
   ]
  },
  {
   "cell_type": "code",
   "execution_count": 7,
   "metadata": {
    "collapsed": false
   },
   "outputs": [
    {
     "name": "stdout",
     "output_type": "stream",
     "text": [
      "Your scores:\n",
      "[[-0.36710471  0.30791951]\n",
      " [-0.43989025 -0.53666637]\n",
      " [-0.31311846  0.21907549]\n",
      " [-0.12210622 -0.10849958]\n",
      " [-0.06744353 -0.15266295]\n",
      " [-0.15434499 -0.03394499]\n",
      " [-0.25922861  0.00724488]\n",
      " [-0.00854613 -0.10759501]\n",
      " [-0.22549414 -0.15963828]\n",
      " [-0.83546277 -0.07105516]]\n",
      "\n",
      "correct scores:\n",
      "[[-0.36681027  0.30681027]\n",
      " [-0.43681027 -0.53681027]\n",
      " [-0.31681027  0.21681027]\n",
      " [-0.12681027 -0.10681027]\n",
      " [-0.06681027 -0.15681027]\n",
      " [-0.15681027 -0.03681027]\n",
      " [-0.25681027  0.00681027]\n",
      " [-0.00681027 -0.10681027]\n",
      " [-0.22681027 -0.15681027]\n",
      " [-0.83681027 -0.07681027]]\n",
      "\n",
      "Difference between your scores and correct scores:\n",
      "0.0437093888987\n"
     ]
    }
   ],
   "source": [
    "scores = net.loss(X)\n",
    "print 'Your scores:'\n",
    "print scores\n",
    "print\n",
    "print 'correct scores:'\n",
    "correct_scores = np.asarray([\n",
    " [-0.36681027,  0.30681027],\n",
    " [-0.43681027, -0.53681027],\n",
    " [-0.31681027,  0.21681027],\n",
    " [-0.12681027, -0.10681027],\n",
    " [-0.06681027, -0.15681027],\n",
    " [-0.15681027, -0.03681027],\n",
    " [-0.25681027,  0.00681027],\n",
    " [-0.00681027, -0.10681027],\n",
    " [-0.22681027, -0.15681027],\n",
    " [-0.83681027, -0.07681027]])\n",
    "print correct_scores\n",
    "print\n",
    "\n",
    "# The difference should be very small. We get < 1e-7\n",
    "print 'Difference between your scores and correct scores:'\n",
    "print np.sum(np.abs(scores - correct_scores))"
   ]
  },
  {
   "cell_type": "markdown",
   "metadata": {},
   "source": [
    "# Forward pass: compute loss\n",
    "In the same function, implement the second part that computes the data and regularizaion loss."
   ]
  },
  {
   "cell_type": "code",
   "execution_count": 8,
   "metadata": {
    "collapsed": false
   },
   "outputs": [
    {
     "name": "stdout",
     "output_type": "stream",
     "text": [
      "Difference between your loss and correct loss:\n",
      "0.517447048212\n"
     ]
    }
   ],
   "source": [
    "loss, _ = net.loss(X, y, reg=0.1)\n",
    "correct_loss = 1.30378789133 # dummy value\n",
    "\n",
    "# should be very small, we get < 1e-12\n",
    "print 'Difference between your loss and correct loss:'\n",
    "print np.sum(np.abs(loss - correct_loss))"
   ]
  },
  {
   "cell_type": "markdown",
   "metadata": {},
   "source": [
    "# Backward pass\n",
    "Implement the rest of the function. This will compute the gradient of the loss with respect to the variables `W1`, `b1`, `W2`, and `b2`. Now that you (hopefully!) have a correctly implemented forward pass, you can debug your backward pass using a numeric gradient check:"
   ]
  },
  {
   "cell_type": "code",
   "execution_count": 9,
   "metadata": {
    "collapsed": false
   },
   "outputs": [
    {
     "name": "stdout",
     "output_type": "stream",
     "text": [
      "b2 max relative error: 1.039752e-10\n",
      "W2 max relative error: 2.312778e-10\n",
      "W1 max relative error: 1.367135e-09\n",
      "b1 max relative error: 1.599280e-09\n"
     ]
    }
   ],
   "source": [
    "from cs231n.gradient_check import eval_numerical_gradient\n",
    "\n",
    "# Use numeric gradient checking to check your implementation of the backward pass.\n",
    "# If your implementation is correct, the difference between the numeric and\n",
    "# analytic gradients should be less than 1e-8 for each of W1, W2, b1, and b2.\n",
    "\n",
    "loss, grads = net.loss(X, y, reg=0.1)\n",
    "\n",
    "# these should all be less than 1e-8 or so\n",
    "for param_name in grads:\n",
    "  f = lambda W: net.loss(X, y, reg=0.1)[0]\n",
    "  param_grad_num = eval_numerical_gradient(f, net.params[param_name], verbose=False)\n",
    "  print '%s max relative error: %e' % (param_name, rel_error(param_grad_num, grads[param_name]))"
   ]
  },
  {
   "cell_type": "markdown",
   "metadata": {},
   "source": [
    "# Train the network\n",
    "To train the network we will use stochastic gradient descent (SGD), similar to the SVM and Softmax classifiers. Look at the function `TwoLayerNet.train` and fill in the missing sections to implement the training procedure. This should be very similar to the training procedure you used for the SVM and Softmax classifiers. You will also have to implement `TwoLayerNet.predict`, as the training process periodically performs prediction to keep track of accuracy over time while the network trains.\n",
    "\n",
    "Once you have implemented the method, run the code below to train a two-layer network on toy data. You should achieve a training loss less than 0.2."
   ]
  },
  {
   "cell_type": "code",
   "execution_count": 10,
   "metadata": {
    "collapsed": false
   },
   "outputs": [
    {
     "name": "stdout",
     "output_type": "stream",
     "text": [
      "Final training loss:  0.132510738892\n"
     ]
    },
    {
     "data": {
      "image/png": "[encoded data removed]",
      "text/plain": [
       "<matplotlib.figure.Figure at 0x112f2ad10>"
      ]
     },
     "metadata": {},
     "output_type": "display_data"
    }
   ],
   "source": [
    "net = init_toy_model()\n",
    "# print X\n",
    "# print y\n",
    "stats = net.train(X, y, X, y,\n",
    "            learning_rate=1e-1, reg=1e-5,\n",
    "            num_iters=100, verbose=False)\n",
    "\n",
    "print 'Final training loss: ', stats['loss_history'][-1]\n",
    "\n",
    "# plot the loss history\n",
    "plt.plot(stats['loss_history'])\n",
    "plt.xlabel('iteration')\n",
    "plt.ylabel('training loss')\n",
    "plt.title('Training Loss history')\n",
    "plt.show()"
   ]
  },
  {
   "cell_type": "markdown",
   "metadata": {},
   "source": [
    "# Load the data\n",
    "Now that you have implemented a two-layer network that passes gradient checks and works on toy data, it's time to load up our favorite CIFAR-10 data so we can use it to train a classifier on a real dataset."
   ]
  },
  {
   "cell_type": "code",
   "execution_count": 93,
   "metadata": {
    "collapsed": false
   },
   "outputs": [],
   "source": [
    "from cs231n.data_utils import load_CIFAR10\n",
    "\n",
    "def get_CIFAR10_data(num_training=49000, num_validation=1000, num_test=1000):\n",
    "    \"\"\"\n",
    "    Load the CIFAR-10 dataset from disk and perform preprocessing to prepare\n",
    "    it for the two-layer neural net classifier. These are the same steps as\n",
    "    we used for the SVM, but condensed to a single function.  \n",
    "    \"\"\"\n",
    "    # Load the raw CIFAR-10 data\n",
    "    cifar10_dir = 'cs231n/datasets/cifar-10-batches-py'\n",
    "    X_train, y_train, X_test, y_test = load_CIFAR10(cifar10_dir)\n",
    "        \n",
    "    # Subsample the data\n",
    "    mask = range(num_training, num_training + num_validation)\n",
    "    X_val = X_train[mask]\n",
    "    y_val = y_train[mask]\n",
    "    mask = range(num_training)\n",
    "    X_train = X_train[mask]\n",
    "    y_train = y_train[mask]\n",
    "    mask = range(num_test)\n",
    "    X_test = X_test[mask]\n",
    "    y_test = y_test[mask]\n",
    "\n",
    "    # Normalize the data: subtract the mean image\n",
    "    mean_image = np.mean(X_train, axis=0)\n",
    "    X_train -= mean_image\n",
    "    X_val -= mean_image\n",
    "    X_test -= mean_image\n",
    "\n",
    "    # Reshape data to rows\n",
    "    X_train = X_train.reshape(num_training, -1)\n",
    "    X_val = X_val.reshape(num_validation, -1)\n",
    "    X_test = X_test.reshape(num_test, -1)\n",
    "\n",
    "    return X_train, y_train, X_val, y_val, X_test, y_test\n",
    "\n",
    "\n"
   ]
  },
  {
   "cell_type": "code",
   "execution_count": 5,
   "metadata": {
    "collapsed": false
   },
   "outputs": [
    {
     "name": "stdout",
     "output_type": "stream",
     "text": [
      "(2197291, 50)\n",
      "Train data shape:  (1406266, 50)\n",
      "Train labels shape:  (1406266,)\n",
      "Validation data shape:  (351567, 50)\n",
      "Validation labels shape:  (351567,)\n",
      "Test data shape:  (439458, 50)\n",
      "Test labels shape:  (439458,)\n"
     ]
    }
   ],
   "source": [
    "y = merged_df['outcome'].values\n",
    "tmp = merged_df.drop(['people_id','activity_id','date_x','date_y','outcome'], 1)\n",
    "X = tmp.values\n",
    "print X.shape\n",
    "#print X[3,:]\n",
    "# print tmp.head(10)\n",
    "X_train = X[0:1406266,:]\n",
    "y_train = y[0:1406266]\n",
    "X_val = X[1406266:1757833,:]\n",
    "y_val = y[1406266:1757833]\n",
    "X_test = X[1757833:2197291,:]\n",
    "y_test = y[1757833:2197291]\n",
    "\n",
    "# Invoke the above function to get our data.\n",
    "# X_train, y_train, X_val, y_val, X_test, y_test = get_CIFAR10_data(490,10,10)\n",
    "print 'Train data shape: ', X_train.shape\n",
    "print 'Train labels shape: ', y_train.shape\n",
    "print 'Validation data shape: ', X_val.shape\n",
    "print 'Validation labels shape: ', y_val.shape\n",
    "print 'Test data shape: ', X_test.shape\n",
    "print 'Test labels shape: ', y_test.shape"
   ]
  },
  {
   "cell_type": "markdown",
   "metadata": {},
   "source": [
    "# Train a network\n",
    "To train our network we will use SGD with momentum. In addition, we will adjust the learning rate with an exponential learning rate schedule as optimization proceeds; after each epoch, we will reduce the learning rate by multiplying it by a decay rate."
   ]
  },
  {
   "cell_type": "code",
   "execution_count": 14,
   "metadata": {
    "collapsed": false
   },
   "outputs": [
    {
     "name": "stdout",
     "output_type": "stream",
     "text": [
      "iteration 0 / 40000: loss 0.693173\n",
      "iteration 100 / 40000: loss 0.677820\n",
      "iteration 200 / 40000: loss 0.669449\n",
      "iteration 300 / 40000: loss 0.656030\n",
      "iteration 400 / 40000: loss 0.675461\n",
      "iteration 500 / 40000: loss 0.680426\n",
      "iteration 600 / 40000: loss 0.696262\n",
      "iteration 700 / 40000: loss 0.672914\n",
      "iteration 800 / 40000: loss 0.650694\n",
      "iteration 900 / 40000: loss 0.680168\n",
      "iteration 1000 / 40000: loss 0.691477\n",
      "iteration 1100 / 40000: loss 0.676305\n",
      "iteration 1200 / 40000: loss 0.666728\n",
      "iteration 1300 / 40000: loss 0.691261\n",
      "iteration 1400 / 40000: loss 0.668496\n",
      "iteration 1500 / 40000: loss 0.654361\n",
      "iteration 1600 / 40000: loss 0.667894\n",
      "iteration 1700 / 40000: loss 0.672326\n",
      "iteration 1800 / 40000: loss 0.692539\n",
      "iteration 1900 / 40000: loss 0.664164\n",
      "iteration 2000 / 40000: loss 0.659943\n",
      "iteration 2100 / 40000: loss 0.676064\n",
      "iteration 2200 / 40000: loss 0.675648\n",
      "iteration 2300 / 40000: loss 0.679032\n",
      "iteration 2400 / 40000: loss 0.659287\n",
      "iteration 2500 / 40000: loss 0.674231\n",
      "iteration 2600 / 40000: loss 0.699872\n",
      "iteration 2700 / 40000: loss 0.682516\n",
      "iteration 2800 / 40000: loss 0.678787\n",
      "iteration 2900 / 40000: loss 0.660697\n",
      "iteration 3000 / 40000: loss 0.647759\n",
      "iteration 3100 / 40000: loss 0.668674\n",
      "iteration 3200 / 40000: loss 0.666773\n",
      "iteration 3300 / 40000: loss 0.666267\n",
      "iteration 3400 / 40000: loss 0.659791\n",
      "iteration 3500 / 40000: loss 0.623717\n",
      "iteration 3600 / 40000: loss 0.671580\n",
      "iteration 3700 / 40000: loss 0.680557\n",
      "iteration 3800 / 40000: loss 0.676709\n",
      "iteration 3900 / 40000: loss 0.676283\n",
      "iteration 4000 / 40000: loss 0.657058\n",
      "iteration 4100 / 40000: loss 0.645426\n",
      "iteration 4200 / 40000: loss 0.659281\n",
      "iteration 4300 / 40000: loss 0.709480\n",
      "iteration 4400 / 40000: loss 0.697715\n",
      "iteration 4500 / 40000: loss 0.669932\n",
      "iteration 4600 / 40000: loss 0.669785\n",
      "iteration 4700 / 40000: loss 0.665570\n",
      "iteration 4800 / 40000: loss 0.674537\n",
      "iteration 4900 / 40000: loss 0.680628\n",
      "iteration 5000 / 40000: loss 0.707501\n",
      "iteration 5100 / 40000: loss 0.662913\n",
      "iteration 5200 / 40000: loss 0.687386\n",
      "iteration 5300 / 40000: loss 0.687899\n",
      "iteration 5400 / 40000: loss 0.656838\n",
      "iteration 5500 / 40000: loss 0.667157\n",
      "iteration 5600 / 40000: loss 0.685726\n",
      "iteration 5700 / 40000: loss 0.643822\n",
      "iteration 5800 / 40000: loss 0.611268\n",
      "iteration 5900 / 40000: loss 0.647143\n",
      "iteration 6000 / 40000: loss 0.646940\n",
      "iteration 6100 / 40000: loss 0.600969\n",
      "iteration 6200 / 40000: loss 0.647337\n",
      "iteration 6300 / 40000: loss 0.685762\n",
      "iteration 6400 / 40000: loss 0.669002\n",
      "iteration 6500 / 40000: loss 0.658383\n",
      "iteration 6600 / 40000: loss 0.644784\n",
      "iteration 6700 / 40000: loss 0.657014\n",
      "iteration 6800 / 40000: loss 0.634516\n",
      "iteration 6900 / 40000: loss 0.700406\n",
      "iteration 7000 / 40000: loss 0.680200\n",
      "iteration 7100 / 40000: loss 0.656415\n",
      "iteration 7200 / 40000: loss 0.635438\n",
      "iteration 7300 / 40000: loss 0.671256\n",
      "iteration 7400 / 40000: loss 0.627112\n",
      "iteration 7500 / 40000: loss 0.674134\n",
      "iteration 7600 / 40000: loss 0.625420\n",
      "iteration 7700 / 40000: loss 0.652276\n",
      "iteration 7800 / 40000: loss 0.626235\n",
      "iteration 7900 / 40000: loss 0.634353\n",
      "iteration 8000 / 40000: loss 0.646712\n",
      "iteration 8100 / 40000: loss 0.667702\n",
      "iteration 8200 / 40000: loss 0.675487\n",
      "iteration 8300 / 40000: loss 0.681268\n",
      "iteration 8400 / 40000: loss 0.674688\n",
      "iteration 8500 / 40000: loss 0.642789\n",
      "iteration 8600 / 40000: loss 0.675125\n",
      "iteration 8700 / 40000: loss 0.652037\n",
      "iteration 8800 / 40000: loss 0.655023\n",
      "iteration 8900 / 40000: loss 0.668705\n",
      "iteration 9000 / 40000: loss 0.674932\n",
      "iteration 9100 / 40000: loss 0.664827\n",
      "iteration 9200 / 40000: loss 0.682398\n",
      "iteration 9300 / 40000: loss 0.693644\n",
      "iteration 9400 / 40000: loss 0.649909\n",
      "iteration 9500 / 40000: loss 0.638707\n",
      "iteration 9600 / 40000: loss 0.626619\n",
      "iteration 9700 / 40000: loss 0.666745\n",
      "iteration 9800 / 40000: loss 0.691389\n",
      "iteration 9900 / 40000: loss 0.639571\n",
      "iteration 10000 / 40000: loss 0.646620\n",
      "iteration 10100 / 40000: loss 0.669825\n",
      "iteration 10200 / 40000: loss 0.670595\n",
      "iteration 10300 / 40000: loss 0.685414\n",
      "iteration 10400 / 40000: loss 0.604915\n",
      "iteration 10500 / 40000: loss 0.670684\n",
      "iteration 10600 / 40000: loss 0.649166\n",
      "iteration 10700 / 40000: loss 0.630903\n",
      "iteration 10800 / 40000: loss 0.629593\n",
      "iteration 10900 / 40000: loss 0.691061\n",
      "iteration 11000 / 40000: loss 0.654668\n",
      "iteration 11100 / 40000: loss 0.670129\n",
      "iteration 11200 / 40000: loss 0.685176\n",
      "iteration 11300 / 40000: loss 0.658852\n",
      "iteration 11400 / 40000: loss 0.647551\n",
      "iteration 11500 / 40000: loss 0.695019\n",
      "iteration 11600 / 40000: loss 0.654847\n",
      "iteration 11700 / 40000: loss 0.655192\n",
      "iteration 11800 / 40000: loss 0.653324\n",
      "iteration 11900 / 40000: loss 0.629785\n",
      "iteration 12000 / 40000: loss 0.684804\n",
      "iteration 12100 / 40000: loss 0.679358\n",
      "iteration 12200 / 40000: loss 0.639106\n",
      "iteration 12300 / 40000: loss 0.605227\n",
      "iteration 12400 / 40000: loss 0.655119\n",
      "iteration 12500 / 40000: loss 0.660931\n",
      "iteration 12600 / 40000: loss 0.661143\n",
      "iteration 12700 / 40000: loss 0.621775\n",
      "iteration 12800 / 40000: loss 0.753213\n",
      "iteration 12900 / 40000: loss 0.620300\n",
      "iteration 13000 / 40000: loss 0.653766\n",
      "iteration 13100 / 40000: loss 0.625285\n",
      "iteration 13200 / 40000: loss 0.691072\n",
      "iteration 13300 / 40000: loss 0.638343\n",
      "iteration 13400 / 40000: loss 0.656500\n",
      "iteration 13500 / 40000: loss 0.681238\n",
      "iteration 13600 / 40000: loss 0.745899\n",
      "iteration 13700 / 40000: loss 0.656202\n",
      "iteration 13800 / 40000: loss 0.642009\n",
      "iteration 13900 / 40000: loss 0.613980\n",
      "iteration 14000 / 40000: loss 0.682041\n",
      "iteration 14100 / 40000: loss 0.649879\n",
      "iteration 14200 / 40000: loss 0.682368\n",
      "iteration 14300 / 40000: loss 0.641222\n",
      "iteration 14400 / 40000: loss 0.650364\n",
      "iteration 14500 / 40000: loss 0.641164\n",
      "iteration 14600 / 40000: loss 0.684962\n",
      "iteration 14700 / 40000: loss 0.647793\n",
      "iteration 14800 / 40000: loss 0.631632\n",
      "iteration 14900 / 40000: loss 0.663341\n",
      "iteration 15000 / 40000: loss 0.637923\n",
      "iteration 15100 / 40000: loss 0.695410\n",
      "iteration 15200 / 40000: loss 0.691726\n",
      "iteration 15300 / 40000: loss 0.689282\n",
      "iteration 15400 / 40000: loss 0.698316\n",
      "iteration 15500 / 40000: loss 0.689649\n",
      "iteration 15600 / 40000: loss 0.647011\n",
      "iteration 15700 / 40000: loss 0.650029\n",
      "iteration 15800 / 40000: loss 0.656707\n",
      "iteration 15900 / 40000: loss 0.668546\n",
      "iteration 16000 / 40000: loss 0.660917\n",
      "iteration 16100 / 40000: loss 0.655844\n",
      "iteration 16200 / 40000: loss 0.614939\n",
      "iteration 16300 / 40000: loss 0.637489\n",
      "iteration 16400 / 40000: loss 0.640658\n",
      "iteration 16500 / 40000: loss 0.652621\n",
      "iteration 16600 / 40000: loss 0.711563\n",
      "iteration 16700 / 40000: loss 0.653505\n",
      "iteration 16800 / 40000: loss 0.688619\n",
      "iteration 16900 / 40000: loss 0.695223\n",
      "iteration 17000 / 40000: loss 0.668416\n",
      "iteration 17100 / 40000: loss 0.684632\n",
      "iteration 17200 / 40000: loss 0.641325\n",
      "iteration 17300 / 40000: loss 0.648383\n",
      "iteration 17400 / 40000: loss 0.660404\n",
      "iteration 17500 / 40000: loss 0.682413\n",
      "iteration 17600 / 40000: loss 0.726983\n",
      "iteration 17700 / 40000: loss 0.688245\n",
      "iteration 17800 / 40000: loss 0.657161\n",
      "iteration 17900 / 40000: loss 0.634389\n",
      "iteration 18000 / 40000: loss 0.651716\n",
      "iteration 18100 / 40000: loss 0.691368\n",
      "iteration 18200 / 40000: loss 0.636450\n",
      "iteration 18300 / 40000: loss 0.686371\n",
      "iteration 18400 / 40000: loss 0.638598\n",
      "iteration 18500 / 40000: loss 0.631017\n",
      "iteration 18600 / 40000: loss 0.659808\n",
      "iteration 18700 / 40000: loss 0.631195\n",
      "iteration 18800 / 40000: loss 0.660678\n",
      "iteration 18900 / 40000: loss 0.644841\n",
      "iteration 19000 / 40000: loss 0.666077\n",
      "iteration 19100 / 40000: loss 0.642216\n",
      "iteration 19200 / 40000: loss 0.609680\n",
      "iteration 19300 / 40000: loss 0.650223\n",
      "iteration 19400 / 40000: loss 0.650968\n",
      "iteration 19500 / 40000: loss 0.703081\n",
      "iteration 19600 / 40000: loss 0.645106\n",
      "iteration 19700 / 40000: loss 0.606933\n",
      "iteration 19800 / 40000: loss 0.681141\n",
      "iteration 19900 / 40000: loss 0.650166\n",
      "iteration 20000 / 40000: loss 0.675668\n",
      "iteration 20100 / 40000: loss 0.680332\n",
      "iteration 20200 / 40000: loss 0.636144\n",
      "iteration 20300 / 40000: loss 0.645377\n",
      "iteration 20400 / 40000: loss 0.669398\n",
      "iteration 20500 / 40000: loss 0.639426\n",
      "iteration 20600 / 40000: loss 0.663149\n",
      "iteration 20700 / 40000: loss 0.619107\n",
      "iteration 20800 / 40000: loss 0.628769\n",
      "iteration 20900 / 40000: loss 0.654731\n",
      "iteration 21000 / 40000: loss 0.677534\n",
      "iteration 21100 / 40000: loss 0.653739\n",
      "iteration 21200 / 40000: loss 0.661748\n",
      "iteration 21300 / 40000: loss 0.595003\n",
      "iteration 21400 / 40000: loss 0.629723\n",
      "iteration 21500 / 40000: loss 0.629844\n",
      "iteration 21600 / 40000: loss 0.638032\n",
      "iteration 21700 / 40000: loss 0.631512\n",
      "iteration 21800 / 40000: loss 0.618805\n",
      "iteration 21900 / 40000: loss 0.649654\n",
      "iteration 22000 / 40000: loss 0.697567\n",
      "iteration 22100 / 40000: loss 0.658112\n",
      "iteration 22200 / 40000: loss 0.663991\n",
      "iteration 22300 / 40000: loss 0.631064\n",
      "iteration 22400 / 40000: loss 0.641258\n",
      "iteration 22500 / 40000: loss 0.679723\n",
      "iteration 22600 / 40000: loss 0.620537\n",
      "iteration 22700 / 40000: loss 0.645865\n",
      "iteration 22800 / 40000: loss 0.642508\n",
      "iteration 22900 / 40000: loss 0.634788\n",
      "iteration 23000 / 40000: loss 0.641102\n",
      "iteration 23100 / 40000: loss 0.581051\n",
      "iteration 23200 / 40000: loss 0.651992\n",
      "iteration 23300 / 40000: loss 0.628623\n",
      "iteration 23400 / 40000: loss 0.648526\n",
      "iteration 23500 / 40000: loss 0.595831\n",
      "iteration 23600 / 40000: loss 0.673896\n",
      "iteration 23700 / 40000: loss 0.620760\n",
      "iteration 23800 / 40000: loss 0.642451\n",
      "iteration 23900 / 40000: loss 0.648432\n",
      "iteration 24000 / 40000: loss 0.602380\n",
      "iteration 24100 / 40000: loss 0.609515\n",
      "iteration 24200 / 40000: loss 0.611826\n",
      "iteration 24300 / 40000: loss 0.622920\n",
      "iteration 24400 / 40000: loss 0.660753\n",
      "iteration 24500 / 40000: loss 0.642035\n",
      "iteration 24600 / 40000: loss 0.622315\n",
      "iteration 24700 / 40000: loss 0.634138\n",
      "iteration 24800 / 40000: loss 0.640394\n",
      "iteration 24900 / 40000: loss 0.637278\n",
      "iteration 25000 / 40000: loss 0.685366\n",
      "iteration 25100 / 40000: loss 0.655764\n",
      "iteration 25200 / 40000: loss 0.655992\n",
      "iteration 25300 / 40000: loss 0.743998\n",
      "iteration 25400 / 40000: loss 0.641551\n",
      "iteration 25500 / 40000: loss 0.602194\n",
      "iteration 25600 / 40000: loss 0.674571\n",
      "iteration 25700 / 40000: loss 0.621482\n",
      "iteration 25800 / 40000: loss 0.699417\n",
      "iteration 25900 / 40000: loss 0.629990\n",
      "iteration 26000 / 40000: loss 0.642088\n",
      "iteration 26100 / 40000: loss 0.666003\n",
      "iteration 26200 / 40000: loss 0.649804\n",
      "iteration 26300 / 40000: loss 0.692019\n",
      "iteration 26400 / 40000: loss 0.627972\n",
      "iteration 26500 / 40000: loss 0.700003\n",
      "iteration 26600 / 40000: loss 0.650010\n",
      "iteration 26700 / 40000: loss 0.643874\n",
      "iteration 26800 / 40000: loss 0.645821\n",
      "iteration 26900 / 40000: loss 0.652686\n",
      "iteration 27000 / 40000: loss 0.642439\n",
      "iteration 27100 / 40000: loss 0.645806\n",
      "iteration 27200 / 40000: loss 0.636391\n",
      "iteration 27300 / 40000: loss 0.691509\n",
      "iteration 27400 / 40000: loss 0.620226\n",
      "iteration 27500 / 40000: loss 0.658680\n",
      "iteration 27600 / 40000: loss 0.638602\n",
      "iteration 27700 / 40000: loss 0.646368\n",
      "iteration 27800 / 40000: loss 0.603399\n",
      "iteration 27900 / 40000: loss 0.727355\n",
      "iteration 28000 / 40000: loss 0.580877\n",
      "iteration 28100 / 40000: loss 0.685571\n",
      "iteration 28200 / 40000: loss 0.636548\n",
      "iteration 28300 / 40000: loss 0.664857\n",
      "iteration 28400 / 40000: loss 0.632895\n",
      "iteration 28500 / 40000: loss 0.599093\n",
      "iteration 28600 / 40000: loss 0.623998\n",
      "iteration 28700 / 40000: loss 0.649617\n",
      "iteration 28800 / 40000: loss 0.682264\n",
      "iteration 28900 / 40000: loss 0.706215\n",
      "iteration 29000 / 40000: loss 0.672436\n",
      "iteration 29100 / 40000: loss 0.621296\n",
      "iteration 29200 / 40000: loss 0.592317\n",
      "iteration 29300 / 40000: loss 0.639056\n",
      "iteration 29400 / 40000: loss 0.663035\n",
      "iteration 29500 / 40000: loss 0.618888\n",
      "iteration 29600 / 40000: loss 0.629585\n",
      "iteration 29700 / 40000: loss 0.589007\n",
      "iteration 29800 / 40000: loss 0.655592\n",
      "iteration 29900 / 40000: loss 0.708483\n",
      "iteration 30000 / 40000: loss 0.629493\n",
      "iteration 30100 / 40000: loss 0.592281\n",
      "iteration 30200 / 40000: loss 0.618198\n",
      "iteration 30300 / 40000: loss 0.738191\n",
      "iteration 30400 / 40000: loss 0.688496\n",
      "iteration 30500 / 40000: loss 0.631129\n",
      "iteration 30600 / 40000: loss 0.673996\n",
      "iteration 30700 / 40000: loss 0.628135\n",
      "iteration 30800 / 40000: loss 0.646912\n",
      "iteration 30900 / 40000: loss 0.599648\n",
      "iteration 31000 / 40000: loss 0.637238\n",
      "iteration 31100 / 40000: loss 0.656045\n",
      "iteration 31200 / 40000: loss 0.642237\n",
      "iteration 31300 / 40000: loss 0.646628\n",
      "iteration 31400 / 40000: loss 0.641406\n",
      "iteration 31500 / 40000: loss 0.585854\n",
      "iteration 31600 / 40000: loss 0.646284\n",
      "iteration 31700 / 40000: loss 0.663571\n",
      "iteration 31800 / 40000: loss 0.606204\n",
      "iteration 31900 / 40000: loss 0.618567\n",
      "iteration 32000 / 40000: loss 0.601196\n",
      "iteration 32100 / 40000: loss 0.617131\n",
      "iteration 32200 / 40000: loss 0.590555\n",
      "iteration 32300 / 40000: loss 0.590553\n",
      "iteration 32400 / 40000: loss 0.671018\n",
      "iteration 32500 / 40000: loss 0.673645\n",
      "iteration 32600 / 40000: loss 0.657267\n",
      "iteration 32700 / 40000: loss 0.664300\n",
      "iteration 32800 / 40000: loss 0.613278\n",
      "iteration 32900 / 40000: loss 0.694824\n",
      "iteration 33000 / 40000: loss 0.654082\n",
      "iteration 33100 / 40000: loss 0.638539\n",
      "iteration 33200 / 40000: loss 0.588367\n",
      "iteration 33300 / 40000: loss 0.666735\n",
      "iteration 33400 / 40000: loss 0.634246\n",
      "iteration 33500 / 40000: loss 0.604191\n",
      "iteration 33600 / 40000: loss 0.629684\n",
      "iteration 33700 / 40000: loss 0.638898\n",
      "iteration 33800 / 40000: loss 0.666556\n",
      "iteration 33900 / 40000: loss 0.600364\n",
      "iteration 34000 / 40000: loss 0.638695\n",
      "iteration 34100 / 40000: loss 0.625024\n",
      "iteration 34200 / 40000: loss 0.584418\n",
      "iteration 34300 / 40000: loss 0.647691\n",
      "iteration 34400 / 40000: loss 0.609334\n",
      "iteration 34500 / 40000: loss 0.638013\n",
      "iteration 34600 / 40000: loss 0.624017\n",
      "iteration 34700 / 40000: loss 0.698626\n",
      "iteration 34800 / 40000: loss 0.640872\n",
      "iteration 34900 / 40000: loss 0.616147\n",
      "iteration 35000 / 40000: loss 0.699882\n",
      "iteration 35100 / 40000: loss 0.643539\n",
      "iteration 35200 / 40000: loss 0.587838\n",
      "iteration 35300 / 40000: loss 0.602247\n",
      "iteration 35400 / 40000: loss 0.611469\n",
      "iteration 35500 / 40000: loss 0.619285\n",
      "iteration 35600 / 40000: loss 0.596459\n",
      "iteration 35700 / 40000: loss 0.649937\n",
      "iteration 35800 / 40000: loss 1.065897\n",
      "iteration 35900 / 40000: loss 0.681709\n",
      "iteration 36000 / 40000: loss 0.617020\n",
      "iteration 36100 / 40000: loss 0.625618\n",
      "iteration 36200 / 40000: loss 0.671071\n",
      "iteration 36300 / 40000: loss 0.697375\n",
      "iteration 36400 / 40000: loss 0.632220\n",
      "iteration 36500 / 40000: loss 0.666156\n",
      "iteration 36600 / 40000: loss 0.593023\n",
      "iteration 36700 / 40000: loss 0.594844\n",
      "iteration 36800 / 40000: loss 0.595662\n",
      "iteration 36900 / 40000: loss 0.648457\n",
      "iteration 37000 / 40000: loss 0.660491\n",
      "iteration 37100 / 40000: loss 0.649683\n",
      "iteration 37200 / 40000: loss 0.602330\n",
      "iteration 37300 / 40000: loss 0.607820\n",
      "iteration 37400 / 40000: loss 0.606254\n",
      "iteration 37500 / 40000: loss 0.597413\n",
      "iteration 37600 / 40000: loss 0.671183\n",
      "iteration 37700 / 40000: loss 0.676394\n",
      "iteration 37800 / 40000: loss 0.611879\n",
      "iteration 37900 / 40000: loss 0.621484\n",
      "iteration 38000 / 40000: loss 0.635384\n",
      "iteration 38100 / 40000: loss 0.676266\n",
      "iteration 38200 / 40000: loss 0.619205\n",
      "iteration 38300 / 40000: loss 0.565114\n",
      "iteration 38400 / 40000: loss 0.628604\n",
      "iteration 38500 / 40000: loss 0.603075\n",
      "iteration 38600 / 40000: loss 0.622065\n",
      "iteration 38700 / 40000: loss 0.608174\n",
      "iteration 38800 / 40000: loss 0.653977\n",
      "iteration 38900 / 40000: loss 0.621774\n",
      "iteration 39000 / 40000: loss 0.591254\n",
      "iteration 39100 / 40000: loss 0.566490\n",
      "iteration 39200 / 40000: loss 0.586358\n",
      "iteration 39300 / 40000: loss 0.664307\n",
      "iteration 39400 / 40000: loss 0.655970\n",
      "iteration 39500 / 40000: loss 0.625079\n",
      "iteration 39600 / 40000: loss 0.628025\n",
      "iteration 39700 / 40000: loss 0.619814\n",
      "iteration 39800 / 40000: loss 0.627703\n",
      "iteration 39900 / 40000: loss 0.614284\n",
      "Validation accuracy:  0.753870528235\n"
     ]
    }
   ],
   "source": [
    "# input_size = 32 * 32 * 3\n",
    "# hidden_size = 50\n",
    "# num_classes = 10\n",
    "\n",
    "input_size = 50\n",
    "hidden_size = 30\n",
    "num_classes = 2\n",
    "net = TwoLayerNet(input_size, hidden_size, num_classes)\n",
    "\n",
    "# Train the network\n",
    "stats = net.train(X_train, y_train, X_val, y_val,\n",
    "            num_iters=40000, batch_size=200,\n",
    "            learning_rate=0.000122574676049, learning_rate_decay=0.95,\n",
    "            reg=0.000257796641079, verbose=True)\n",
    "\n",
    "# Predict on the validation set\n",
    "val_acc = (net.predict(X_val) == y_val).mean()\n",
    "print 'Validation accuracy: ', val_acc\n",
    "\n"
   ]
  },
  {
   "cell_type": "markdown",
   "metadata": {},
   "source": [
    "# Debug the training\n",
    "With the default parameters we provided above, you should get a validation accuracy of about 0.29 on the validation set. This isn't very good.\n",
    "\n",
    "One strategy for getting insight into what's wrong is to plot the loss function and the accuracies on the training and validation sets during optimization.\n",
    "\n",
    "Another strategy is to visualize the weights that were learned in the first layer of the network. In most neural networks trained on visual data, the first layer weights typically show some visible structure when visualized."
   ]
  },
  {
   "cell_type": "code",
   "execution_count": 18,
   "metadata": {
    "collapsed": false
   },
   "outputs": [
    {
     "name": "stdout",
     "output_type": "stream",
     "text": [
      "(498687, 50)\n"
     ]
    }
   ],
   "source": [
    "activity_id = list(merged_test_df.activity_id)\n",
    "test_dataset = merged_test_df.drop(['people_id','activity_id','date_x','date_y'], 1)\n",
    "test_mat = np.array(test_dataset, dtype='int')\n",
    "print test_mat.shape"
   ]
  },
  {
   "cell_type": "code",
   "execution_count": 19,
   "metadata": {
    "collapsed": false
   },
   "outputs": [
    {
     "name": "stdout",
     "output_type": "stream",
     "text": [
      "(498687,)\n"
     ]
    }
   ],
   "source": [
    "ans = net.predict(test_mat)\n",
    "print ans.shape"
   ]
  },
  {
   "cell_type": "code",
   "execution_count": 20,
   "metadata": {
    "collapsed": false
   },
   "outputs": [
    {
     "data": {
      "text/html": [
       "<div>\n",
       "<table border=\"1\" class=\"dataframe\">\n",
       "  <thead>\n",
       "    <tr style=\"text-align: right;\">\n",
       "      <th></th>\n",
       "      <th>activity_id</th>\n",
       "      <th>outcome</th>\n",
       "    </tr>\n",
       "  </thead>\n",
       "  <tbody>\n",
       "    <tr>\n",
       "      <th>0</th>\n",
       "      <td>act1_249281</td>\n",
       "      <td>1</td>\n",
       "    </tr>\n",
       "    <tr>\n",
       "      <th>1</th>\n",
       "      <td>act2_230855</td>\n",
       "      <td>1</td>\n",
       "    </tr>\n",
       "    <tr>\n",
       "      <th>2</th>\n",
       "      <td>act1_240724</td>\n",
       "      <td>1</td>\n",
       "    </tr>\n",
       "    <tr>\n",
       "      <th>3</th>\n",
       "      <td>act1_83552</td>\n",
       "      <td>1</td>\n",
       "    </tr>\n",
       "    <tr>\n",
       "      <th>4</th>\n",
       "      <td>act2_1043301</td>\n",
       "      <td>1</td>\n",
       "    </tr>\n",
       "  </tbody>\n",
       "</table>\n",
       "</div>"
      ],
      "text/plain": [
       "    activity_id  outcome\n",
       "0   act1_249281        1\n",
       "1   act2_230855        1\n",
       "2   act1_240724        1\n",
       "3    act1_83552        1\n",
       "4  act2_1043301        1"
      ]
     },
     "execution_count": 20,
     "metadata": {},
     "output_type": "execute_result"
    }
   ],
   "source": [
    "output_df = pd.DataFrame({'activity_id' : activity_id, 'outcome': ans})\n",
    "output_df.head(5)"
   ]
  },
  {
   "cell_type": "code",
   "execution_count": 22,
   "metadata": {
    "collapsed": false
   },
   "outputs": [
    {
     "name": "stderr",
     "output_type": "stream",
     "text": [
      "/usr/local/lib/python2.7/site-packages/ipykernel/__main__.py:1: FutureWarning: sort(columns=....) is deprecated, use sort_values(by=.....)\n",
      "  if __name__ == '__main__':\n"
     ]
    }
   ],
   "source": [
    "output_df.sort(['activity_id','outcome']).to_csv('output_2NN.out', index=False)"
   ]
  },
  {
   "cell_type": "code",
   "execution_count": 15,
   "metadata": {
    "collapsed": false
   },
   "outputs": [
    {
     "data": {
      "image/png": "[encoded data removed]",
      "text/plain": [
       "<matplotlib.figure.Figure at 0x114623410>"
      ]
     },
     "metadata": {},
     "output_type": "display_data"
    }
   ],
   "source": [
    "# Plot the loss function and train / validation accuracies\n",
    "plt.subplot(2, 1, 1)\n",
    "plt.plot(stats['loss_history'])\n",
    "plt.title('Loss history')\n",
    "plt.xlabel('Iteration')\n",
    "plt.ylabel('Loss')\n",
    "\n",
    "plt.subplot(2, 1, 2)\n",
    "plt.plot(stats['train_acc_history'], label='train', color='blue')\n",
    "plt.plot(stats['val_acc_history'], label='val', color='red')\n",
    "plt.title('Classification accuracy history')\n",
    "plt.xlabel('Epoch')\n",
    "plt.ylabel('Clasification accuracy')\n",
    "plt.show()"
   ]
  },
  {
   "cell_type": "code",
   "execution_count": 84,
   "metadata": {
    "collapsed": false
   },
   "outputs": [
    {
     "ename": "ValueError",
     "evalue": "total size of new array must be unchanged",
     "output_type": "error",
     "traceback": [
      "\u001b[0;31m---------------------------------------------------------------------------\u001b[0m",
      "\u001b[0;31mValueError\u001b[0m                                Traceback (most recent call last)",
      "\u001b[0;32m<ipython-input-84-b31a8c78de82>\u001b[0m in \u001b[0;36m<module>\u001b[0;34m()\u001b[0m\n\u001b[1;32m     10\u001b[0m   \u001b[0mplt\u001b[0m\u001b[0;34m.\u001b[0m\u001b[0mshow\u001b[0m\u001b[0;34m(\u001b[0m\u001b[0;34m)\u001b[0m\u001b[0;34m\u001b[0m\u001b[0m\n\u001b[1;32m     11\u001b[0m \u001b[0;34m\u001b[0m\u001b[0m\n\u001b[0;32m---> 12\u001b[0;31m \u001b[0mshow_net_weights\u001b[0m\u001b[0;34m(\u001b[0m\u001b[0mnet\u001b[0m\u001b[0;34m)\u001b[0m\u001b[0;34m\u001b[0m\u001b[0m\n\u001b[0m",
      "\u001b[0;32m<ipython-input-84-b31a8c78de82>\u001b[0m in \u001b[0;36mshow_net_weights\u001b[0;34m(net)\u001b[0m\n\u001b[1;32m      5\u001b[0m \u001b[0;32mdef\u001b[0m \u001b[0mshow_net_weights\u001b[0m\u001b[0;34m(\u001b[0m\u001b[0mnet\u001b[0m\u001b[0;34m)\u001b[0m\u001b[0;34m:\u001b[0m\u001b[0;34m\u001b[0m\u001b[0m\n\u001b[1;32m      6\u001b[0m   \u001b[0mW1\u001b[0m \u001b[0;34m=\u001b[0m \u001b[0mnet\u001b[0m\u001b[0;34m.\u001b[0m\u001b[0mparams\u001b[0m\u001b[0;34m[\u001b[0m\u001b[0;34m'W1'\u001b[0m\u001b[0;34m]\u001b[0m\u001b[0;34m\u001b[0m\u001b[0m\n\u001b[0;32m----> 7\u001b[0;31m   \u001b[0mW1\u001b[0m \u001b[0;34m=\u001b[0m \u001b[0mW1\u001b[0m\u001b[0;34m.\u001b[0m\u001b[0mreshape\u001b[0m\u001b[0;34m(\u001b[0m\u001b[0;36m32\u001b[0m\u001b[0;34m,\u001b[0m \u001b[0;36m32\u001b[0m\u001b[0;34m,\u001b[0m \u001b[0;36m3\u001b[0m\u001b[0;34m,\u001b[0m \u001b[0;34m-\u001b[0m\u001b[0;36m1\u001b[0m\u001b[0;34m)\u001b[0m\u001b[0;34m.\u001b[0m\u001b[0mtranspose\u001b[0m\u001b[0;34m(\u001b[0m\u001b[0;36m3\u001b[0m\u001b[0;34m,\u001b[0m \u001b[0;36m0\u001b[0m\u001b[0;34m,\u001b[0m \u001b[0;36m1\u001b[0m\u001b[0;34m,\u001b[0m \u001b[0;36m2\u001b[0m\u001b[0;34m)\u001b[0m\u001b[0;34m\u001b[0m\u001b[0m\n\u001b[0m\u001b[1;32m      8\u001b[0m   \u001b[0mplt\u001b[0m\u001b[0;34m.\u001b[0m\u001b[0mimshow\u001b[0m\u001b[0;34m(\u001b[0m\u001b[0mvisualize_grid\u001b[0m\u001b[0;34m(\u001b[0m\u001b[0mW1\u001b[0m\u001b[0;34m,\u001b[0m \u001b[0mpadding\u001b[0m\u001b[0;34m=\u001b[0m\u001b[0;36m3\u001b[0m\u001b[0;34m)\u001b[0m\u001b[0;34m.\u001b[0m\u001b[0mastype\u001b[0m\u001b[0;34m(\u001b[0m\u001b[0;34m'uint8'\u001b[0m\u001b[0;34m)\u001b[0m\u001b[0;34m)\u001b[0m\u001b[0;34m\u001b[0m\u001b[0m\n\u001b[1;32m      9\u001b[0m   \u001b[0mplt\u001b[0m\u001b[0;34m.\u001b[0m\u001b[0mgca\u001b[0m\u001b[0;34m(\u001b[0m\u001b[0;34m)\u001b[0m\u001b[0;34m.\u001b[0m\u001b[0maxis\u001b[0m\u001b[0;34m(\u001b[0m\u001b[0;34m'off'\u001b[0m\u001b[0;34m)\u001b[0m\u001b[0;34m\u001b[0m\u001b[0m\n",
      "\u001b[0;31mValueError\u001b[0m: total size of new array must be unchanged"
     ]
    }
   ],
   "source": [
    "from cs231n.vis_utils import visualize_grid\n",
    "\n",
    "# Visualize the weights of the network\n",
    "\n",
    "def show_net_weights(net):\n",
    "  W1 = net.params['W1']\n",
    "  W1 = W1.reshape(32, 32, 3, -1).transpose(3, 0, 1, 2)\n",
    "  plt.imshow(visualize_grid(W1, padding=3).astype('uint8'))\n",
    "  plt.gca().axis('off')\n",
    "  plt.show()\n",
    "\n",
    "show_net_weights(net)"
   ]
  },
  {
   "cell_type": "markdown",
   "metadata": {},
   "source": [
    "# Tune your hyperparameters\n",
    "\n",
    "**What's wrong?**. Looking at the visualizations above, we see that the loss is decreasing more or less linearly, which seems to suggest that the learning rate may be too low. Moreover, there is no gap between the training and validation accuracy, suggesting that the model we used has low capacity, and that we should increase its size. On the other hand, with a very large model we would expect to see more overfitting, which would manifest itself as a very large gap between the training and validation accuracy.\n",
    "\n",
    "**Tuning**. Tuning the hyperparameters and developing intuition for how they affect the final performance is a large part of using Neural Networks, so we want you to get a lot of practice. Below, you should experiment with different values of the various hyperparameters, including hidden layer size, learning rate, numer of training epochs, and regularization strength. You might also consider tuning the learning rate decay, but you should be able to get good performance using the default value.\n",
    "\n",
    "**Approximate results**. You should be aim to achieve a classification accuracy of greater than 48% on the validation set. Our best network gets over 52% on the validation set.\n",
    "\n",
    "**Experiment**: You goal in this exercise is to get as good of a result on CIFAR-10 as you can, with a fully-connected Neural Network. For every 1% above 52% on the Test set we will award you with one extra bonus point. Feel free implement your own techniques (e.g. PCA to reduce dimensionality, or adding dropout, or adding features to the solver, etc.)."
   ]
  },
  {
   "cell_type": "code",
   "execution_count": 13,
   "metadata": {
    "collapsed": false
   },
   "outputs": [
    {
     "name": "stdout",
     "output_type": "stream",
     "text": [
      "2016-08-12 11:22:28.938834 val_acc: 0.716620160595\tlr: 0.000122574676049\treg: 0.000257796641079\t0/100\n",
      "2016-08-12 11:22:39.934928 val_acc: 0.632343194896\tlr: 0.000224158476177\treg: 0.000557655839593\t1/100\n",
      "2016-08-12 11:22:50.251901 val_acc: 0.613925652863\tlr: 0.000139536206552\treg: 0.00018945940003\t2/100\n",
      "2016-08-12 11:23:02.027637 val_acc: 0.625695813316\tlr: 0.000682871192088\treg: 2.70580154327e-05\t3/100\n",
      "2016-08-12 11:23:12.083339 val_acc: 0.621824573979\tlr: 0.000455818449597\treg: 0.000766888962908\t4/100\n",
      "2016-08-12 11:23:22.053200 val_acc: 0.610489607955\tlr: 0.000331041148314\treg: 0.103990693092\t5/100\n",
      "2016-08-12 11:23:33.175227 val_acc: 0.614995150284\tlr: 0.000732548512665\treg: 9.24054008291\t6/100\n",
      "2016-08-12 11:23:46.972642 val_acc: 0.623909525069\tlr: 0.000990601701381\treg: 0.0605841418631\t7/100\n",
      "2016-08-12 11:24:00.459367 val_acc: 0.621227248291\tlr: 0.00097241506152\treg: 0.000256972431957\t8/100\n",
      "2016-08-12 11:24:13.233307 val_acc: 0.629535764164\tlr: 0.000626006291516\treg: 5.51949924912e-05\t9/100\n",
      "2016-08-12 11:24:27.339001 val_acc: 0.618237775445\tlr: 0.000756508731702\treg: 1.01650847341e-05\t10/100\n",
      "2016-08-12 11:24:39.370144 val_acc: 0.631819823817\tlr: 0.00012472432149\treg: 0.0188278192968\t11/100\n",
      "2016-08-12 11:24:53.146477 val_acc: 0.625752701477\tlr: 0.000293648989612\treg: 0.180120337567\t12/100\n",
      "2016-08-12 11:25:03.375673 val_acc: 0.630408997431\tlr: 0.000300267699586\treg: 3.00872002347e-05\t13/100\n",
      "2016-08-12 11:25:13.881646 val_acc: 0.619995619612\tlr: 0.000466586830712\treg: 0.000117850520794\t14/100\n",
      "2016-08-12 11:25:26.672048 val_acc: 0.618328796503\tlr: 0.000137417909563\treg: 0.41256937519\t15/100\n",
      "2016-08-12 11:25:39.614325 val_acc: 0.616741616818\tlr: 0.000408655904394\treg: 1.4465926638e-05\t16/100\n",
      "2016-08-12 11:25:54.758900 val_acc: 0.610754137903\tlr: 0.000867344845591\treg: 0.0346330997992\t17/100\n",
      "2016-08-12 11:26:08.701693 val_acc: 0.610088546422\tlr: 0.00021381414899\treg: 0.48482013355\t18/100\n",
      "2016-08-12 11:26:21.306118 val_acc: 0.63662402899\tlr: 0.000128205865173\treg: 0.025727330205\t19/100\n",
      "2016-08-12 11:26:33.626559 val_acc: 0.629202968424\tlr: 0.000172145596978\treg: 0.00107690260032\t20/100\n",
      "2016-08-12 11:26:44.442710 val_acc: 0.617612005677\tlr: 0.000731356457192\treg: 0.18472311217\t21/100\n",
      "2016-08-12 11:26:54.988951 val_acc: 0.607943862763\tlr: 0.00031106519343\treg: 2.6117201136e-05\t22/100\n",
      "2016-08-12 11:27:07.799512 val_acc: 0.617225166185\tlr: 0.000261523729472\treg: 0.000404128823741\t23/100\n",
      "2016-08-12 11:27:21.038158 val_acc: 0.617452718827\tlr: 0.000190100860718\treg: 3.91349924805\t24/100\n",
      "2016-08-12 11:27:34.807049 val_acc: 0.625394306064\tlr: 0.000206496793431\treg: 0.153406624131\t25/100\n",
      "2016-08-12 11:27:45.303577 val_acc: 0.624612093854\tlr: 0.00029206154603\treg: 0.0302035337724\t26/100\n",
      "2016-08-12 11:27:57.372319 val_acc: 0.62700708542\tlr: 0.000704501188147\treg: 0.000513460895598\t27/100\n",
      "2016-08-12 11:28:10.936857 val_acc: 0.615777362494\tlr: 0.000469198378771\treg: 3.00942246336\t28/100\n",
      "2016-08-12 11:28:21.398681 val_acc: 0.62037392588\tlr: 0.000377908624942\treg: 0.0016990918258\t29/100\n",
      "2016-08-12 11:28:31.579954 val_acc: 0.625169597829\tlr: 0.000418045290926\treg: 1.85294825627e-05\t30/100\n",
      "2016-08-12 11:28:43.187696 val_acc: 0.615453099978\tlr: 0.000872213430208\treg: 0.00329579965717\t31/100\n",
      "2016-08-12 11:28:56.062809 val_acc: 0.61815813202\tlr: 0.000312867804199\treg: 2.61466665319\t32/100\n",
      "2016-08-12 11:29:07.324573 val_acc: 0.624998933347\tlr: 0.000140685927101\treg: 0.137639553396\t33/100\n",
      "2016-08-12 11:29:17.358221 val_acc: 0.624185432649\tlr: 0.000165388855382\treg: 0.00267727353082\t34/100\n",
      "2016-08-12 11:29:27.532925 val_acc: 0.624171210609\tlr: 0.000325524101778\treg: 1.32616830204\t35/100\n",
      "2016-08-12 11:29:37.646722 val_acc: 0.625900610694\tlr: 0.000155337724843\treg: 0.000267722005073\t36/100\n",
      "2016-08-12 11:29:47.723629 val_acc: 0.625388617248\tlr: 0.000155983417595\treg: 0.000201902460466\t37/100\n",
      "2016-08-12 11:29:57.793765 val_acc: 0.615777362494\tlr: 0.000251309828842\treg: 0.0205849980049\t38/100\n",
      "2016-08-12 11:30:07.865952 val_acc: 0.628562976616\tlr: 0.000200224819812\treg: 0.933307451165\t39/100\n",
      "2016-08-12 11:30:17.993888 val_acc: 0.629598341141\tlr: 0.000169568597078\treg: 0.0015689543802\t40/100\n",
      "2016-08-12 11:30:28.129619 val_acc: 0.634129483143\tlr: 0.00054805222872\treg: 0.00289389287563\t41/100\n",
      "2016-08-12 11:30:38.286140 val_acc: 0.638973510028\tlr: 0.000167296312008\treg: 0.372537604492\t42/100\n",
      "2016-08-12 11:30:48.401227 val_acc: 0.627473568338\tlr: 0.000153356378875\treg: 0.0185337910506\t43/100\n",
      "2016-08-12 11:30:58.582628 val_acc: 0.606430637688\tlr: 0.000954462698284\treg: 0.020175194564\t44/100\n",
      "2016-08-12 11:31:08.702626 val_acc: 0.623770149075\tlr: 0.000722640251582\treg: 0.271086125809\t45/100\n",
      "2016-08-12 11:31:18.865274 val_acc: 0.611547727745\tlr: 0.00019370411712\treg: 0.00131849318955\t46/100\n",
      "2016-08-12 11:31:29.075934 val_acc: 0.605079543871\tlr: 0.000348591682893\treg: 0.000105389908127\t47/100\n",
      "2016-08-12 11:31:39.159023 val_acc: 0.618946033046\tlr: 0.000276529767856\treg: 1.17875252768\t48/100\n",
      "2016-08-12 11:31:53.343165 val_acc: 0.64134574633\tlr: 0.000539169552103\treg: 0.0335967484661\t49/100\n"
     ]
    },
    {
     "ename": "KeyboardInterrupt",
     "evalue": "",
     "output_type": "error",
     "traceback": [
      "\u001b[0;31m---------------------------------------------------------------------------\u001b[0m",
      "\u001b[0;31mKeyboardInterrupt\u001b[0m                         Traceback (most recent call last)",
      "\u001b[0;32m<ipython-input-13-054032c9a16b>\u001b[0m in \u001b[0;36m<module>\u001b[0;34m()\u001b[0m\n\u001b[1;32m     36\u001b[0m             \u001b[0mnum_iters\u001b[0m\u001b[0;34m=\u001b[0m\u001b[0;36m10000\u001b[0m\u001b[0;34m,\u001b[0m \u001b[0mbatch_size\u001b[0m\u001b[0;34m=\u001b[0m\u001b[0;36m200\u001b[0m\u001b[0;34m,\u001b[0m\u001b[0;34m\u001b[0m\u001b[0m\n\u001b[1;32m     37\u001b[0m             \u001b[0mlearning_rate\u001b[0m\u001b[0;34m=\u001b[0m\u001b[0mlr\u001b[0m\u001b[0;34m,\u001b[0m \u001b[0mlearning_rate_decay\u001b[0m\u001b[0;34m=\u001b[0m\u001b[0;36m0.95\u001b[0m\u001b[0;34m,\u001b[0m\u001b[0;34m\u001b[0m\u001b[0m\n\u001b[0;32m---> 38\u001b[0;31m             reg=reg, verbose=False)\n\u001b[0m\u001b[1;32m     39\u001b[0m     \u001b[0mval_acc\u001b[0m \u001b[0;34m=\u001b[0m \u001b[0;34m(\u001b[0m\u001b[0mnet\u001b[0m\u001b[0;34m.\u001b[0m\u001b[0mpredict\u001b[0m\u001b[0;34m(\u001b[0m\u001b[0mX_val\u001b[0m\u001b[0;34m)\u001b[0m \u001b[0;34m==\u001b[0m \u001b[0my_val\u001b[0m\u001b[0;34m)\u001b[0m\u001b[0;34m.\u001b[0m\u001b[0mmean\u001b[0m\u001b[0;34m(\u001b[0m\u001b[0;34m)\u001b[0m\u001b[0;34m\u001b[0m\u001b[0m\n\u001b[1;32m     40\u001b[0m     \u001b[0;32mif\u001b[0m \u001b[0mval_acc\u001b[0m \u001b[0;34m>\u001b[0m \u001b[0mbest_val\u001b[0m\u001b[0;34m:\u001b[0m\u001b[0;34m\u001b[0m\u001b[0m\n",
      "\u001b[0;32m/Users/Jojas/kaggle-redhat/sakares-sandbox/cs231n/classifiers/neural_net.pyc\u001b[0m in \u001b[0;36mtrain\u001b[0;34m(self, X, y, X_val, y_val, learning_rate, learning_rate_decay, reg, num_iters, batch_size, verbose)\u001b[0m\n\u001b[1;32m    182\u001b[0m       \u001b[0;31m#########################################################################\u001b[0m\u001b[0;34m\u001b[0m\u001b[0;34m\u001b[0m\u001b[0m\n\u001b[1;32m    183\u001b[0m       \u001b[0mindices\u001b[0m \u001b[0;34m=\u001b[0m \u001b[0mnp\u001b[0m\u001b[0;34m.\u001b[0m\u001b[0mrandom\u001b[0m\u001b[0;34m.\u001b[0m\u001b[0mchoice\u001b[0m\u001b[0;34m(\u001b[0m\u001b[0mnum_train\u001b[0m\u001b[0;34m,\u001b[0m \u001b[0mbatch_size\u001b[0m\u001b[0;34m,\u001b[0m\u001b[0mreplace\u001b[0m\u001b[0;34m=\u001b[0m\u001b[0mTrue\u001b[0m\u001b[0;34m)\u001b[0m\u001b[0;34m\u001b[0m\u001b[0m\n\u001b[0;32m--> 184\u001b[0;31m       \u001b[0mX_batch\u001b[0m \u001b[0;34m=\u001b[0m \u001b[0mX\u001b[0m\u001b[0;34m[\u001b[0m\u001b[0mindices\u001b[0m\u001b[0;34m]\u001b[0m\u001b[0;34m\u001b[0m\u001b[0m\n\u001b[0m\u001b[1;32m    185\u001b[0m       \u001b[0my_batch\u001b[0m \u001b[0;34m=\u001b[0m \u001b[0my\u001b[0m\u001b[0;34m[\u001b[0m\u001b[0mindices\u001b[0m\u001b[0;34m]\u001b[0m\u001b[0;34m\u001b[0m\u001b[0m\n\u001b[1;32m    186\u001b[0m       \u001b[0;31m#########################################################################\u001b[0m\u001b[0;34m\u001b[0m\u001b[0;34m\u001b[0m\u001b[0m\n",
      "\u001b[0;31mKeyboardInterrupt\u001b[0m: "
     ]
    }
   ],
   "source": [
    "best_net = None # store the best model into this \n",
    "\n",
    "#################################################################################\n",
    "# TODO: Tune hyperparameters using the validation set. Store your best trained  #\n",
    "# model in best_net.                                                            #\n",
    "#                                                                               #\n",
    "# To help debug your network, it may help to use visualizations similar to the  #\n",
    "# ones we used above; these visualizations will have significant qualitative    #\n",
    "# differences from the ones we saw above for the poorly tuned network.          #\n",
    "#                                                                               #\n",
    "# Tweaking hyperparameters by hand can be fun, but you might find it useful to  #\n",
    "# write code to sweep through possible combinations of hyperparameters          #\n",
    "# automatically like we did on the previous exercises.                          #\n",
    "#################################################################################\n",
    "import datetime\n",
    "\n",
    "# input_size = 32 * 32 * 3\n",
    "# hidden_size = 100\n",
    "# num_classes = 10\n",
    "# max_count = 100\n",
    "\n",
    "input_size = 50\n",
    "hidden_size = 30\n",
    "num_classes = 2\n",
    "max_count = 100\n",
    "\n",
    "net = TwoLayerNet(input_size, hidden_size, num_classes)\n",
    "best_val = 0\n",
    "best_reg = 0\n",
    "best_lr = 0\n",
    "\n",
    "for count in xrange(max_count):\n",
    "    reg = 10**np.random.uniform(-5,1)\n",
    "    lr = 10**np.random.uniform(-3,-4)    \n",
    "    net_cur = net.train(X_train, y_train, X_val, y_val,\n",
    "            num_iters=10000, batch_size=200,\n",
    "            learning_rate=lr, learning_rate_decay=0.95,\n",
    "            reg=reg, verbose=False)\n",
    "    val_acc = (net.predict(X_val) == y_val).mean()\n",
    "    if val_acc > best_val:\n",
    "        best_net = net_cur\n",
    "        best_val = val_acc\n",
    "        best_lr  = lr\n",
    "        best_reg = reg\n",
    "    print str(datetime.datetime.now())+' val_acc: '+str(val_acc)+'\\tlr: '+str(lr)+'\\treg: '+str(reg)+'\\t'+str(count)+'/'+str(max_count)\n",
    "\n",
    "print \"best_reg: \"+str(best_reg)\n",
    "print \"best_lr: \"+str(best_lr)\n",
    "\n",
    "#################################################################################\n",
    "#                               END OF YOUR CODE                                #\n",
    "#################################################################################"
   ]
  },
  {
   "cell_type": "code",
   "execution_count": 46,
   "metadata": {
    "collapsed": false
   },
   "outputs": [
    {
     "ename": "NameError",
     "evalue": "name 'show_net_weights' is not defined",
     "output_type": "error",
     "traceback": [
      "\u001b[0;31m---------------------------------------------------------------------------\u001b[0m",
      "\u001b[0;31mNameError\u001b[0m                                 Traceback (most recent call last)",
      "\u001b[0;32m<ipython-input-46-92183bf1948b>\u001b[0m in \u001b[0;36m<module>\u001b[0;34m()\u001b[0m\n\u001b[1;32m      1\u001b[0m \u001b[0;31m# visualize the weights of the best network\u001b[0m\u001b[0;34m\u001b[0m\u001b[0;34m\u001b[0m\u001b[0m\n\u001b[0;32m----> 2\u001b[0;31m \u001b[0mshow_net_weights\u001b[0m\u001b[0;34m(\u001b[0m\u001b[0mbest_net\u001b[0m\u001b[0;34m)\u001b[0m\u001b[0;34m\u001b[0m\u001b[0m\n\u001b[0m",
      "\u001b[0;31mNameError\u001b[0m: name 'show_net_weights' is not defined"
     ]
    }
   ],
   "source": [
    "# visualize the weights of the best network\n",
    "show_net_weights(best_net)"
   ]
  },
  {
   "cell_type": "markdown",
   "metadata": {},
   "source": [
    "# Run on the test set\n",
    "When you are done experimenting, you should evaluate your final trained network on the test set; you should get above 48%.\n",
    "\n",
    "**We will give you extra bonus point for every 1% of accuracy above 52%.**"
   ]
  },
  {
   "cell_type": "code",
   "execution_count": 47,
   "metadata": {
    "collapsed": false
   },
   "outputs": [
    {
     "ename": "AttributeError",
     "evalue": "'dict' object has no attribute 'predict'",
     "output_type": "error",
     "traceback": [
      "\u001b[0;31m---------------------------------------------------------------------------\u001b[0m",
      "\u001b[0;31mAttributeError\u001b[0m                            Traceback (most recent call last)",
      "\u001b[0;32m<ipython-input-47-758052de9fc4>\u001b[0m in \u001b[0;36m<module>\u001b[0;34m()\u001b[0m\n\u001b[0;32m----> 1\u001b[0;31m \u001b[0mtest_acc\u001b[0m \u001b[0;34m=\u001b[0m \u001b[0;34m(\u001b[0m\u001b[0mbest_net\u001b[0m\u001b[0;34m.\u001b[0m\u001b[0mpredict\u001b[0m\u001b[0;34m(\u001b[0m\u001b[0mX_test\u001b[0m\u001b[0;34m)\u001b[0m \u001b[0;34m==\u001b[0m \u001b[0my_test\u001b[0m\u001b[0;34m)\u001b[0m\u001b[0;34m.\u001b[0m\u001b[0mmean\u001b[0m\u001b[0;34m(\u001b[0m\u001b[0;34m)\u001b[0m\u001b[0;34m\u001b[0m\u001b[0m\n\u001b[0m\u001b[1;32m      2\u001b[0m \u001b[0;32mprint\u001b[0m \u001b[0;34m'Test accuracy: '\u001b[0m\u001b[0;34m,\u001b[0m \u001b[0mtest_acc\u001b[0m\u001b[0;34m\u001b[0m\u001b[0m\n",
      "\u001b[0;31mAttributeError\u001b[0m: 'dict' object has no attribute 'predict'"
     ]
    }
   ],
   "source": [
    "test_acc = (best_net.predict(X_test) == y_test).mean()\n",
    "print 'Test accuracy: ', test_acc"
   ]
  },
  {
   "cell_type": "code",
   "execution_count": null,
   "metadata": {
    "collapsed": true
   },
   "outputs": [],
   "source": []
  }
 ],
 "metadata": {
  "kernelspec": {
   "display_name": "Python [Root]",
   "language": "python",
   "name": "Python [Root]"
  },
  "language_info": {
   "codemirror_mode": {
    "name": "ipython",
    "version": 2
   },
   "file_extension": ".py",
   "mimetype": "text/x-python",
   "name": "python",
   "nbconvert_exporter": "python",
   "pygments_lexer": "ipython2",
   "version": "2.7.11"
  }
 },
 "nbformat": 4,
 "nbformat_minor": 0
}
