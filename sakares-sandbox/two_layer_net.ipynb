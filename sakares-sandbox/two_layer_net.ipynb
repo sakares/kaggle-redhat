{
 "cells": [
  {
   "cell_type": "markdown",
   "metadata": {},
   "source": [
    "# Implementing a Neural Network\n",
    "Simple NN implementation for redhat dataset"
   ]
  },
  {
   "cell_type": "code",
   "execution_count": 1,
   "metadata": {
    "collapsed": false
   },
   "outputs": [],
   "source": [
    "# A bit of setup\n",
    "\n",
    "import numpy as np\n",
    "import pandas as pd\n",
    "import matplotlib.pyplot as plt\n",
    "\n",
    "from cs231n.classifiers.neural_net import TwoLayerNet\n",
    "\n",
    "%matplotlib inline\n",
    "plt.rcParams['figure.figsize'] = (10.0, 8.0) # set default size of plots\n",
    "plt.rcParams['image.interpolation'] = 'nearest'\n",
    "plt.rcParams['image.cmap'] = 'gray'\n",
    "\n",
    "# for auto-reloading external modules\n",
    "# see http://stackoverflow.com/questions/1907993/autoreload-of-modules-in-ipython\n",
    "%load_ext autoreload\n",
    "%autoreload 2\n",
    "\n",
    "def rel_error(x, y):\n",
    "  \"\"\" returns relative error \"\"\"\n",
    "  return np.max(np.abs(x - y) / (np.maximum(1e-8, np.abs(x) + np.abs(y))))"
   ]
  },
  {
   "cell_type": "markdown",
   "metadata": {},
   "source": [
    "We will use the class `TwoLayerNet` in the file `cs231n/classifiers/neural_net.py` to represent instances of our network. The network parameters are stored in the instance variable `self.params` where keys are string parameter names and values are numpy arrays. Below, we initialize toy data and a toy model that we will use to develop your implementation."
   ]
  },
  {
   "cell_type": "markdown",
   "metadata": {},
   "source": [
    "# Prepare Data\n"
   ]
  },
  {
   "cell_type": "code",
   "execution_count": 2,
   "metadata": {
    "collapsed": false
   },
   "outputs": [
    {
     "name": "stdout",
     "output_type": "stream",
     "text": [
      "load complete\n"
     ]
    }
   ],
   "source": [
    "train_df = pd.read_csv('act_train.csv')\n",
    "people_df = pd.read_csv('people.csv')\n",
    "merged_df = pd.merge(train_df, people_df, on='people_id')\n",
    "test_df = pd.read_csv('act_test.csv')\n",
    "\n",
    "merged_col = merged_df.columns\n",
    "summary_merged_df = [len(merged_df[col].unique()) for col in merged_col]\n",
    "print \"load complete\""
   ]
  },
  {
   "cell_type": "code",
   "execution_count": 3,
   "metadata": {
    "collapsed": false
   },
   "outputs": [
    {
     "data": {
      "text/plain": [
       "set()"
      ]
     },
     "execution_count": 3,
     "metadata": {},
     "output_type": "execute_result"
    }
   ],
   "source": [
    "test_col = test_df.columns\n",
    "summary_test_df = [len(test_df[col].unique()) for col in test_col]\n",
    "\n",
    "setA = set(train_df['char_8'])\n",
    "setB = set(test_df['char_8'])\n",
    "setA.union(setB) - setA.intersection(setB)"
   ]
  },
  {
   "cell_type": "markdown",
   "metadata": {},
   "source": [
    "## Convert attributes\n",
    "- Categorical : type ## / NaN\n",
    "- Boolean (True False)"
   ]
  },
  {
   "cell_type": "code",
   "execution_count": 4,
   "metadata": {
    "collapsed": false
   },
   "outputs": [
    {
     "name": "stdout",
     "output_type": "stream",
     "text": [
      "group_1\n",
      "- is type/category\n",
      "char_12\n",
      "- is boolean\n",
      "char_33\n",
      "- is boolean\n",
      "char_2_y\n",
      "- is type/category\n",
      "activity_category\n",
      "- is type/category\n",
      "char_38\n",
      "- is integer\n",
      "char_1_y\n",
      "- is type/category\n",
      "char_8_y\n",
      "- is type/category\n",
      "char_19\n",
      "- is boolean\n",
      "char_18\n",
      "- is boolean\n",
      "char_17\n",
      "- is boolean\n",
      "char_8_x\n",
      "- is type/category\n",
      "char_15\n",
      "- is boolean\n",
      "char_32\n",
      "- is boolean\n",
      "char_9_y\n",
      "- is type/category\n",
      "char_9_x\n",
      "- is type/category\n",
      "char_11\n",
      "- is boolean\n",
      "char_1_x\n",
      "- is type/category\n",
      "char_3_y\n",
      "- is type/category\n",
      "char_3_x\n",
      "- is type/category\n",
      "char_6_y\n",
      "- is type/category\n",
      "char_5_y\n",
      "- is type/category\n",
      "char_31\n",
      "- is boolean\n",
      "outcome\n",
      "- is integer\n",
      "char_25\n",
      "- is boolean\n",
      "char_10_x\n",
      "- is type/category\n",
      "char_10_y\n",
      "- is boolean\n",
      "char_30\n",
      "- is boolean\n",
      "char_2_x\n",
      "- is type/category\n",
      "char_35\n",
      "- is boolean\n",
      "char_16\n",
      "- is boolean\n",
      "char_26\n",
      "- is boolean\n",
      "char_27\n",
      "- is boolean\n",
      "char_24\n",
      "- is boolean\n",
      "char_14\n",
      "- is boolean\n",
      "char_22\n",
      "- is boolean\n",
      "char_23\n",
      "- is boolean\n",
      "char_20\n",
      "- is boolean\n",
      "char_5_x\n",
      "- is type/category\n",
      "char_4_x\n",
      "- is type/category\n",
      "char_13\n",
      "- is boolean\n",
      "char_21\n",
      "- is boolean\n",
      "char_28\n",
      "- is boolean\n",
      "char_29\n",
      "- is boolean\n",
      "char_37\n",
      "- is boolean\n",
      "char_6_x\n",
      "- is type/category\n",
      "char_4_y\n",
      "- is type/category\n",
      "char_34\n",
      "- is boolean\n",
      "char_36\n",
      "- is boolean\n",
      "char_7_y\n",
      "- is type/category\n",
      "char_7_x\n",
      "- is type/category\n"
     ]
    }
   ],
   "source": [
    "#merged_df['char_1_x'].replace({'type':'', ' ':'', np.nan : '0'}, regex = True).astype('int')\n",
    "#Columns to be converted\n",
    "merged_df = pd.merge(train_df, people_df, on='people_id')\n",
    "parsed_col = set(merged_col) - set(['people_id','activity_id','date_x','date_y'])\n",
    "for col in parsed_col:\n",
    "    print (col)\n",
    "    if(type(merged_df[col][0]) is np.bool_):\n",
    "        print('- is boolean')\n",
    "        merged_df[col] = merged_df[col].astype('int64')\n",
    "    elif (type(merged_df[col][0]) is np.int64 or type(merged_df[col][0]) is np.long):\n",
    "        print('- is integer')\n",
    "        merged_df[col] = merged_df[col].astype('int64')\n",
    "    else:\n",
    "        print('- is type/category')\n",
    "        merged_df[col] = merged_df[col].replace({'group': '', 'type':'', ' ':'', np.nan : '0'}, regex = True).astype('int64')\n"
   ]
  },
  {
   "cell_type": "code",
   "execution_count": 5,
   "metadata": {
    "collapsed": false
   },
   "outputs": [
    {
     "name": "stdout",
     "output_type": "stream",
     "text": [
      "group_1\n",
      "- is type/category\n",
      "char_12\n",
      "- is boolean\n",
      "char_33\n",
      "- is boolean\n",
      "char_2_y\n",
      "- is type/category\n",
      "activity_category\n",
      "- is type/category\n",
      "char_38\n",
      "- is integer\n",
      "char_1_y\n",
      "- is type/category\n",
      "char_8_y\n",
      "- is type/category\n",
      "char_19\n",
      "- is boolean\n",
      "char_18\n",
      "- is boolean\n",
      "char_17\n",
      "- is boolean\n",
      "char_8_x\n",
      "- is type/category\n",
      "char_15\n",
      "- is boolean\n",
      "char_32\n",
      "- is boolean\n",
      "char_9_y\n",
      "- is type/category\n",
      "char_9_x\n",
      "- is type/category\n",
      "char_11\n",
      "- is boolean\n",
      "char_1_x\n",
      "- is type/category\n",
      "char_3_y\n",
      "- is type/category\n",
      "char_3_x\n",
      "- is type/category\n",
      "char_6_y\n",
      "- is type/category\n",
      "char_5_y\n",
      "- is type/category\n",
      "char_31\n",
      "- is boolean\n",
      "char_25\n",
      "- is boolean\n",
      "char_10_x\n",
      "- is type/category\n",
      "char_10_y\n",
      "- is boolean\n",
      "char_30\n",
      "- is boolean\n",
      "char_2_x\n",
      "- is type/category\n",
      "char_35\n",
      "- is boolean\n",
      "char_16\n",
      "- is boolean\n",
      "char_26\n",
      "- is boolean\n",
      "char_27\n",
      "- is boolean\n",
      "char_24\n",
      "- is boolean\n",
      "char_14\n",
      "- is boolean\n",
      "char_22\n",
      "- is boolean\n",
      "char_23\n",
      "- is boolean\n",
      "char_20\n",
      "- is boolean\n",
      "char_5_x\n",
      "- is type/category\n",
      "char_4_x\n",
      "- is type/category\n",
      "char_13\n",
      "- is boolean\n",
      "char_21\n",
      "- is boolean\n",
      "char_28\n",
      "- is boolean\n",
      "char_29\n",
      "- is boolean\n",
      "char_37\n",
      "- is boolean\n",
      "char_6_x\n",
      "- is type/category\n",
      "char_4_y\n",
      "- is type/category\n",
      "char_34\n",
      "- is boolean\n",
      "char_36\n",
      "- is boolean\n",
      "char_7_y\n",
      "- is type/category\n",
      "char_7_x\n",
      "- is type/category\n"
     ]
    }
   ],
   "source": [
    "merged_test_df = pd.merge(test_df, people_df, on='people_id')\n",
    "merged_test_col = merged_test_df.columns\n",
    "parsed_test_col = set(merged_test_col) - set(['people_id','activity_id','date_x','date_y'])\n",
    "for col in parsed_test_col:\n",
    "    print (col)\n",
    "    if(type(merged_test_df[col][0]) is np.bool_):\n",
    "        print('- is boolean')\n",
    "        merged_test_df[col] = merged_test_df[col].astype('int64')\n",
    "    elif (type(merged_test_df[col][0]) is np.int64 or type(merged_test_df[col][0]) is np.long):\n",
    "        print('- is integer')\n",
    "        merged_test_df[col] = merged_test_df[col].astype('int64')\n",
    "    else:\n",
    "        print('- is type/category')\n",
    "        merged_test_df[col] = merged_test_df[col].replace({'group': '', 'type':'', ' ':'', np.nan : '0'}, regex = True).astype('int64')"
   ]
  },
  {
   "cell_type": "code",
   "execution_count": 92,
   "metadata": {
    "collapsed": false
   },
   "outputs": [
    {
     "name": "stdout",
     "output_type": "stream",
     "text": [
      "   char_33  char_34  char_35  char_36  char_37\n",
      "0        0        1        1        1        0\n",
      "1        0        1        1        1        0\n",
      "2        0        1        1        1        0\n",
      "3        0        1        1        1        0\n",
      "4        0        1        1        1        0\n",
      "5        0        1        1        1        0\n",
      "6        1        1        1        1        0\n",
      "7        1        1        1        1        0\n",
      "8        1        1        0        1        1\n",
      "9        1        1        0        1        1\n",
      "[[0 1 1 1 0]\n",
      " [0 1 1 1 0]\n",
      " [0 1 1 1 0]\n",
      " [0 1 1 1 0]\n",
      " [0 1 1 1 0]\n",
      " [0 1 1 1 0]\n",
      " [1 1 1 1 0]\n",
      " [1 1 1 1 0]\n",
      " [1 1 0 1 1]\n",
      " [1 1 0 1 1]]\n",
      "[0 0 0 ..., 1 1 1]\n"
     ]
    }
   ],
   "source": [
    "# y = merged_df['outcome'].values\n",
    "# tmp = merged_df.drop(['people_id','activity_id','date_x','date_y','outcome'], 1)\n",
    "# tmp = tmp[['char_33','char_34','char_35','char_36','char_37']]\n",
    "# print tmp.head(10)\n",
    "# X = tmp.values[0:10,:]\n",
    "# print X\n",
    "# print y\n",
    "# tmp.head(10)\n",
    "# y.head(10)\n",
    "\n",
    "# print 'length of ppl_100 = %d ' % len(check_df)\n",
    "# print check_df['outcome']\n",
    "# print check_df.describe()"
   ]
  },
  {
   "cell_type": "code",
   "execution_count": 18,
   "metadata": {
    "collapsed": true
   },
   "outputs": [],
   "source": [
    "# train_dataset = merged_df.drop(['people_id','activity_id','date_x','date_y','outcome'], 1)\n",
    "# train_outcome = np.array(merged_df.outcome)\n",
    "# train_mat = np.array(train_dataset, dtype='int')"
   ]
  },
  {
   "cell_type": "code",
   "execution_count": 19,
   "metadata": {
    "collapsed": false
   },
   "outputs": [
    {
     "data": {
      "text/plain": [
       "(2197291,)"
      ]
     },
     "execution_count": 19,
     "metadata": {},
     "output_type": "execute_result"
    }
   ],
   "source": [
    "# train_outcome.shape"
   ]
  },
  {
   "cell_type": "code",
   "execution_count": 20,
   "metadata": {
    "collapsed": false
   },
   "outputs": [
    {
     "data": {
      "text/plain": [
       "(2197291, 50)"
      ]
     },
     "execution_count": 20,
     "metadata": {},
     "output_type": "execute_result"
    }
   ],
   "source": [
    "# train_mat.shape"
   ]
  },
  {
   "cell_type": "code",
   "execution_count": 6,
   "metadata": {
    "collapsed": false
   },
   "outputs": [
    {
     "name": "stdout",
     "output_type": "stream",
     "text": [
      "[[ 16.24345364  -6.11756414  -5.28171752 -10.72968622   8.65407629]\n",
      " [-23.01538697  17.44811764  -7.61206901   3.19039096  -2.49370375]\n",
      " [ 14.62107937 -20.60140709  -3.22417204  -3.84054355  11.33769442]\n",
      " [-10.99891267  -1.72428208  -8.77858418   0.42213747   5.82815214]\n",
      " [-11.00619177  11.4472371    9.01590721   5.02494339   9.00855949]\n",
      " [ -6.83727859  -1.22890226  -9.35769434  -2.6788808    5.30355467]\n",
      " [ -6.91660752  -3.96753527  -6.871727    -8.45205641  -6.71246131]\n",
      " [ -0.12664599 -11.17310349   2.34415698  16.59802177   7.42044161]\n",
      " [ -1.91835552  -8.87628964  -7.47158294  16.92454601   0.50807755]\n",
      " [ -6.36995647   1.90915485  21.00255136   1.20158952   6.1720311 ]]\n",
      "[0 1 0 1 0 1 0 1 0 1]\n"
     ]
    }
   ],
   "source": [
    "# Create a small net and some toy data to check your implementations.\n",
    "# Note that we set the random seed for repeatable experiments.\n",
    "\n",
    "# input_size = 4\n",
    "# hidden_size = 10\n",
    "# num_classes = 3\n",
    "# num_inputs = 5\n",
    "\n",
    "input_size = 5\n",
    "hidden_size = 10\n",
    "num_classes = 2\n",
    "num_inputs = 10\n",
    "\n",
    "def init_toy_model():\n",
    "  np.random.seed(0)\n",
    "  return TwoLayerNet(input_size, hidden_size, num_classes, std=1e-1)\n",
    "\n",
    "def init_toy_data():\n",
    "  np.random.seed(1)\n",
    "  X = 10 * np.random.randn(num_inputs, input_size)\n",
    "  y = np.array([0, 1, 0, 1, 0, 1, 0, 1, 0, 1])\n",
    "  return X, y\n",
    "\n",
    "net = init_toy_model()\n",
    "X, y = init_toy_data()\n",
    "print X\n",
    "print y"
   ]
  },
  {
   "cell_type": "markdown",
   "metadata": {},
   "source": [
    "# Forward pass: compute scores\n",
    "Open the file `cs231n/classifiers/neural_net.py` and look at the method `TwoLayerNet.loss`. This function is very similar to the loss functions you have written for the SVM and Softmax exercises: It takes the data and weights and computes the class scores, the loss, and the gradients on the parameters. \n",
    "\n",
    "Implement the first part of the forward pass which uses the weights and biases to compute the scores for all inputs."
   ]
  },
  {
   "cell_type": "code",
   "execution_count": 7,
   "metadata": {
    "collapsed": false
   },
   "outputs": [
    {
     "name": "stdout",
     "output_type": "stream",
     "text": [
      "Your scores:\n",
      "[[-0.36710471  0.30791951]\n",
      " [-0.43989025 -0.53666637]\n",
      " [-0.31311846  0.21907549]\n",
      " [-0.12210622 -0.10849958]\n",
      " [-0.06744353 -0.15266295]\n",
      " [-0.15434499 -0.03394499]\n",
      " [-0.25922861  0.00724488]\n",
      " [-0.00854613 -0.10759501]\n",
      " [-0.22549414 -0.15963828]\n",
      " [-0.83546277 -0.07105516]]\n",
      "\n",
      "correct scores:\n",
      "[[-0.36681027  0.30681027]\n",
      " [-0.43681027 -0.53681027]\n",
      " [-0.31681027  0.21681027]\n",
      " [-0.12681027 -0.10681027]\n",
      " [-0.06681027 -0.15681027]\n",
      " [-0.15681027 -0.03681027]\n",
      " [-0.25681027  0.00681027]\n",
      " [-0.00681027 -0.10681027]\n",
      " [-0.22681027 -0.15681027]\n",
      " [-0.83681027 -0.07681027]]\n",
      "\n",
      "Difference between your scores and correct scores:\n",
      "0.0437093888987\n"
     ]
    }
   ],
   "source": [
    "scores = net.loss(X)\n",
    "print 'Your scores:'\n",
    "print scores\n",
    "print\n",
    "print 'correct scores:'\n",
    "correct_scores = np.asarray([\n",
    " [-0.36681027,  0.30681027],\n",
    " [-0.43681027, -0.53681027],\n",
    " [-0.31681027,  0.21681027],\n",
    " [-0.12681027, -0.10681027],\n",
    " [-0.06681027, -0.15681027],\n",
    " [-0.15681027, -0.03681027],\n",
    " [-0.25681027,  0.00681027],\n",
    " [-0.00681027, -0.10681027],\n",
    " [-0.22681027, -0.15681027],\n",
    " [-0.83681027, -0.07681027]])\n",
    "print correct_scores\n",
    "print\n",
    "\n",
    "# The difference should be very small. We get < 1e-7\n",
    "print 'Difference between your scores and correct scores:'\n",
    "print np.sum(np.abs(scores - correct_scores))"
   ]
  },
  {
   "cell_type": "markdown",
   "metadata": {},
   "source": [
    "# Forward pass: compute loss\n",
    "In the same function, implement the second part that computes the data and regularizaion loss."
   ]
  },
  {
   "cell_type": "code",
   "execution_count": 8,
   "metadata": {
    "collapsed": false
   },
   "outputs": [
    {
     "name": "stdout",
     "output_type": "stream",
     "text": [
      "Difference between your loss and correct loss:\n",
      "0.517447048212\n"
     ]
    }
   ],
   "source": [
    "loss, _ = net.loss(X, y, reg=0.1)\n",
    "correct_loss = 1.30378789133 # dummy value\n",
    "\n",
    "# should be very small, we get < 1e-12\n",
    "print 'Difference between your loss and correct loss:'\n",
    "print np.sum(np.abs(loss - correct_loss))"
   ]
  },
  {
   "cell_type": "markdown",
   "metadata": {},
   "source": [
    "# Backward pass\n",
    "Implement the rest of the function. This will compute the gradient of the loss with respect to the variables `W1`, `b1`, `W2`, and `b2`. Now that you (hopefully!) have a correctly implemented forward pass, you can debug your backward pass using a numeric gradient check:"
   ]
  },
  {
   "cell_type": "code",
   "execution_count": 9,
   "metadata": {
    "collapsed": false
   },
   "outputs": [
    {
     "name": "stdout",
     "output_type": "stream",
     "text": [
      "b2 max relative error: 1.039752e-10\n",
      "W2 max relative error: 2.312778e-10\n",
      "W1 max relative error: 1.367135e-09\n",
      "b1 max relative error: 1.599280e-09\n"
     ]
    }
   ],
   "source": [
    "from cs231n.gradient_check import eval_numerical_gradient\n",
    "\n",
    "# Use numeric gradient checking to check your implementation of the backward pass.\n",
    "# If your implementation is correct, the difference between the numeric and\n",
    "# analytic gradients should be less than 1e-8 for each of W1, W2, b1, and b2.\n",
    "\n",
    "loss, grads = net.loss(X, y, reg=0.1)\n",
    "\n",
    "# these should all be less than 1e-8 or so\n",
    "for param_name in grads:\n",
    "  f = lambda W: net.loss(X, y, reg=0.1)[0]\n",
    "  param_grad_num = eval_numerical_gradient(f, net.params[param_name], verbose=False)\n",
    "  print '%s max relative error: %e' % (param_name, rel_error(param_grad_num, grads[param_name]))"
   ]
  },
  {
   "cell_type": "markdown",
   "metadata": {},
   "source": [
    "# Train the network\n",
    "To train the network we will use stochastic gradient descent (SGD), similar to the SVM and Softmax classifiers. Look at the function `TwoLayerNet.train` and fill in the missing sections to implement the training procedure. This should be very similar to the training procedure you used for the SVM and Softmax classifiers. You will also have to implement `TwoLayerNet.predict`, as the training process periodically performs prediction to keep track of accuracy over time while the network trains.\n",
    "\n",
    "Once you have implemented the method, run the code below to train a two-layer network on toy data. You should achieve a training loss less than 0.2."
   ]
  },
  {
   "cell_type": "code",
   "execution_count": 10,
   "metadata": {
    "collapsed": false
   },
   "outputs": [
    {
     "name": "stdout",
     "output_type": "stream",
     "text": [
      "Final training loss:  0.132510738892\n"
     ]
    },
    {
     "data": {
      "image/png": "[encoded data removed]",
      "text/plain": [
       "<matplotlib.figure.Figure at 0x112f2ad10>"
      ]
     },
     "metadata": {},
     "output_type": "display_data"
    }
   ],
   "source": [
    "net = init_toy_model()\n",
    "# print X\n",
    "# print y\n",
    "stats = net.train(X, y, X, y,\n",
    "            learning_rate=1e-1, reg=1e-5,\n",
    "            num_iters=100, verbose=False)\n",
    "\n",
    "print 'Final training loss: ', stats['loss_history'][-1]\n",
    "\n",
    "# plot the loss history\n",
    "plt.plot(stats['loss_history'])\n",
    "plt.xlabel('iteration')\n",
    "plt.ylabel('training loss')\n",
    "plt.title('Training Loss history')\n",
    "plt.show()"
   ]
  },
  {
   "cell_type": "markdown",
   "metadata": {},
   "source": [
    "# Load the data\n",
    "Now that you have implemented a two-layer network that passes gradient checks and works on toy data, it's time to load up our favorite CIFAR-10 data so we can use it to train a classifier on a real dataset."
   ]
  },
  {
   "cell_type": "code",
   "execution_count": 93,
   "metadata": {
    "collapsed": false
   },
   "outputs": [],
   "source": [
    "from cs231n.data_utils import load_CIFAR10\n",
    "\n",
    "def get_CIFAR10_data(num_training=49000, num_validation=1000, num_test=1000):\n",
    "    \"\"\"\n",
    "    Load the CIFAR-10 dataset from disk and perform preprocessing to prepare\n",
    "    it for the two-layer neural net classifier. These are the same steps as\n",
    "    we used for the SVM, but condensed to a single function.  \n",
    "    \"\"\"\n",
    "    # Load the raw CIFAR-10 data\n",
    "    cifar10_dir = 'cs231n/datasets/cifar-10-batches-py'\n",
    "    X_train, y_train, X_test, y_test = load_CIFAR10(cifar10_dir)\n",
    "        \n",
    "    # Subsample the data\n",
    "    mask = range(num_training, num_training + num_validation)\n",
    "    X_val = X_train[mask]\n",
    "    y_val = y_train[mask]\n",
    "    mask = range(num_training)\n",
    "    X_train = X_train[mask]\n",
    "    y_train = y_train[mask]\n",
    "    mask = range(num_test)\n",
    "    X_test = X_test[mask]\n",
    "    y_test = y_test[mask]\n",
    "\n",
    "    # Normalize the data: subtract the mean image\n",
    "    mean_image = np.mean(X_train, axis=0)\n",
    "    X_train -= mean_image\n",
    "    X_val -= mean_image\n",
    "    X_test -= mean_image\n",
    "\n",
    "    # Reshape data to rows\n",
    "    X_train = X_train.reshape(num_training, -1)\n",
    "    X_val = X_val.reshape(num_validation, -1)\n",
    "    X_test = X_test.reshape(num_test, -1)\n",
    "\n",
    "    return X_train, y_train, X_val, y_val, X_test, y_test\n",
    "\n",
    "\n"
   ]
  },
  {
   "cell_type": "code",
   "execution_count": 6,
   "metadata": {
    "collapsed": false
   },
   "outputs": [
    {
     "name": "stdout",
     "output_type": "stream",
     "text": [
      "(2197291, 50)\n",
      "Train data shape:  (1406266, 50)\n",
      "Train labels shape:  (1406266,)\n",
      "Validation data shape:  (351567, 50)\n",
      "Validation labels shape:  (351567,)\n",
      "Test data shape:  (439458, 50)\n",
      "Test labels shape:  (439458,)\n"
     ]
    }
   ],
   "source": [
    "y = merged_df['outcome'].values\n",
    "tmp = merged_df.drop(['people_id','activity_id','date_x','date_y','outcome'], 1)\n",
    "X = tmp.values\n",
    "print X.shape\n",
    "#print X[3,:]\n",
    "# print tmp.head(10)\n",
    "X_train = X[0:1406266,:]\n",
    "y_train = y[0:1406266]\n",
    "X_val = X[1406266:1757833,:]\n",
    "y_val = y[1406266:1757833]\n",
    "X_test = X[1757833:2197291,:]\n",
    "y_test = y[1757833:2197291]\n",
    "\n",
    "# Invoke the above function to get our data.\n",
    "# X_train, y_train, X_val, y_val, X_test, y_test = get_CIFAR10_data(490,10,10)\n",
    "print 'Train data shape: ', X_train.shape\n",
    "print 'Train labels shape: ', y_train.shape\n",
    "print 'Validation data shape: ', X_val.shape\n",
    "print 'Validation labels shape: ', y_val.shape\n",
    "print 'Test data shape: ', X_test.shape\n",
    "print 'Test labels shape: ', y_test.shape"
   ]
  },
  {
   "cell_type": "markdown",
   "metadata": {},
   "source": [
    "# Train a network\n",
    "To train our network we will use SGD with momentum. In addition, we will adjust the learning rate with an exponential learning rate schedule as optimization proceeds; after each epoch, we will reduce the learning rate by multiplying it by a decay rate."
   ]
  },
  {
   "cell_type": "code",
   "execution_count": 9,
   "metadata": {
    "collapsed": false
   },
   "outputs": [
    {
     "name": "stdout",
     "output_type": "stream",
     "text": [
      "iteration 0 / 40000: loss 0.693119\n",
      "iteration 100 / 40000: loss 0.673198\n",
      "iteration 200 / 40000: loss 0.672057\n",
      "iteration 300 / 40000: loss 0.607295\n",
      "iteration 400 / 40000: loss 0.666855\n",
      "iteration 500 / 40000: loss 0.641473\n",
      "iteration 600 / 40000: loss 0.690312\n",
      "iteration 700 / 40000: loss 0.679404\n",
      "iteration 800 / 40000: loss 0.628494\n",
      "iteration 900 / 40000: loss 0.639924\n",
      "iteration 1000 / 40000: loss 0.636616\n",
      "iteration 1100 / 40000: loss 0.687506\n",
      "iteration 1200 / 40000: loss 0.652064\n",
      "iteration 1300 / 40000: loss 0.657943\n",
      "iteration 1400 / 40000: loss 0.661617\n",
      "iteration 1500 / 40000: loss 0.636377\n",
      "iteration 1600 / 40000: loss 0.680063\n",
      "iteration 1700 / 40000: loss 0.657889\n",
      "iteration 1800 / 40000: loss 0.660551\n",
      "iteration 1900 / 40000: loss 0.695752\n",
      "iteration 2000 / 40000: loss 0.706243\n",
      "iteration 2100 / 40000: loss 0.669221\n",
      "iteration 2200 / 40000: loss 0.643547\n",
      "iteration 2300 / 40000: loss 0.706372\n",
      "iteration 2400 / 40000: loss 0.670903\n",
      "iteration 2500 / 40000: loss 0.700808\n",
      "iteration 2600 / 40000: loss 0.654018\n",
      "iteration 2700 / 40000: loss 0.686126\n",
      "iteration 2800 / 40000: loss 0.705437\n",
      "iteration 2900 / 40000: loss 0.637052\n",
      "iteration 3000 / 40000: loss 0.677447\n",
      "iteration 3100 / 40000: loss 0.687383\n",
      "iteration 3200 / 40000: loss 0.626065\n",
      "iteration 3300 / 40000: loss 0.648737\n",
      "iteration 3400 / 40000: loss 0.697299\n",
      "iteration 3500 / 40000: loss 0.677714\n",
      "iteration 3600 / 40000: loss 0.674705\n",
      "iteration 3700 / 40000: loss 0.655048\n",
      "iteration 3800 / 40000: loss 0.707248\n",
      "iteration 3900 / 40000: loss 0.620815\n",
      "iteration 4000 / 40000: loss 0.621759\n",
      "iteration 4100 / 40000: loss 0.662754\n",
      "iteration 4200 / 40000: loss 0.642217\n",
      "iteration 4300 / 40000: loss 0.630108\n",
      "iteration 4400 / 40000: loss 0.638162\n",
      "iteration 4500 / 40000: loss 0.671807\n",
      "iteration 4600 / 40000: loss 0.643641\n",
      "iteration 4700 / 40000: loss 0.591435\n",
      "iteration 4800 / 40000: loss 0.648869\n",
      "iteration 4900 / 40000: loss 0.637121\n",
      "iteration 5000 / 40000: loss 0.639939\n",
      "iteration 5100 / 40000: loss 0.666788\n",
      "iteration 5200 / 40000: loss 0.645345\n",
      "iteration 5300 / 40000: loss 0.630449\n",
      "iteration 5400 / 40000: loss 0.690383\n",
      "iteration 5500 / 40000: loss 0.679314\n",
      "iteration 5600 / 40000: loss 0.693378\n",
      "iteration 5700 / 40000: loss 0.668417\n",
      "iteration 5800 / 40000: loss 0.645922\n",
      "iteration 5900 / 40000: loss 0.676165\n",
      "iteration 6000 / 40000: loss 0.681817\n",
      "iteration 6100 / 40000: loss 0.702992\n",
      "iteration 6200 / 40000: loss 0.654119\n",
      "iteration 6300 / 40000: loss 0.677869\n",
      "iteration 6400 / 40000: loss 0.696443\n",
      "iteration 6500 / 40000: loss 0.659233\n",
      "iteration 6600 / 40000: loss 0.673643\n",
      "iteration 6700 / 40000: loss 0.681394\n",
      "iteration 6800 / 40000: loss 0.651303\n",
      "iteration 6900 / 40000: loss 0.736594\n",
      "iteration 7000 / 40000: loss 0.659223\n",
      "iteration 7100 / 40000: loss 0.665022\n",
      "iteration 7200 / 40000: loss 0.671674\n",
      "iteration 7300 / 40000: loss 0.639387\n",
      "iteration 7400 / 40000: loss 0.670730\n",
      "iteration 7500 / 40000: loss 0.693297\n",
      "iteration 7600 / 40000: loss 0.655962\n",
      "iteration 7700 / 40000: loss 0.675477\n",
      "iteration 7800 / 40000: loss 0.663263\n",
      "iteration 7900 / 40000: loss 0.675693\n",
      "iteration 8000 / 40000: loss 0.675956\n",
      "iteration 8100 / 40000: loss 0.633719\n",
      "iteration 8200 / 40000: loss 0.688935\n",
      "iteration 8300 / 40000: loss 0.689723\n",
      "iteration 8400 / 40000: loss 0.702720\n",
      "iteration 8500 / 40000: loss 0.690063\n",
      "iteration 8600 / 40000: loss 0.675118\n",
      "iteration 8700 / 40000: loss 0.646599\n",
      "iteration 8800 / 40000: loss 0.654662\n",
      "iteration 8900 / 40000: loss 0.677528\n",
      "iteration 9000 / 40000: loss 0.669366\n",
      "iteration 9100 / 40000: loss 0.649739\n",
      "iteration 9200 / 40000: loss 0.639199\n",
      "iteration 9300 / 40000: loss 0.616528\n",
      "iteration 9400 / 40000: loss 0.639639\n",
      "iteration 9500 / 40000: loss 0.688814\n",
      "iteration 9600 / 40000: loss 0.654073\n",
      "iteration 9700 / 40000: loss 0.675445\n",
      "iteration 9800 / 40000: loss 0.658361\n",
      "iteration 9900 / 40000: loss 0.611663\n",
      "iteration 10000 / 40000: loss 0.640859\n",
      "iteration 10100 / 40000: loss 0.655280\n",
      "iteration 10200 / 40000: loss 0.640735\n",
      "iteration 10300 / 40000: loss 0.678918\n",
      "iteration 10400 / 40000: loss 0.665893\n",
      "iteration 10500 / 40000: loss 0.613388\n",
      "iteration 10600 / 40000: loss 0.665899\n",
      "iteration 10700 / 40000: loss 0.657201\n",
      "iteration 10800 / 40000: loss 0.687292\n",
      "iteration 10900 / 40000: loss 0.652258\n",
      "iteration 11000 / 40000: loss 0.614064\n",
      "iteration 11100 / 40000: loss 0.661077\n",
      "iteration 11200 / 40000: loss 0.660813\n",
      "iteration 11300 / 40000: loss 0.696841\n",
      "iteration 11400 / 40000: loss 0.645360\n",
      "iteration 11500 / 40000: loss 0.651228\n",
      "iteration 11600 / 40000: loss 0.657763\n",
      "iteration 11700 / 40000: loss 0.632462\n",
      "iteration 11800 / 40000: loss 0.646773\n",
      "iteration 11900 / 40000: loss 0.616603\n",
      "iteration 12000 / 40000: loss 0.652918\n",
      "iteration 12100 / 40000: loss 0.620421\n",
      "iteration 12200 / 40000: loss 0.683933\n",
      "iteration 12300 / 40000: loss 0.670346\n",
      "iteration 12400 / 40000: loss 0.659101\n",
      "iteration 12500 / 40000: loss 0.653998\n",
      "iteration 12600 / 40000: loss 0.699663\n",
      "iteration 12700 / 40000: loss 0.677076\n",
      "iteration 12800 / 40000: loss 0.629082\n",
      "iteration 12900 / 40000: loss 0.671304\n",
      "iteration 13000 / 40000: loss 0.646219\n",
      "iteration 13100 / 40000: loss 0.644798\n",
      "iteration 13200 / 40000: loss 0.695779\n",
      "iteration 13300 / 40000: loss 0.684429\n",
      "iteration 13400 / 40000: loss 0.644660\n",
      "iteration 13500 / 40000: loss 0.670284\n",
      "iteration 13600 / 40000: loss 0.691939\n",
      "iteration 13700 / 40000: loss 0.627177\n",
      "iteration 13800 / 40000: loss 0.637854\n",
      "iteration 13900 / 40000: loss 0.667888\n",
      "iteration 14000 / 40000: loss 0.678978\n",
      "iteration 14100 / 40000: loss 0.627725\n",
      "iteration 14200 / 40000: loss 0.689760\n",
      "iteration 14300 / 40000: loss 0.703566\n",
      "iteration 14400 / 40000: loss 0.635368\n",
      "iteration 14500 / 40000: loss 0.679335\n",
      "iteration 14600 / 40000: loss 0.718492\n",
      "iteration 14700 / 40000: loss 0.689931\n",
      "iteration 14800 / 40000: loss 0.631728\n",
      "iteration 14900 / 40000: loss 0.633461\n",
      "iteration 15000 / 40000: loss 0.730370\n",
      "iteration 15100 / 40000: loss 0.667798\n",
      "iteration 15200 / 40000: loss 0.663611\n",
      "iteration 15300 / 40000: loss 0.669367\n",
      "iteration 15400 / 40000: loss 0.640277\n",
      "iteration 15500 / 40000: loss 0.677650\n",
      "iteration 15600 / 40000: loss 0.649546\n",
      "iteration 15700 / 40000: loss 0.676033\n",
      "iteration 15800 / 40000: loss 0.692414\n",
      "iteration 15900 / 40000: loss 0.696645\n",
      "iteration 16000 / 40000: loss 0.710065\n",
      "iteration 16100 / 40000: loss 0.634021\n",
      "iteration 16200 / 40000: loss 0.653511\n",
      "iteration 16300 / 40000: loss 0.646826\n",
      "iteration 16400 / 40000: loss 0.561863\n",
      "iteration 16500 / 40000: loss 0.677324\n",
      "iteration 16600 / 40000: loss 0.657744\n",
      "iteration 16700 / 40000: loss 0.668973\n",
      "iteration 16800 / 40000: loss 0.647219\n",
      "iteration 16900 / 40000: loss 0.641403\n",
      "iteration 17000 / 40000: loss 0.647189\n",
      "iteration 17100 / 40000: loss 0.623415\n",
      "iteration 17200 / 40000: loss 0.667296\n",
      "iteration 17300 / 40000: loss 0.670909\n",
      "iteration 17400 / 40000: loss 0.656508\n",
      "iteration 17500 / 40000: loss 0.646807\n",
      "iteration 17600 / 40000: loss 0.645107\n",
      "iteration 17700 / 40000: loss 0.651499\n",
      "iteration 17800 / 40000: loss 0.682037\n",
      "iteration 17900 / 40000: loss 0.649009\n",
      "iteration 18000 / 40000: loss 0.652974\n",
      "iteration 18100 / 40000: loss 0.661652\n",
      "iteration 18200 / 40000: loss 0.659472\n",
      "iteration 18300 / 40000: loss 0.661047\n",
      "iteration 18400 / 40000: loss 0.623252\n",
      "iteration 18500 / 40000: loss 0.686421\n",
      "iteration 18600 / 40000: loss 0.661388\n",
      "iteration 18700 / 40000: loss 0.682917\n",
      "iteration 18800 / 40000: loss 0.629756\n",
      "iteration 18900 / 40000: loss 0.648140\n",
      "iteration 19000 / 40000: loss 0.672799\n",
      "iteration 19100 / 40000: loss 0.618986\n",
      "iteration 19200 / 40000: loss 0.622274\n",
      "iteration 19300 / 40000: loss 0.679887\n",
      "iteration 19400 / 40000: loss 0.661665\n",
      "iteration 19500 / 40000: loss 0.644984\n",
      "iteration 19600 / 40000: loss 0.685713\n",
      "iteration 19700 / 40000: loss 0.614496\n",
      "iteration 19800 / 40000: loss 0.690299\n",
      "iteration 19900 / 40000: loss 0.698607\n",
      "iteration 20000 / 40000: loss 0.701653\n",
      "iteration 20100 / 40000: loss 0.690444\n",
      "iteration 20200 / 40000: loss 0.655363\n",
      "iteration 20300 / 40000: loss 0.682577\n",
      "iteration 20400 / 40000: loss 0.658890\n",
      "iteration 20500 / 40000: loss 0.653870\n",
      "iteration 20600 / 40000: loss 0.634181\n",
      "iteration 20700 / 40000: loss 0.635912\n",
      "iteration 20800 / 40000: loss 0.628734\n",
      "iteration 20900 / 40000: loss 0.703746\n",
      "iteration 21000 / 40000: loss 0.673166\n",
      "iteration 21100 / 40000: loss 0.643335\n",
      "iteration 21200 / 40000: loss 0.641007\n",
      "iteration 21300 / 40000: loss 0.583161\n",
      "iteration 21400 / 40000: loss 0.689173\n",
      "iteration 21500 / 40000: loss 0.662344\n",
      "iteration 21600 / 40000: loss 0.644184\n",
      "iteration 21700 / 40000: loss 0.620402\n",
      "iteration 21800 / 40000: loss 0.685561\n",
      "iteration 21900 / 40000: loss 0.663905\n",
      "iteration 22000 / 40000: loss 0.620121\n",
      "iteration 22100 / 40000: loss 0.645036\n",
      "iteration 22200 / 40000: loss 0.617219\n",
      "iteration 22300 / 40000: loss 0.634688\n",
      "iteration 22400 / 40000: loss 0.625317\n",
      "iteration 22500 / 40000: loss 0.613255\n",
      "iteration 22600 / 40000: loss 0.645627\n",
      "iteration 22700 / 40000: loss 0.683702\n",
      "iteration 22800 / 40000: loss 0.605405\n",
      "iteration 22900 / 40000: loss 0.677345\n",
      "iteration 23000 / 40000: loss 0.674892\n",
      "iteration 23100 / 40000: loss 0.645010\n",
      "iteration 23200 / 40000: loss 0.660786\n",
      "iteration 23300 / 40000: loss 0.599187\n",
      "iteration 23400 / 40000: loss 0.651147\n",
      "iteration 23500 / 40000: loss 0.685647\n",
      "iteration 23600 / 40000: loss 0.695111\n",
      "iteration 23700 / 40000: loss 0.659134\n",
      "iteration 23800 / 40000: loss 0.676330\n",
      "iteration 23900 / 40000: loss 0.670444\n",
      "iteration 24000 / 40000: loss 0.638659\n",
      "iteration 24100 / 40000: loss 0.645292\n",
      "iteration 24200 / 40000: loss 0.663708\n",
      "iteration 24300 / 40000: loss 0.648197\n",
      "iteration 24400 / 40000: loss 0.696442\n",
      "iteration 24500 / 40000: loss 0.670681\n",
      "iteration 24600 / 40000: loss 0.591584\n",
      "iteration 24700 / 40000: loss 0.619088\n",
      "iteration 24800 / 40000: loss 0.592449\n",
      "iteration 24900 / 40000: loss 0.638163\n",
      "iteration 25000 / 40000: loss 0.652607\n",
      "iteration 25100 / 40000: loss 0.632379\n",
      "iteration 25200 / 40000: loss 0.625423\n",
      "iteration 25300 / 40000: loss 0.623208\n",
      "iteration 25400 / 40000: loss 0.615277\n",
      "iteration 25500 / 40000: loss 0.644776\n",
      "iteration 25600 / 40000: loss 0.622389\n",
      "iteration 25700 / 40000: loss 0.604935\n",
      "iteration 25800 / 40000: loss 0.629487\n",
      "iteration 25900 / 40000: loss 0.656980\n",
      "iteration 26000 / 40000: loss 0.677395\n",
      "iteration 26100 / 40000: loss 0.654277\n",
      "iteration 26200 / 40000: loss 0.718124\n",
      "iteration 26300 / 40000: loss 0.677852\n",
      "iteration 26400 / 40000: loss 0.665711\n",
      "iteration 26500 / 40000: loss 0.591548\n",
      "iteration 26600 / 40000: loss 0.735178\n",
      "iteration 26700 / 40000: loss 0.637130\n",
      "iteration 26800 / 40000: loss 0.642419\n",
      "iteration 26900 / 40000: loss 0.652670\n",
      "iteration 27000 / 40000: loss 0.604385\n",
      "iteration 27100 / 40000: loss 0.635848\n",
      "iteration 27200 / 40000: loss 0.607590\n",
      "iteration 27300 / 40000: loss 0.645691\n",
      "iteration 27400 / 40000: loss 0.710436\n",
      "iteration 27500 / 40000: loss 0.662512\n",
      "iteration 27600 / 40000: loss 0.617334\n",
      "iteration 27700 / 40000: loss 0.653800\n",
      "iteration 27800 / 40000: loss 0.618722\n",
      "iteration 27900 / 40000: loss 0.618632\n",
      "iteration 28000 / 40000: loss 0.723001\n",
      "iteration 28100 / 40000: loss 0.599008\n",
      "iteration 28200 / 40000: loss 0.650892\n",
      "iteration 28300 / 40000: loss 0.544622\n",
      "iteration 28400 / 40000: loss 0.588298\n",
      "iteration 28500 / 40000: loss 0.647335\n",
      "iteration 28600 / 40000: loss 0.606375\n",
      "iteration 28700 / 40000: loss 0.627394\n",
      "iteration 28800 / 40000: loss 0.647076\n",
      "iteration 28900 / 40000: loss 0.655151\n",
      "iteration 29000 / 40000: loss 0.669126\n",
      "iteration 29100 / 40000: loss 0.619692\n",
      "iteration 29200 / 40000: loss 0.584385\n",
      "iteration 29300 / 40000: loss 0.598667\n",
      "iteration 29400 / 40000: loss 0.624800\n",
      "iteration 29500 / 40000: loss 0.609699\n",
      "iteration 29600 / 40000: loss 0.683159\n",
      "iteration 29700 / 40000: loss 0.648292\n",
      "iteration 29800 / 40000: loss 0.621404\n",
      "iteration 29900 / 40000: loss 0.598767\n",
      "iteration 30000 / 40000: loss 0.661853\n",
      "iteration 30100 / 40000: loss 0.624900\n",
      "iteration 30200 / 40000: loss 0.620869\n",
      "iteration 30300 / 40000: loss 0.676669\n",
      "iteration 30400 / 40000: loss 0.640576\n",
      "iteration 30500 / 40000: loss 0.624858\n",
      "iteration 30600 / 40000: loss 0.693251\n",
      "iteration 30700 / 40000: loss 0.628624\n",
      "iteration 30800 / 40000: loss 0.643348\n",
      "iteration 30900 / 40000: loss 0.587803\n",
      "iteration 31000 / 40000: loss 0.684532\n",
      "iteration 31100 / 40000: loss 0.624339\n",
      "iteration 31200 / 40000: loss 0.619776\n",
      "iteration 31300 / 40000: loss 0.672442\n",
      "iteration 31400 / 40000: loss 0.685334\n",
      "iteration 31500 / 40000: loss 0.671487\n",
      "iteration 31600 / 40000: loss 0.684972\n",
      "iteration 31700 / 40000: loss 0.618475\n",
      "iteration 31800 / 40000: loss 0.714800\n",
      "iteration 31900 / 40000: loss 0.638503\n",
      "iteration 32000 / 40000: loss 0.641941\n",
      "iteration 32100 / 40000: loss 0.593305\n",
      "iteration 32200 / 40000: loss 0.654858\n",
      "iteration 32300 / 40000: loss 0.634473\n",
      "iteration 32400 / 40000: loss 0.679379\n",
      "iteration 32500 / 40000: loss 0.627404\n",
      "iteration 32600 / 40000: loss 0.677027\n",
      "iteration 32700 / 40000: loss 0.656893\n",
      "iteration 32800 / 40000: loss 0.631231\n",
      "iteration 32900 / 40000: loss 0.630945\n",
      "iteration 33000 / 40000: loss 0.670560\n",
      "iteration 33100 / 40000: loss 0.745752\n",
      "iteration 33200 / 40000: loss 0.640309\n",
      "iteration 33300 / 40000: loss 0.668095\n",
      "iteration 33400 / 40000: loss 0.780728\n",
      "iteration 33500 / 40000: loss 0.586995\n",
      "iteration 33600 / 40000: loss 0.660342\n",
      "iteration 33700 / 40000: loss 0.649461\n",
      "iteration 33800 / 40000: loss 0.584523\n",
      "iteration 33900 / 40000: loss 0.698091\n",
      "iteration 34000 / 40000: loss 0.632573\n",
      "iteration 34100 / 40000: loss 0.655224\n",
      "iteration 34200 / 40000: loss 0.609691\n",
      "iteration 34300 / 40000: loss 0.578870\n",
      "iteration 34400 / 40000: loss 0.625131\n",
      "iteration 34500 / 40000: loss 0.645247\n",
      "iteration 34600 / 40000: loss 0.635698\n",
      "iteration 34700 / 40000: loss 0.646540\n",
      "iteration 34800 / 40000: loss 0.715574\n",
      "iteration 34900 / 40000: loss 0.658927\n",
      "iteration 35000 / 40000: loss 0.586624\n",
      "iteration 35100 / 40000: loss 0.645814\n",
      "iteration 35200 / 40000: loss 0.551878\n",
      "iteration 35300 / 40000: loss 0.638062\n",
      "iteration 35400 / 40000: loss 0.649936\n",
      "iteration 35500 / 40000: loss 0.691293\n",
      "iteration 35600 / 40000: loss 0.656807\n",
      "iteration 35700 / 40000: loss 0.611369\n",
      "iteration 35800 / 40000: loss 0.583443\n",
      "iteration 35900 / 40000: loss 0.595607\n",
      "iteration 36000 / 40000: loss 0.659064\n",
      "iteration 36100 / 40000: loss 0.621752\n",
      "iteration 36200 / 40000: loss 0.613848\n",
      "iteration 36300 / 40000: loss 0.682938\n",
      "iteration 36400 / 40000: loss 0.669554\n",
      "iteration 36500 / 40000: loss 0.680547\n",
      "iteration 36600 / 40000: loss 0.627280\n",
      "iteration 36700 / 40000: loss 0.640673\n",
      "iteration 36800 / 40000: loss 0.605518\n",
      "iteration 36900 / 40000: loss 0.598100\n",
      "iteration 37000 / 40000: loss 0.595986\n",
      "iteration 37100 / 40000: loss 0.664114\n",
      "iteration 37200 / 40000: loss 0.642348\n",
      "iteration 37300 / 40000: loss 0.628718\n",
      "iteration 37400 / 40000: loss 0.666044\n",
      "iteration 37500 / 40000: loss 0.657272\n",
      "iteration 37600 / 40000: loss 0.625484\n",
      "iteration 37700 / 40000: loss 0.663507\n",
      "iteration 37800 / 40000: loss 0.668016\n",
      "iteration 37900 / 40000: loss 0.601918\n",
      "iteration 38000 / 40000: loss 0.639319\n",
      "iteration 38100 / 40000: loss 0.655341\n",
      "iteration 38200 / 40000: loss 0.649702\n",
      "iteration 38300 / 40000: loss 0.665818\n",
      "iteration 38400 / 40000: loss 0.582855\n",
      "iteration 38500 / 40000: loss 0.653767\n",
      "iteration 38600 / 40000: loss 0.633366\n",
      "iteration 38700 / 40000: loss 0.661850\n",
      "iteration 38800 / 40000: loss 0.693080\n",
      "iteration 38900 / 40000: loss 0.634427\n",
      "iteration 39000 / 40000: loss 0.631762\n",
      "iteration 39100 / 40000: loss 0.560451\n",
      "iteration 39200 / 40000: loss 0.681978\n",
      "iteration 39300 / 40000: loss 0.625802\n",
      "iteration 39400 / 40000: loss 0.653317\n",
      "iteration 39500 / 40000: loss 0.638845\n",
      "iteration 39600 / 40000: loss 0.613255\n",
      "iteration 39700 / 40000: loss 0.687312\n",
      "iteration 39800 / 40000: loss 0.617029\n",
      "iteration 39900 / 40000: loss 0.683271\n",
      "Validation accuracy:  0.800214468366\n"
     ]
    }
   ],
   "source": [
    "# input_size = 32 * 32 * 3\n",
    "# hidden_size = 50\n",
    "# num_classes = 10\n",
    "\n",
    "input_size = 50\n",
    "hidden_size = 40\n",
    "num_classes = 2\n",
    "net = TwoLayerNet(input_size, hidden_size, num_classes)\n",
    "\n",
    "# Train the network\n",
    "stats = net.train(X_train, y_train, X_val, y_val,\n",
    "            num_iters=40000, batch_size=100,\n",
    "            learning_rate=0.000122574676049, learning_rate_decay=0.95,\n",
    "            reg=0.000257796641079, verbose=True)\n",
    "\n",
    "# Predict on the validation set\n",
    "val_acc = (net.predict(X_val) == y_val).mean()\n",
    "print 'Validation accuracy: ', val_acc\n",
    "\n"
   ]
  },
  {
   "cell_type": "markdown",
   "metadata": {},
   "source": [
    "# Debug the training\n",
    "With the default parameters we provided above, you should get a validation accuracy of about 0.29 on the validation set. This isn't very good.\n",
    "\n",
    "One strategy for getting insight into what's wrong is to plot the loss function and the accuracies on the training and validation sets during optimization.\n",
    "\n",
    "Another strategy is to visualize the weights that were learned in the first layer of the network. In most neural networks trained on visual data, the first layer weights typically show some visible structure when visualized."
   ]
  },
  {
   "cell_type": "code",
   "execution_count": 10,
   "metadata": {
    "collapsed": false
   },
   "outputs": [
    {
     "name": "stdout",
     "output_type": "stream",
     "text": [
      "(498687, 50)\n"
     ]
    }
   ],
   "source": [
    "activity_id = list(merged_test_df.activity_id)\n",
    "test_dataset = merged_test_df.drop(['people_id','activity_id','date_x','date_y'], 1)\n",
    "test_mat = np.array(test_dataset, dtype='int')\n",
    "print test_mat.shape"
   ]
  },
  {
   "cell_type": "code",
   "execution_count": 11,
   "metadata": {
    "collapsed": false
   },
   "outputs": [
    {
     "name": "stdout",
     "output_type": "stream",
     "text": [
      "(498687,)\n"
     ]
    }
   ],
   "source": [
    "ans = net.predict(test_mat)\n",
    "print ans.shape"
   ]
  },
  {
   "cell_type": "code",
   "execution_count": 12,
   "metadata": {
    "collapsed": false
   },
   "outputs": [
    {
     "data": {
      "text/html": [
       "<div>\n",
       "<table border=\"1\" class=\"dataframe\">\n",
       "  <thead>\n",
       "    <tr style=\"text-align: right;\">\n",
       "      <th></th>\n",
       "      <th>activity_id</th>\n",
       "      <th>outcome</th>\n",
       "    </tr>\n",
       "  </thead>\n",
       "  <tbody>\n",
       "    <tr>\n",
       "      <th>0</th>\n",
       "      <td>act1_249281</td>\n",
       "      <td>0</td>\n",
       "    </tr>\n",
       "    <tr>\n",
       "      <th>1</th>\n",
       "      <td>act2_230855</td>\n",
       "      <td>0</td>\n",
       "    </tr>\n",
       "    <tr>\n",
       "      <th>2</th>\n",
       "      <td>act1_240724</td>\n",
       "      <td>0</td>\n",
       "    </tr>\n",
       "    <tr>\n",
       "      <th>3</th>\n",
       "      <td>act1_83552</td>\n",
       "      <td>0</td>\n",
       "    </tr>\n",
       "    <tr>\n",
       "      <th>4</th>\n",
       "      <td>act2_1043301</td>\n",
       "      <td>0</td>\n",
       "    </tr>\n",
       "  </tbody>\n",
       "</table>\n",
       "</div>"
      ],
      "text/plain": [
       "    activity_id  outcome\n",
       "0   act1_249281        0\n",
       "1   act2_230855        0\n",
       "2   act1_240724        0\n",
       "3    act1_83552        0\n",
       "4  act2_1043301        0"
      ]
     },
     "execution_count": 12,
     "metadata": {},
     "output_type": "execute_result"
    }
   ],
   "source": [
    "output_df = pd.DataFrame({'activity_id' : activity_id, 'outcome': ans})\n",
    "output_df.head(5)"
   ]
  },
  {
   "cell_type": "code",
   "execution_count": 22,
   "metadata": {
    "collapsed": false
   },
   "outputs": [
    {
     "name": "stderr",
     "output_type": "stream",
     "text": [
      "/usr/local/lib/python2.7/site-packages/ipykernel/__main__.py:1: FutureWarning: sort(columns=....) is deprecated, use sort_values(by=.....)\n",
      "  if __name__ == '__main__':\n"
     ]
    }
   ],
   "source": [
    "output_df.sort(['activity_id','outcome']).to_csv('output_2NN.out', index=False)"
   ]
  },
  {
   "cell_type": "code",
   "execution_count": 13,
   "metadata": {
    "collapsed": false
   },
   "outputs": [
    {
     "data": {
      "image/png": "[encoded data removed]",
      "text/plain": [
       "<matplotlib.figure.Figure at 0x7f7ac25e95d0>"
      ]
     },
     "metadata": {},
     "output_type": "display_data"
    }
   ],
   "source": [
    "# Plot the loss function and train / validation accuracies\n",
    "plt.subplot(2, 1, 1)\n",
    "plt.plot(stats['loss_history'])\n",
    "plt.title('Loss history')\n",
    "plt.xlabel('Iteration')\n",
    "plt.ylabel('Loss')\n",
    "\n",
    "plt.subplot(2, 1, 2)\n",
    "plt.plot(stats['train_acc_history'], label='train', color='blue')\n",
    "plt.plot(stats['val_acc_history'], label='val', color='red')\n",
    "plt.title('Classification accuracy history')\n",
    "plt.xlabel('Epoch')\n",
    "plt.ylabel('Clasification accuracy')\n",
    "plt.show()"
   ]
  },
  {
   "cell_type": "code",
   "execution_count": 84,
   "metadata": {
    "collapsed": false
   },
   "outputs": [
    {
     "ename": "ValueError",
     "evalue": "total size of new array must be unchanged",
     "output_type": "error",
     "traceback": [
      "\u001b[0;31m---------------------------------------------------------------------------\u001b[0m",
      "\u001b[0;31mValueError\u001b[0m                                Traceback (most recent call last)",
      "\u001b[0;32m<ipython-input-84-b31a8c78de82>\u001b[0m in \u001b[0;36m<module>\u001b[0;34m()\u001b[0m\n\u001b[1;32m     10\u001b[0m   \u001b[0mplt\u001b[0m\u001b[0;34m.\u001b[0m\u001b[0mshow\u001b[0m\u001b[0;34m(\u001b[0m\u001b[0;34m)\u001b[0m\u001b[0;34m\u001b[0m\u001b[0m\n\u001b[1;32m     11\u001b[0m \u001b[0;34m\u001b[0m\u001b[0m\n\u001b[0;32m---> 12\u001b[0;31m \u001b[0mshow_net_weights\u001b[0m\u001b[0;34m(\u001b[0m\u001b[0mnet\u001b[0m\u001b[0;34m)\u001b[0m\u001b[0;34m\u001b[0m\u001b[0m\n\u001b[0m",
      "\u001b[0;32m<ipython-input-84-b31a8c78de82>\u001b[0m in \u001b[0;36mshow_net_weights\u001b[0;34m(net)\u001b[0m\n\u001b[1;32m      5\u001b[0m \u001b[0;32mdef\u001b[0m \u001b[0mshow_net_weights\u001b[0m\u001b[0;34m(\u001b[0m\u001b[0mnet\u001b[0m\u001b[0;34m)\u001b[0m\u001b[0;34m:\u001b[0m\u001b[0;34m\u001b[0m\u001b[0m\n\u001b[1;32m      6\u001b[0m   \u001b[0mW1\u001b[0m \u001b[0;34m=\u001b[0m \u001b[0mnet\u001b[0m\u001b[0;34m.\u001b[0m\u001b[0mparams\u001b[0m\u001b[0;34m[\u001b[0m\u001b[0;34m'W1'\u001b[0m\u001b[0;34m]\u001b[0m\u001b[0;34m\u001b[0m\u001b[0m\n\u001b[0;32m----> 7\u001b[0;31m   \u001b[0mW1\u001b[0m \u001b[0;34m=\u001b[0m \u001b[0mW1\u001b[0m\u001b[0;34m.\u001b[0m\u001b[0mreshape\u001b[0m\u001b[0;34m(\u001b[0m\u001b[0;36m32\u001b[0m\u001b[0;34m,\u001b[0m \u001b[0;36m32\u001b[0m\u001b[0;34m,\u001b[0m \u001b[0;36m3\u001b[0m\u001b[0;34m,\u001b[0m \u001b[0;34m-\u001b[0m\u001b[0;36m1\u001b[0m\u001b[0;34m)\u001b[0m\u001b[0;34m.\u001b[0m\u001b[0mtranspose\u001b[0m\u001b[0;34m(\u001b[0m\u001b[0;36m3\u001b[0m\u001b[0;34m,\u001b[0m \u001b[0;36m0\u001b[0m\u001b[0;34m,\u001b[0m \u001b[0;36m1\u001b[0m\u001b[0;34m,\u001b[0m \u001b[0;36m2\u001b[0m\u001b[0;34m)\u001b[0m\u001b[0;34m\u001b[0m\u001b[0m\n\u001b[0m\u001b[1;32m      8\u001b[0m   \u001b[0mplt\u001b[0m\u001b[0;34m.\u001b[0m\u001b[0mimshow\u001b[0m\u001b[0;34m(\u001b[0m\u001b[0mvisualize_grid\u001b[0m\u001b[0;34m(\u001b[0m\u001b[0mW1\u001b[0m\u001b[0;34m,\u001b[0m \u001b[0mpadding\u001b[0m\u001b[0;34m=\u001b[0m\u001b[0;36m3\u001b[0m\u001b[0;34m)\u001b[0m\u001b[0;34m.\u001b[0m\u001b[0mastype\u001b[0m\u001b[0;34m(\u001b[0m\u001b[0;34m'uint8'\u001b[0m\u001b[0;34m)\u001b[0m\u001b[0;34m)\u001b[0m\u001b[0;34m\u001b[0m\u001b[0m\n\u001b[1;32m      9\u001b[0m   \u001b[0mplt\u001b[0m\u001b[0;34m.\u001b[0m\u001b[0mgca\u001b[0m\u001b[0;34m(\u001b[0m\u001b[0;34m)\u001b[0m\u001b[0;34m.\u001b[0m\u001b[0maxis\u001b[0m\u001b[0;34m(\u001b[0m\u001b[0;34m'off'\u001b[0m\u001b[0;34m)\u001b[0m\u001b[0;34m\u001b[0m\u001b[0m\n",
      "\u001b[0;31mValueError\u001b[0m: total size of new array must be unchanged"
     ]
    }
   ],
   "source": [
    "from cs231n.vis_utils import visualize_grid\n",
    "\n",
    "# Visualize the weights of the network\n",
    "\n",
    "def show_net_weights(net):\n",
    "  W1 = net.params['W1']\n",
    "  W1 = W1.reshape(32, 32, 3, -1).transpose(3, 0, 1, 2)\n",
    "  plt.imshow(visualize_grid(W1, padding=3).astype('uint8'))\n",
    "  plt.gca().axis('off')\n",
    "  plt.show()\n",
    "\n",
    "show_net_weights(net)"
   ]
  },
  {
   "cell_type": "markdown",
   "metadata": {},
   "source": [
    "# Tune your hyperparameters\n",
    "\n",
    "**What's wrong?**. Looking at the visualizations above, we see that the loss is decreasing more or less linearly, which seems to suggest that the learning rate may be too low. Moreover, there is no gap between the training and validation accuracy, suggesting that the model we used has low capacity, and that we should increase its size. On the other hand, with a very large model we would expect to see more overfitting, which would manifest itself as a very large gap between the training and validation accuracy.\n",
    "\n",
    "**Tuning**. Tuning the hyperparameters and developing intuition for how they affect the final performance is a large part of using Neural Networks, so we want you to get a lot of practice. Below, you should experiment with different values of the various hyperparameters, including hidden layer size, learning rate, numer of training epochs, and regularization strength. You might also consider tuning the learning rate decay, but you should be able to get good performance using the default value.\n",
    "\n",
    "**Approximate results**. You should be aim to achieve a classification accuracy of greater than 48% on the validation set. Our best network gets over 52% on the validation set.\n",
    "\n",
    "**Experiment**: You goal in this exercise is to get as good of a result on CIFAR-10 as you can, with a fully-connected Neural Network. For every 1% above 52% on the Test set we will award you with one extra bonus point. Feel free implement your own techniques (e.g. PCA to reduce dimensionality, or adding dropout, or adding features to the solver, etc.)."
   ]
  },
  {
   "cell_type": "code",
   "execution_count": null,
   "metadata": {
    "collapsed": false
   },
   "outputs": [
    {
     "name": "stdout",
     "output_type": "stream",
     "text": [
      "2016-08-23 07:46:44.176113 val_acc: 0.640088517978\tlr: 0.000374164531811\treg: 0.000824799379746\t0/100\n",
      "2016-08-23 07:47:08.647174 val_acc: 0.626887620283\tlr: 0.000118939343391\treg: 1.35158094435\t1/100\n",
      "2016-08-23 07:47:33.113033 val_acc: 0.619179274505\tlr: 0.000327781892493\treg: 0.00158026952946\t2/100\n"
     ]
    }
   ],
   "source": [
    "best_net = None # store the best model into this \n",
    "\n",
    "#################################################################################\n",
    "# TODO: Tune hyperparameters using the validation set. Store your best trained  #\n",
    "# model in best_net.                                                            #\n",
    "#                                                                               #\n",
    "# To help debug your network, it may help to use visualizations similar to the  #\n",
    "# ones we used above; these visualizations will have significant qualitative    #\n",
    "# differences from the ones we saw above for the poorly tuned network.          #\n",
    "#                                                                               #\n",
    "# Tweaking hyperparameters by hand can be fun, but you might find it useful to  #\n",
    "# write code to sweep through possible combinations of hyperparameters          #\n",
    "# automatically like we did on the previous exercises.                          #\n",
    "#################################################################################\n",
    "import datetime\n",
    "\n",
    "# input_size = 32 * 32 * 3\n",
    "# hidden_size = 100\n",
    "# num_classes = 10\n",
    "# max_count = 100\n",
    "\n",
    "input_size = 50\n",
    "hidden_size = 40\n",
    "num_classes = 2\n",
    "max_count = 100\n",
    "\n",
    "net = TwoLayerNet(input_size, hidden_size, num_classes)\n",
    "best_val = 0\n",
    "best_reg = 0\n",
    "best_lr = 0\n",
    "\n",
    "for count in xrange(max_count):\n",
    "    reg = 10**np.random.uniform(-5,1)\n",
    "    lr = 10**np.random.uniform(-3,-4)    \n",
    "    net_cur = net.train(X_train, y_train, X_val, y_val,\n",
    "            num_iters=40000, batch_size=100,\n",
    "            learning_rate=lr, learning_rate_decay=0.95,\n",
    "            reg=reg, verbose=False)\n",
    "    val_acc = (net.predict(X_val) == y_val).mean()\n",
    "    if val_acc > best_val:\n",
    "        best_net = net_cur\n",
    "        best_val = val_acc\n",
    "        best_lr  = lr\n",
    "        best_reg = reg\n",
    "    print str(datetime.datetime.now())+' val_acc: '+str(val_acc)+'\\tlr: '+str(lr)+'\\treg: '+str(reg)+'\\t'+str(count)+'/'+str(max_count)\n",
    "\n",
    "print \"best_reg: \"+str(best_reg)\n",
    "print \"best_lr: \"+str(best_lr)\n",
    "\n",
    "#################################################################################\n",
    "#                               END OF YOUR CODE                                #\n",
    "#################################################################################"
   ]
  },
  {
   "cell_type": "code",
   "execution_count": 46,
   "metadata": {
    "collapsed": false
   },
   "outputs": [
    {
     "ename": "NameError",
     "evalue": "name 'show_net_weights' is not defined",
     "output_type": "error",
     "traceback": [
      "\u001b[0;31m---------------------------------------------------------------------------\u001b[0m",
      "\u001b[0;31mNameError\u001b[0m                                 Traceback (most recent call last)",
      "\u001b[0;32m<ipython-input-46-92183bf1948b>\u001b[0m in \u001b[0;36m<module>\u001b[0;34m()\u001b[0m\n\u001b[1;32m      1\u001b[0m \u001b[0;31m# visualize the weights of the best network\u001b[0m\u001b[0;34m\u001b[0m\u001b[0;34m\u001b[0m\u001b[0m\n\u001b[0;32m----> 2\u001b[0;31m \u001b[0mshow_net_weights\u001b[0m\u001b[0;34m(\u001b[0m\u001b[0mbest_net\u001b[0m\u001b[0;34m)\u001b[0m\u001b[0;34m\u001b[0m\u001b[0m\n\u001b[0m",
      "\u001b[0;31mNameError\u001b[0m: name 'show_net_weights' is not defined"
     ]
    }
   ],
   "source": [
    "# visualize the weights of the best network\n",
    "show_net_weights(best_net)"
   ]
  },
  {
   "cell_type": "markdown",
   "metadata": {},
   "source": [
    "# Run on the test set\n",
    "When you are done experimenting, you should evaluate your final trained network on the test set; you should get above 48%.\n",
    "\n",
    "**We will give you extra bonus point for every 1% of accuracy above 52%.**"
   ]
  },
  {
   "cell_type": "code",
   "execution_count": 47,
   "metadata": {
    "collapsed": false
   },
   "outputs": [
    {
     "ename": "AttributeError",
     "evalue": "'dict' object has no attribute 'predict'",
     "output_type": "error",
     "traceback": [
      "\u001b[0;31m---------------------------------------------------------------------------\u001b[0m",
      "\u001b[0;31mAttributeError\u001b[0m                            Traceback (most recent call last)",
      "\u001b[0;32m<ipython-input-47-758052de9fc4>\u001b[0m in \u001b[0;36m<module>\u001b[0;34m()\u001b[0m\n\u001b[0;32m----> 1\u001b[0;31m \u001b[0mtest_acc\u001b[0m \u001b[0;34m=\u001b[0m \u001b[0;34m(\u001b[0m\u001b[0mbest_net\u001b[0m\u001b[0;34m.\u001b[0m\u001b[0mpredict\u001b[0m\u001b[0;34m(\u001b[0m\u001b[0mX_test\u001b[0m\u001b[0;34m)\u001b[0m \u001b[0;34m==\u001b[0m \u001b[0my_test\u001b[0m\u001b[0;34m)\u001b[0m\u001b[0;34m.\u001b[0m\u001b[0mmean\u001b[0m\u001b[0;34m(\u001b[0m\u001b[0;34m)\u001b[0m\u001b[0;34m\u001b[0m\u001b[0m\n\u001b[0m\u001b[1;32m      2\u001b[0m \u001b[0;32mprint\u001b[0m \u001b[0;34m'Test accuracy: '\u001b[0m\u001b[0;34m,\u001b[0m \u001b[0mtest_acc\u001b[0m\u001b[0;34m\u001b[0m\u001b[0m\n",
      "\u001b[0;31mAttributeError\u001b[0m: 'dict' object has no attribute 'predict'"
     ]
    }
   ],
   "source": [
    "test_acc = (best_net.predict(X_test) == y_test).mean()\n",
    "print 'Test accuracy: ', test_acc"
   ]
  },
  {
   "cell_type": "code",
   "execution_count": null,
   "metadata": {
    "collapsed": true
   },
   "outputs": [],
   "source": []
  }
 ],
 "metadata": {
  "kernelspec": {
   "display_name": "Python [Root]",
   "language": "python",
   "name": "Python [Root]"
  },
  "language_info": {
   "codemirror_mode": {
    "name": "ipython",
    "version": 2
   },
   "file_extension": ".py",
   "mimetype": "text/x-python",
   "name": "python",
   "nbconvert_exporter": "python",
   "pygments_lexer": "ipython2",
   "version": "2.7.12"
  }
 },
 "nbformat": 4,
 "nbformat_minor": 0
}
