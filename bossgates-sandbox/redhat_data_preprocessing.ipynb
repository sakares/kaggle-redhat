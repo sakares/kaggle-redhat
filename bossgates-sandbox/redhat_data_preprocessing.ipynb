{
 "cells": [
  {
   "cell_type": "markdown",
   "metadata": {},
   "source": [
    "## Header"
   ]
  },
  {
   "cell_type": "code",
   "execution_count": 1,
   "metadata": {
    "collapsed": true
   },
   "outputs": [],
   "source": [
    "import sklearn,numpy as np, pandas as pd, pprint"
   ]
  },
  {
   "cell_type": "markdown",
   "metadata": {},
   "source": [
    "## Import train and test datasets and parse them\n",
    "### Training dataset"
   ]
  },
  {
   "cell_type": "code",
   "execution_count": 2,
   "metadata": {
    "collapsed": true
   },
   "outputs": [],
   "source": [
    "train_df = pd.read_csv('act_train.csv')\n",
    "people_df = pd.read_csv('people.csv')\n",
    "train_df = pd.merge(train_df, people_df, on='people_id') #merge with people_df"
   ]
  },
  {
   "cell_type": "code",
   "execution_count": 3,
   "metadata": {
    "collapsed": false
   },
   "outputs": [
    {
     "name": "stdout",
     "output_type": "stream",
     "text": [
      "group_1\n",
      "- is type/category\n",
      "char_12\n",
      "- is boolean\n",
      "char_33\n",
      "- is boolean\n",
      "char_2_y\n",
      "- is type/category\n",
      "activity_category\n",
      "- is type/category\n",
      "char_38\n",
      "- is integer\n",
      "char_1_y\n",
      "- is type/category\n",
      "char_8_y\n",
      "- is type/category\n",
      "char_19\n",
      "- is boolean\n",
      "char_18\n",
      "- is boolean\n",
      "char_17\n",
      "- is boolean\n",
      "char_8_x\n",
      "- is type/category\n",
      "char_15\n",
      "- is boolean\n",
      "char_32\n",
      "- is boolean\n",
      "char_9_y\n",
      "- is type/category\n",
      "char_9_x\n",
      "- is type/category\n",
      "char_11\n",
      "- is boolean\n",
      "char_1_x\n",
      "- is type/category\n",
      "char_3_y\n",
      "- is type/category\n",
      "char_3_x\n",
      "- is type/category\n",
      "char_6_y\n",
      "- is type/category\n",
      "char_5_y\n",
      "- is type/category\n",
      "char_31\n",
      "- is boolean\n",
      "outcome\n",
      "- is integer\n",
      "char_25\n",
      "- is boolean\n",
      "char_10_x\n",
      "- is type/category\n",
      "char_10_y\n",
      "- is boolean\n",
      "char_30\n",
      "- is boolean\n",
      "char_2_x\n",
      "- is type/category\n",
      "char_35\n",
      "- is boolean\n",
      "char_16\n",
      "- is boolean\n",
      "char_26\n",
      "- is boolean\n",
      "char_27\n",
      "- is boolean\n",
      "char_24\n",
      "- is boolean\n",
      "char_14\n",
      "- is boolean\n",
      "char_22\n",
      "- is boolean\n",
      "char_23\n",
      "- is boolean\n",
      "char_20\n",
      "- is boolean\n",
      "char_5_x\n",
      "- is type/category\n",
      "char_4_x\n",
      "- is type/category\n",
      "char_13\n",
      "- is boolean\n",
      "char_21\n",
      "- is boolean\n",
      "char_28\n",
      "- is boolean\n",
      "char_29\n",
      "- is boolean\n",
      "char_37\n",
      "- is boolean\n",
      "char_6_x\n",
      "- is type/category\n",
      "char_4_y\n",
      "- is type/category\n",
      "char_34\n",
      "- is boolean\n",
      "char_36\n",
      "- is boolean\n",
      "char_7_y\n",
      "- is type/category\n",
      "char_7_x\n",
      "- is type/category\n"
     ]
    }
   ],
   "source": [
    "train_df_col = train_df.columns\n",
    "parsed_col = set(train_df_col) - set(['people_id','activity_id','date_x','date_y'])\n",
    "for col in parsed_col:\n",
    "    print (col)\n",
    "    if(type(train_df[col][0]) is np.bool_):\n",
    "        print('- is boolean')\n",
    "        train_df[col] = train_df[col].astype('int64')\n",
    "    elif (type(train_df[col][0]) is np.int64 or type(train_df[col][0]) is np.long):\n",
    "        print('- is integer')\n",
    "        train_df[col] = train_df[col].astype('int64')\n",
    "    else:\n",
    "        print('- is type/category')\n",
    "        train_df[col] = train_df[col].replace({'group': '', 'type':'', ' ':'', np.nan : '0'}, regex = True).astype('int64')"
   ]
  },
  {
   "cell_type": "code",
   "execution_count": 4,
   "metadata": {
    "collapsed": false
   },
   "outputs": [],
   "source": [
    "train_dataset = train_df.drop(['people_id','activity_id','date_x','date_y','outcome'], 1)\n",
    "train_outcome = np.array(train_df.outcome)\n",
    "train_mat = np.array(train_dataset, dtype='int')"
   ]
  },
  {
   "cell_type": "code",
   "execution_count": null,
   "metadata": {
    "collapsed": true
   },
   "outputs": [],
   "source": []
  },
  {
   "cell_type": "markdown",
   "metadata": {},
   "source": [
    "### Testing dataset"
   ]
  },
  {
   "cell_type": "code",
   "execution_count": 5,
   "metadata": {
    "collapsed": true
   },
   "outputs": [],
   "source": [
    "test_df = pd.read_csv('act_test.csv')\n",
    "#people_df already imported"
   ]
  },
  {
   "cell_type": "code",
   "execution_count": 6,
   "metadata": {
    "collapsed": false
   },
   "outputs": [
    {
     "name": "stdout",
     "output_type": "stream",
     "text": [
      "group_1\n",
      "- is type/category\n",
      "char_12\n",
      "- is boolean\n",
      "char_33\n",
      "- is boolean\n",
      "char_2_y\n",
      "- is type/category\n",
      "activity_category\n",
      "- is type/category\n",
      "char_38\n",
      "- is integer\n",
      "char_1_y\n",
      "- is type/category\n",
      "char_8_y\n",
      "- is type/category\n",
      "char_19\n",
      "- is boolean\n",
      "char_18\n",
      "- is boolean\n",
      "char_17\n",
      "- is boolean\n",
      "char_8_x\n",
      "- is type/category\n",
      "char_15\n",
      "- is boolean\n",
      "char_32\n",
      "- is boolean\n",
      "char_9_y\n",
      "- is type/category\n",
      "char_9_x\n",
      "- is type/category\n",
      "char_11\n",
      "- is boolean\n",
      "char_1_x\n",
      "- is type/category\n",
      "char_3_y\n",
      "- is type/category\n",
      "char_3_x\n",
      "- is type/category\n",
      "char_6_y\n",
      "- is type/category\n",
      "char_5_y\n",
      "- is type/category\n",
      "char_31\n",
      "- is boolean\n",
      "char_25\n",
      "- is boolean\n",
      "char_10_x\n",
      "- is type/category\n",
      "char_10_y\n",
      "- is boolean\n",
      "char_30\n",
      "- is boolean\n",
      "char_2_x\n",
      "- is type/category\n",
      "char_35\n",
      "- is boolean\n",
      "char_16\n",
      "- is boolean\n",
      "char_26\n",
      "- is boolean\n",
      "char_27\n",
      "- is boolean\n",
      "char_24\n",
      "- is boolean\n",
      "char_14\n",
      "- is boolean\n",
      "char_22\n",
      "- is boolean\n",
      "char_23\n",
      "- is boolean\n",
      "char_20\n",
      "- is boolean\n",
      "char_5_x\n",
      "- is type/category\n",
      "char_4_x\n",
      "- is type/category\n",
      "char_13\n",
      "- is boolean\n",
      "char_21\n",
      "- is boolean\n",
      "char_28\n",
      "- is boolean\n",
      "char_29\n",
      "- is boolean\n",
      "char_37\n",
      "- is boolean\n",
      "char_6_x\n",
      "- is type/category\n",
      "char_4_y\n",
      "- is type/category\n",
      "char_34\n",
      "- is boolean\n",
      "char_36\n",
      "- is boolean\n",
      "char_7_y\n",
      "- is type/category\n",
      "char_7_x\n",
      "- is type/category\n"
     ]
    }
   ],
   "source": [
    "test_df = pd.merge(test_df, people_df, on='people_id')\n",
    "merged_test_col = test_df.columns\n",
    "parsed_test_col = set(merged_test_col) - set(['people_id','activity_id','date_x','date_y'])\n",
    "for col in parsed_test_col:\n",
    "    print (col)\n",
    "    if(type(test_df[col][0]) is np.bool_):\n",
    "        print('- is boolean')\n",
    "        test_df[col] = test_df[col].astype('int64')\n",
    "    elif (type(test_df[col][0]) is np.int64 or type(test_df[col][0]) is np.long):\n",
    "        print('- is integer')\n",
    "        test_df[col] = test_df[col].astype('int64')\n",
    "    else:\n",
    "        print('- is type/category')\n",
    "        test_df[col] = test_df[col].replace({'group': '', 'type':'', ' ':'', np.nan : '0'}, regex = True).astype('int64')"
   ]
  },
  {
   "cell_type": "code",
   "execution_count": 7,
   "metadata": {
    "collapsed": true
   },
   "outputs": [],
   "source": [
    "activity_id = list(test_df.activity_id)\n",
    "test_dataset = test_df.drop(['people_id','activity_id','date_x','date_y'], 1)\n",
    "test_mat = np.array(test_dataset, dtype='int')"
   ]
  },
  {
   "cell_type": "code",
   "execution_count": 8,
   "metadata": {
    "collapsed": false
   },
   "outputs": [
    {
     "data": {
      "text/plain": [
       "array([    1,     5,    10,     5,     1,     6,     1,     1,     7,\n",
       "           4,     0,     2, 22593,     3,    40,    25,     9,     4,\n",
       "          16,     2,     2,     1,     1,     1,     1,     1,     0,\n",
       "           1,     1,     1,     1,     1,     1,     1,     1,     0,\n",
       "           1,     1,     1,     1,     1,     1,     1,     1,     1,\n",
       "           1,     1,     1,     1,    76])"
      ]
     },
     "execution_count": 8,
     "metadata": {},
     "output_type": "execute_result"
    }
   ],
   "source": [
    "test_mat[0]"
   ]
  },
  {
   "cell_type": "code",
   "execution_count": null,
   "metadata": {
    "collapsed": true
   },
   "outputs": [],
   "source": []
  },
  {
   "cell_type": "code",
   "execution_count": null,
   "metadata": {
    "collapsed": true
   },
   "outputs": [],
   "source": []
  },
  {
   "cell_type": "markdown",
   "metadata": {},
   "source": [
    "### Feature selection on training dataset\n",
    "##### Try Tree-based feature selection - for Random forest"
   ]
  },
  {
   "cell_type": "code",
   "execution_count": 9,
   "metadata": {
    "collapsed": true
   },
   "outputs": [],
   "source": [
    "from sklearn.feature_selection import SelectFromModel\n",
    "from sklearn.ensemble import RandomForestClassifier\n",
    "import sklearn.cross_validation as cross_validation"
   ]
  },
  {
   "cell_type": "code",
   "execution_count": 10,
   "metadata": {
    "collapsed": false
   },
   "outputs": [
    {
     "data": {
      "text/plain": [
       "RandomForestClassifier(bootstrap=True, class_weight=None, criterion='gini',\n",
       "            max_depth=None, max_features='auto', max_leaf_nodes=None,\n",
       "            min_samples_leaf=1, min_samples_split=2,\n",
       "            min_weight_fraction_leaf=0.0, n_estimators=10, n_jobs=1,\n",
       "            oob_score=False, random_state=None, verbose=0,\n",
       "            warm_start=False)"
      ]
     },
     "execution_count": 10,
     "metadata": {},
     "output_type": "execute_result"
    }
   ],
   "source": [
    "clf = RandomForestClassifier()\n",
    "clf.fit(train_mat, train_outcome)"
   ]
  },
  {
   "cell_type": "code",
   "execution_count": 11,
   "metadata": {
    "collapsed": false
   },
   "outputs": [
    {
     "data": {
      "text/plain": [
       "0.867831344876002"
      ]
     },
     "execution_count": 11,
     "metadata": {},
     "output_type": "execute_result"
    }
   ],
   "source": [
    "rf1_scores = cross_validation.cross_val_score(clf, train_mat, train_outcome, cv = 2)\n",
    "np.average(rf1_scores)"
   ]
  },
  {
   "cell_type": "code",
   "execution_count": 12,
   "metadata": {
    "collapsed": false
   },
   "outputs": [
    {
     "data": {
      "text/plain": [
       "array([ 0.0122613 ,  0.00141322,  0.00135953,  0.00132728,  0.00091841,\n",
       "        0.00095247,  0.00093681,  0.00124929,  0.00124846,  0.0016058 ,\n",
       "        0.02868474,  0.02396131,  0.15080225,  0.11317733,  0.02510518,\n",
       "        0.02457666,  0.01919941,  0.03605032,  0.04955736,  0.0324306 ,\n",
       "        0.01783423,  0.01050717,  0.00355047,  0.00322893,  0.0149201 ,\n",
       "        0.00348412,  0.00319559,  0.00271435,  0.00303701,  0.00355161,\n",
       "        0.00242033,  0.0033307 ,  0.00215652,  0.00302341,  0.00365421,\n",
       "        0.00283386,  0.01391001,  0.00290132,  0.00326653,  0.00189949,\n",
       "        0.00343184,  0.00288579,  0.00421644,  0.00428759,  0.00315205,\n",
       "        0.01463262,  0.00400097,  0.00433073,  0.01060952,  0.31621471])"
      ]
     },
     "execution_count": 12,
     "metadata": {},
     "output_type": "execute_result"
    }
   ],
   "source": [
    "# look at feature importances from the classifier\n",
    "clf.feature_importances_"
   ]
  },
  {
   "cell_type": "code",
   "execution_count": 13,
   "metadata": {
    "collapsed": false
   },
   "outputs": [
    {
     "data": {
      "text/plain": [
       "(2197291, 50)"
      ]
     },
     "execution_count": 13,
     "metadata": {},
     "output_type": "execute_result"
    }
   ],
   "source": [
    "train_mat.shape"
   ]
  },
  {
   "cell_type": "code",
   "execution_count": 14,
   "metadata": {
    "collapsed": true
   },
   "outputs": [],
   "source": [
    "model = SelectFromModel(clf, prefit=True)\n",
    "new_train_mat = model.transform(train_mat)"
   ]
  },
  {
   "cell_type": "code",
   "execution_count": 15,
   "metadata": {
    "collapsed": false
   },
   "outputs": [
    {
     "data": {
      "text/plain": [
       "(2197291, 10)"
      ]
     },
     "execution_count": 15,
     "metadata": {},
     "output_type": "execute_result"
    }
   ],
   "source": [
    "new_train_mat.shape"
   ]
  },
  {
   "cell_type": "code",
   "execution_count": 16,
   "metadata": {
    "collapsed": true
   },
   "outputs": [],
   "source": [
    "new_test_mat = model.transform(test_mat)"
   ]
  },
  {
   "cell_type": "code",
   "execution_count": 17,
   "metadata": {
    "collapsed": false
   },
   "outputs": [
    {
     "data": {
      "text/plain": [
       "(498687, 10)"
      ]
     },
     "execution_count": 17,
     "metadata": {},
     "output_type": "execute_result"
    }
   ],
   "source": [
    "new_test_mat.shape"
   ]
  },
  {
   "cell_type": "code",
   "execution_count": null,
   "metadata": {
    "collapsed": true
   },
   "outputs": [],
   "source": []
  },
  {
   "cell_type": "markdown",
   "metadata": {},
   "source": [
    "### Build a new classifier"
   ]
  },
  {
   "cell_type": "code",
   "execution_count": 18,
   "metadata": {
    "collapsed": true
   },
   "outputs": [],
   "source": [
    "main_clf = RandomForestClassifier()"
   ]
  },
  {
   "cell_type": "code",
   "execution_count": 19,
   "metadata": {
    "collapsed": false
   },
   "outputs": [
    {
     "data": {
      "text/plain": [
       "RandomForestClassifier(bootstrap=True, class_weight=None, criterion='gini',\n",
       "            max_depth=None, max_features='auto', max_leaf_nodes=None,\n",
       "            min_samples_leaf=1, min_samples_split=2,\n",
       "            min_weight_fraction_leaf=0.0, n_estimators=10, n_jobs=1,\n",
       "            oob_score=False, random_state=None, verbose=0,\n",
       "            warm_start=False)"
      ]
     },
     "execution_count": 19,
     "metadata": {},
     "output_type": "execute_result"
    }
   ],
   "source": [
    "main_clf.fit(new_train_mat, train_outcome)"
   ]
  },
  {
   "cell_type": "code",
   "execution_count": 21,
   "metadata": {
    "collapsed": false
   },
   "outputs": [
    {
     "data": {
      "text/plain": [
       "0.84039209131259862"
      ]
     },
     "execution_count": 21,
     "metadata": {},
     "output_type": "execute_result"
    }
   ],
   "source": [
    "rf2_scores = cross_validation.cross_val_score(main_clf, new_train_mat, train_outcome, cv = 2)\n",
    "np.average(rf2_scores)"
   ]
  },
  {
   "cell_type": "code",
   "execution_count": 24,
   "metadata": {
    "collapsed": false
   },
   "outputs": [],
   "source": [
    "rf_ans = main_clf.predict(new_test_mat)"
   ]
  },
  {
   "cell_type": "code",
   "execution_count": 25,
   "metadata": {
    "collapsed": true
   },
   "outputs": [],
   "source": [
    "rf_output_df = pd.DataFrame({'activity_id' : activity_id, 'outcome': rf_ans})"
   ]
  },
  {
   "cell_type": "code",
   "execution_count": 26,
   "metadata": {
    "collapsed": false
   },
   "outputs": [
    {
     "name": "stderr",
     "output_type": "stream",
     "text": [
      "/Users/BG2Air/anaconda/lib/python2.7/site-packages/ipykernel/__main__.py:1: FutureWarning: sort(columns=....) is deprecated, use sort_values(by=.....)\n",
      "  if __name__ == '__main__':\n"
     ]
    }
   ],
   "source": [
    "rf_output_df.sort(['activity_id','outcome']).to_csv('output_RF_ClassifierSel.out', index=False)"
   ]
  },
  {
   "cell_type": "markdown",
   "metadata": {},
   "source": [
    "Note: Didn't make improvement in contrast the accuracy drops"
   ]
  }
 ],
 "metadata": {
  "kernelspec": {
   "display_name": "Python 2",
   "language": "python",
   "name": "python2"
  },
  "language_info": {
   "codemirror_mode": {
    "name": "ipython",
    "version": 2
   },
   "file_extension": ".py",
   "mimetype": "text/x-python",
   "name": "python",
   "nbconvert_exporter": "python",
   "pygments_lexer": "ipython2",
   "version": "2.7.12"
  }
 },
 "nbformat": 4,
 "nbformat_minor": 0
}
