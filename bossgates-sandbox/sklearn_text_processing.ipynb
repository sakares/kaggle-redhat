{
 "cells": [
  {
   "cell_type": "code",
   "execution_count": 172,
   "metadata": {
    "collapsed": true
   },
   "outputs": [],
   "source": [
    "from sklearn.feature_extraction import text as sk_text\n",
    "import pprint\n",
    "import re,numpy"
   ]
  },
  {
   "cell_type": "code",
   "execution_count": 173,
   "metadata": {
    "collapsed": false
   },
   "outputs": [],
   "source": [
    "fo = open('trump.out', 'rb')\n",
    "lines = fo.readlines()\n",
    "lines = [re.sub(r'https?:\\/\\/.*[\\r\\n]*', '', text) for text in lines] #remove urls"
   ]
  },
  {
   "cell_type": "code",
   "execution_count": 174,
   "metadata": {
    "collapsed": false
   },
   "outputs": [
    {
     "data": {
      "text/plain": [
       "\"Trump Jr. rips Clinton aide's 'lies' about dad, Putin \""
      ]
     },
     "execution_count": 174,
     "metadata": {},
     "output_type": "execute_result"
    }
   ],
   "source": [
    "lines[0]"
   ]
  },
  {
   "cell_type": "code",
   "execution_count": 175,
   "metadata": {
    "collapsed": false
   },
   "outputs": [],
   "source": [
    "vect = sk_text.CountVectorizer(stop_words=sklearn.feature_extraction.stop_words.ENGLISH_STOP_WORDS)"
   ]
  },
  {
   "cell_type": "code",
   "execution_count": 176,
   "metadata": {
    "collapsed": false
   },
   "outputs": [],
   "source": [
    "mat = vect.fit_transform(lines)"
   ]
  },
  {
   "cell_type": "code",
   "execution_count": 177,
   "metadata": {
    "collapsed": false
   },
   "outputs": [
    {
     "name": "stdout",
     "output_type": "stream",
     "text": [
      "  (0, 7433)\t1\n",
      "  (0, 3932)\t1\n",
      "  (0, 6129)\t1\n",
      "  (0, 1425)\t1\n",
      "  (0, 323)\t1\n",
      "  (0, 4252)\t1\n",
      "  (0, 1825)\t1\n",
      "  (0, 5740)\t1\n",
      "  (1, 7433)\t1\n",
      "  (1, 1364)\t1\n",
      "  (1, 4981)\t1\n",
      "  (1, 666)\t1\n",
      "  (1, 3051)\t1\n",
      "  (1, 6189)\t1\n",
      "  (1, 7259)\t1\n",
      "  (2, 7433)\t1\n",
      "  (2, 1425)\t1\n",
      "  (2, 1825)\t1\n",
      "  (2, 2680)\t1\n",
      "  (2, 7843)\t1\n",
      "  (2, 1319)\t1\n",
      "  (2, 6305)\t1\n",
      "  (2, 3785)\t1\n",
      "  (2, 569)\t1\n",
      "  (2, 2493)\t1\n",
      "  :\t:\n",
      "  (5689, 5275)\t1\n",
      "  (5689, 5521)\t1\n",
      "  (5689, 388)\t1\n",
      "  (5689, 5915)\t1\n",
      "  (5689, 2197)\t1\n",
      "  (5689, 5584)\t1\n",
      "  (5689, 4964)\t1\n",
      "  (5690, 7433)\t2\n",
      "  (5690, 2214)\t2\n",
      "  (5690, 7855)\t1\n",
      "  (5690, 5521)\t1\n",
      "  (5690, 388)\t1\n",
      "  (5690, 5915)\t1\n",
      "  (5690, 2197)\t1\n",
      "  (5691, 7433)\t2\n",
      "  (5691, 2214)\t2\n",
      "  (5691, 6031)\t1\n",
      "  (5691, 7855)\t1\n",
      "  (5691, 5275)\t1\n",
      "  (5691, 5521)\t1\n",
      "  (5691, 388)\t1\n",
      "  (5691, 5915)\t1\n",
      "  (5691, 2197)\t1\n",
      "  (5691, 5584)\t1\n",
      "  (5691, 4964)\t1\n"
     ]
    }
   ],
   "source": [
    "print(mat)"
   ]
  },
  {
   "cell_type": "code",
   "execution_count": 178,
   "metadata": {
    "collapsed": true
   },
   "outputs": [],
   "source": [
    "tf_transformer = sk_text.TfidfTransformer().fit(mat)"
   ]
  },
  {
   "cell_type": "code",
   "execution_count": 179,
   "metadata": {
    "collapsed": true
   },
   "outputs": [],
   "source": [
    "mat_tfidf = tf_transformer.transform(mat)"
   ]
  },
  {
   "cell_type": "code",
   "execution_count": 180,
   "metadata": {
    "collapsed": false
   },
   "outputs": [
    {
     "name": "stdout",
     "output_type": "stream",
     "text": [
      "  (0, 5740)\t0.278486223576\n",
      "  (0, 1825)\t0.402660187431\n",
      "  (0, 4252)\t0.371098590717\n",
      "  (0, 323)\t0.505166411492\n",
      "  (0, 1425)\t0.176938045005\n",
      "  (0, 6129)\t0.384796903718\n",
      "  (0, 3932)\t0.428385302501\n",
      "  (0, 7433)\t0.0671806007951\n",
      "  (1, 7259)\t0.402113878123\n",
      "  (1, 6189)\t0.435854863673\n",
      "  (1, 3051)\t0.374872927365\n",
      "  (1, 666)\t0.402113878123\n",
      "  (1, 4981)\t0.435854863673\n",
      "  (1, 1364)\t0.391251706926\n",
      "  (1, 7433)\t0.055338267258\n",
      "  (2, 7983)\t0.321339867667\n",
      "  (2, 5304)\t0.310945292434\n",
      "  (2, 2493)\t0.348576168329\n",
      "  (2, 569)\t0.284246783356\n",
      "  (2, 3785)\t0.300839558661\n",
      "  (2, 6305)\t0.21044669226\n",
      "  (2, 1319)\t0.344680518315\n",
      "  (2, 7843)\t0.263443235716\n",
      "  (2, 2680)\t0.374808935642\n",
      "  (2, 1825)\t0.331624205836\n",
      "  :\t:\n",
      "  (5689, 388)\t0.298997692905\n",
      "  (5689, 5521)\t0.361071874322\n",
      "  (5689, 5275)\t0.320379807124\n",
      "  (5689, 7855)\t0.304162009114\n",
      "  (5689, 6031)\t0.272971137985\n",
      "  (5689, 2214)\t0.282450572273\n",
      "  (5689, 7433)\t0.133477339396\n",
      "  (5690, 2197)\t0.335891868732\n",
      "  (5690, 5915)\t0.389670443416\n",
      "  (5690, 388)\t0.400480012022\n",
      "  (5690, 5521)\t0.483622690076\n",
      "  (5690, 7855)\t0.40739714037\n",
      "  (5690, 2214)\t0.378316660174\n",
      "  (5690, 7433)\t0.178780665384\n",
      "  (5691, 4964)\t0.290391153644\n",
      "  (5691, 5584)\t0.425567274907\n",
      "  (5691, 2197)\t0.250776295449\n",
      "  (5691, 5915)\t0.290927287448\n",
      "  (5691, 388)\t0.298997692905\n",
      "  (5691, 5521)\t0.361071874322\n",
      "  (5691, 5275)\t0.320379807124\n",
      "  (5691, 7855)\t0.304162009114\n",
      "  (5691, 6031)\t0.272971137985\n",
      "  (5691, 2214)\t0.282450572273\n",
      "  (5691, 7433)\t0.133477339396\n"
     ]
    }
   ],
   "source": [
    "print(mat_tfidf)"
   ]
  },
  {
   "cell_type": "code",
   "execution_count": 181,
   "metadata": {
    "collapsed": false
   },
   "outputs": [
    {
     "data": {
      "text/plain": [
       "u'diaster'"
      ]
     },
     "execution_count": 181,
     "metadata": {},
     "output_type": "execute_result"
    }
   ],
   "source": [
    "mapping_names = vect.get_feature_names()\n",
    "mapping_names[2065] #index "
   ]
  },
  {
   "cell_type": "code",
   "execution_count": 182,
   "metadata": {
    "collapsed": false
   },
   "outputs": [
    {
     "data": {
      "text/plain": [
       "8137"
      ]
     },
     "execution_count": 182,
     "metadata": {},
     "output_type": "execute_result"
    }
   ],
   "source": [
    "len(mapping_names)"
   ]
  },
  {
   "cell_type": "markdown",
   "metadata": {},
   "source": [
    "### LDA test\n"
   ]
  },
  {
   "cell_type": "code",
   "execution_count": 190,
   "metadata": {
    "collapsed": true
   },
   "outputs": [],
   "source": [
    "from sklearn.decomposition import NMF, LatentDirichletAllocation\n",
    "num_topic = 5"
   ]
  },
  {
   "cell_type": "code",
   "execution_count": null,
   "metadata": {
    "collapsed": true
   },
   "outputs": [],
   "source": []
  },
  {
   "cell_type": "code",
   "execution_count": 191,
   "metadata": {
    "collapsed": true
   },
   "outputs": [],
   "source": [
    "lda = LatentDirichletAllocation(n_topics=num_topic)"
   ]
  },
  {
   "cell_type": "code",
   "execution_count": 192,
   "metadata": {
    "collapsed": false
   },
   "outputs": [
    {
     "data": {
      "text/plain": [
       "LatentDirichletAllocation(batch_size=128, doc_topic_prior=None,\n",
       "             evaluate_every=-1, learning_decay=0.7,\n",
       "             learning_method='online', learning_offset=10.0,\n",
       "             max_doc_update_iter=100, max_iter=10, mean_change_tol=0.001,\n",
       "             n_jobs=1, n_topics=5, perp_tol=0.1, random_state=None,\n",
       "             topic_word_prior=None, total_samples=1000000.0, verbose=0)"
      ]
     },
     "execution_count": 192,
     "metadata": {},
     "output_type": "execute_result"
    }
   ],
   "source": [
    "lda.fit(mat_tfidf)"
   ]
  },
  {
   "cell_type": "code",
   "execution_count": 193,
   "metadata": {
    "collapsed": false
   },
   "outputs": [
    {
     "name": "stdout",
     "output_type": "stream",
     "text": [
      "Topic #1\n",
      "unfit/classified/intel/congressman/receive/trump/michael/che/colin/water\n",
      "Topic #2\n",
      "trump/russia/donald/clinton/hillary/hack/reddit/emails/ama/called\n",
      "Topic #3\n",
      "america/does/great/donald/trump/americans/republican/feel/nominee/millions\n",
      "Topic #4\n",
      "trump/biden/donald/obama/president/safe/rhetoric/dnc/make/speech\n",
      "Topic #5\n",
      "trump/amp/vote/like/mr/don/realdonaldtrump/people/media/just\n"
     ]
    }
   ],
   "source": [
    "count = 0\n",
    "n_keywords = 10\n",
    "for topic in lda.components_:\n",
    "    print(\"Topic #%d\" % (count+1))\n",
    "    # topic is a #features-size numpy array \n",
    "    print(\"/\".join([mapping_names[i] for i in topic.argsort()[:-n_keywords-1:-1]]))\n",
    "    count += 1"
   ]
  },
  {
   "cell_type": "markdown",
   "metadata": {},
   "source": [
    "### Numpy.array/ndarray has argmax/argmin/argsort"
   ]
  },
  {
   "cell_type": "code",
   "execution_count": 187,
   "metadata": {
    "collapsed": false
   },
   "outputs": [
    {
     "data": {
      "text/plain": [
       "array([2, 3, 0, 1, 4], dtype=int64)"
      ]
     },
     "execution_count": 187,
     "metadata": {},
     "output_type": "execute_result"
    }
   ],
   "source": [
    "test_array = numpy.array([5,6,1,2,8])\n",
    "test_array.argsort()"
   ]
  },
  {
   "cell_type": "code",
   "execution_count": 188,
   "metadata": {
    "collapsed": false
   },
   "outputs": [
    {
     "data": {
      "text/plain": [
       "[1, 2, 5, 6, 8]"
      ]
     },
     "execution_count": 188,
     "metadata": {},
     "output_type": "execute_result"
    }
   ],
   "source": [
    "sorted_list = [test_array[i] for i in test_array.argsort()]\n",
    "sorted_list"
   ]
  },
  {
   "cell_type": "code",
   "execution_count": null,
   "metadata": {
    "collapsed": true
   },
   "outputs": [],
   "source": []
  }
 ],
 "metadata": {
  "kernelspec": {
   "display_name": "Python [Python2]",
   "language": "python",
   "name": "Python [Python2]"
  },
  "language_info": {
   "codemirror_mode": {
    "name": "ipython",
    "version": 2
   },
   "file_extension": ".py",
   "mimetype": "text/x-python",
   "name": "python",
   "nbconvert_exporter": "python",
   "pygments_lexer": "ipython2",
   "version": "2.7.12"
  }
 },
 "nbformat": 4,
 "nbformat_minor": 0
}
